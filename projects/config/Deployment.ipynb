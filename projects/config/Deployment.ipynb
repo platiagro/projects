{
 "cells": [
  {
   "cell_type": "markdown",
   "metadata": {},
   "source": [
    "# Nova Tarefa - Implantação\n",
    "\n",
    "Preencha aqui com detalhes sobre a tarefa.<br>\n",
    "### **Em caso de dúvidas, consulte os [tutoriais da PlatIAgro](https://platiagro.github.io/tutorials/).**"
   ]
  },
  {
   "cell_type": "markdown",
   "metadata": {},
   "source": [
    "## Declaração de Classe para Predições em Tempo Real\n",
    "\n",
    "A tarefa de implantação cria um serviço REST para predições em tempo-real.<br>\n",
    "Para isso você deve criar uma classe `Model` que implementa o método `predict`."
   ]
  },
  {
   "cell_type": "code",
   "execution_count": null,
   "metadata": {},
   "outputs": [],
   "source": [
    "%%writefile Model.py\n",
    "# adicione imports necessários aqui...\n",
    "import joblib\n",
    "import pandas as pd\n",
    "\n",
    "class Model:\n",
    "    def __init__(self):\n",
    "        self.loaded = False\n",
    "\n",
    "    def load(self):\n",
    "        # utilize esta função para carregar e inicializar modelos salvos anteriormente\n",
    "        \n",
    "        artifacts = joblib.load(\"/tmp/data/nova-tarefa.joblib\")\n",
    "        self.pipeline = artifacts[\"pipeline\"]\n",
    "        self.columns_to_filter = artifacts[\"columns_to_filter\"]\n",
    "        self.loaded = True\n",
    "        print(\"Loaded model\")\n",
    "\n",
    "    def predict(self, X, feature_names, meta=None):\n",
    "        # a função predict recebe um parâmetro X (numpy array, str ou bytes)\n",
    "        # e deve retornar o resultado da tarefa (numpy array, list, str ou bytes)\n",
    "        \n",
    "        if not self.loaded:\n",
    "            self.load()\n",
    "        \n",
    "        df = pd.DataFrame(X)\n",
    "        \n",
    "        if feature_names:\n",
    "            # Antes de utilizar o conjunto de dados X no modelo, reordena suas features de acordo com a ordem utilizada no treinamento\n",
    "            df = pd.DataFrame(X, columns=feature_names)\n",
    "            df = df[self.columns_to_filter]\n",
    "\n",
    "        # Realiza inferência\n",
    "        y_pred = self.pipeline.predict(df)\n",
    "\n",
    "        return y_pred"
   ]
  }
 ],
 "metadata": {
  "celltoolbar": "Tags",
  "kernelspec": {
   "display_name": "Python 3",
   "language": "python",
   "name": "python3"
  },
  "language_info": {
   "codemirror_mode": {
    "name": "ipython",
    "version": 3
   },
   "file_extension": ".py",
   "mimetype": "text/x-python",
   "name": "python",
   "nbconvert_exporter": "python",
   "pygments_lexer": "ipython3",
   "version": "3.8.8"
  },

 },
 "nbformat": 4,
 "nbformat_minor": 4
}
