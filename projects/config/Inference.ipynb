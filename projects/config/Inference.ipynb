{
 "cells": [
  {
   "cell_type": "markdown",
   "metadata": {},
   "source": [
    "# New component\n",
    "\n",
    "Fill with your own text"
   ]
  },
  {
   "cell_type": "code",
   "execution_count": null,
   "metadata": {},
   "outputs": [],
   "source": [
    "%%writefile Predictor.py\n",
    "import logging\n",
    "from typing import List, Iterable, Dict, Union\n",
    "\n",
    "import numpy as np\n",
    "import pandas as pd\n",
    "from platiagro import load_model\n",
    "\n",
    "logger = logging.getLogger(__name__)\n",
    "\n",
    "\n",
    "class Predictor(object):\n",
    "    \"\"\"\n",
    "    Model template. You can load your model parameters in __init__ from a location accessible at runtime.\n",
    "    \"\"\"\n",
    "\n",
    "    def __init__(self, dataset=None, target=None, experiment_id=None):\n",
    "        logger.info(\"Initializing\")\n",
    "\n",
    "        # Loads a model\n",
    "        model = load_model(name=experiment_id)\n",
    "\n",
    "        logger.info(\"Init complete!\")\n",
    "\n",
    "    def class_names(self):\n",
    "        \"\"\"Returns the column names for your prediction.\"\"\"\n",
    "        return self.columns\n",
    "\n",
    "    def predict(self, X: np.ndarray, feature_names: Iterable[str], meta: Dict = None) -> Union[np.ndarray, List, str, bytes]:\n",
    "        \"\"\"Returns a prediction.\n",
    "\n",
    "        Args:\n",
    "            X (numpy.array): Array-like with data.\n",
    "            feature_names (iterable, optional): Array of feature names.\n",
    "            meta (dict, optional): Custom metadata.\n",
    "\n",
    "        Returns:\n",
    "            numpy.array: Array-like with predictions.\n",
    "        \"\"\"\n",
    "        # Builds a DataFrame from numpy.array.\n",
    "        df = pd.DataFrame(X, columns=feature_names)\n",
    "\n",
    "        X_predict = df.to_numpy()\n",
    "\n",
    "        # start your code here...\n",
    "\n",
    "        return X_predict"
   ]
  },
  {
   "cell_type": "markdown",
   "metadata": {},
   "source": [
    "## Deployment Test\n",
    "\n",
    "It simulates a model deployed by PlatIAgro"
   ]
  },
  {
   "cell_type": "code",
   "execution_count": null,
   "metadata": {},
   "outputs": [],
   "source": [
    "%%writefile env.sh\n",
    "export DATASET=\"${DATASET:-titanic}\"\n",
    "export TARGET=\"${TARGET:-Survived}\"\n",
    "export EXPERIMENT_ID=\"${EXPERIMENT_ID:-a71b85d0-6d92-4868-80a1-d2efd270ca5f}\"\n",
    "export MODEL_NAME=\"Predictor\"\n",
    "export API_TYPE=\"REST\"\n",
    "export SERVICE_TYPE=\"MODEL\"\n",
    "export PERSISTENCE=0\n",
    "export LOG_LEVEL=\"DEBUG\"\n",
    "read -r -d \"\" PARAMETERS << EOM\n",
    "[{\"type\": \"STRING\", \"name\": \"dataset\", \"value\": \"$DATASET\"},\n",
    " {\"type\": \"STRING\", \"name\": \"target\", \"value\": \"$TARGET\"},\n",
    " {\"type\": \"STRING\", \"name\": \"experiment_id\", \"value\": \"$EXPERIMENT_ID\"}]\n",
    "EOM\n",
    "export PARAMETERS"
   ]
  },
  {
   "cell_type": "code",
   "execution_count": null,
   "metadata": {},
   "outputs": [],
   "source": [
    "%%bash\n",
    "source env.sh\n",
    "seldon-core-microservice \"$MODEL_NAME\" \"$API_TYPE\" \\\n",
    "    --service-type \"$SERVICE_TYPE\" \\\n",
    "    --persistence \"$PERSISTENCE\" \\\n",
    "    --parameters \"$PARAMETERS\" \\\n",
    "    --log-level \"$LOG_LEVEL\" > log.txt 2>&1 &\n",
    "\n",
    "ATTEMPT=0\n",
    "until $(curl --output /dev/null --silent --head --fail http://localhost:5000/health/ping); do\n",
    "    # exit process if not healthy after 10 seconds\n",
    "    if [ \"$ATTEMPT\" -gt 10 ]; then\n",
    "        cat log.txt\n",
    "        exit 1\n",
    "    fi\n",
    "    ATTEMPT=$((ATTEMPT + 1))\n",
    "    sleep 1\n",
    "done\n",
    "echo \"Deployment successful. Waiting for requests.\""
   ]
  },
  {
   "cell_type": "markdown",
   "metadata": {},
   "source": [
    "## Make predictions"
   ]
  },
  {
   "cell_type": "code",
   "execution_count": null,
   "metadata": {},
   "outputs": [],
   "source": [
    "%%bash\n",
    "\n",
    "curl -sSL localhost:5000/predict --data-binary @- << EOF\n",
    "json={\n",
    "    \"data\": {\n",
    "        \"names\": [\"crim\", \"zn\", \"indus\", \"chas\", \"nox\", \"rm\", \"age\", \"dis\", \"rad\", \"tax\", \"ptratio\", \"black\", \"lstat\"],\n",
    "        \"ndarray\": [\n",
    "            [0.00632, 18.0, 2.31, 0, 0.5379999999999999, 6.575, 65.2, 4.09, 1, 296, 15.3, 396.9, 4.98]\n",
    "        ]\n",
    "    }\n",
    "}\n",
    "EOF"
   ]
  },
  {
   "cell_type": "markdown",
   "metadata": {},
   "source": [
    "## View logs"
   ]
  },
  {
   "cell_type": "code",
   "execution_count": null,
   "metadata": {},
   "outputs": [],
   "source": [
    "!cat log.txt"
   ]
  },
  {
   "cell_type": "markdown",
   "metadata": {},
   "source": [
    "## Clean up the test"
   ]
  },
  {
   "cell_type": "code",
   "execution_count": null,
   "metadata": {},
   "outputs": [],
   "source": [
    "!ps -ef | grep [s]eldon-core-microservice | awk '{print $2}' | xargs -r kill"
   ]
  },
  {
   "cell_type": "code",
   "execution_count": null,
   "metadata": {},
   "outputs": [],
   "source": []
  }
 ],
 "metadata": {
  "kernelspec": {
   "display_name": "Python 3",
   "language": "python",
   "name": "python3"
  },
  "language_info": {
   "codemirror_mode": {
    "name": "ipython",
    "version": 3
   },
   "file_extension": ".py",
   "mimetype": "text/x-python",
   "name": "python",
   "nbconvert_exporter": "python",
   "pygments_lexer": "ipython3",
   "version": "3.7.3"
  }
 },
 "nbformat": 4,
 "nbformat_minor": 4
}