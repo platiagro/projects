{
 "cells": [
  {
   "cell_type": "markdown",
   "metadata": {},
   "source": [
    "# New component\n",
    "\n",
    "Type here a description for this component"
   ]
  },
  {
   "cell_type": "markdown",
   "metadata": {},
   "source": [
    "## Wrapping Model\n",
    "\n",
    "Allows your component to expose a service over REST.\n",
    "\n",
    "To wrap your model [follow the instructions](https://docs.seldon.io/projects/seldon-core/en/v0.3.0/python/python_component.html) for your chosen language or toolkit."
   ]
  },
  {
   "cell_type": "code",
   "execution_count": null,
   "metadata": {},
   "outputs": [],
   "source": [
    "%%writefile Model.py\n",
    "import logging\n",
    "from typing import List, Iterable, Dict, Union\n",
    "\n",
    "import numpy as np\n",
    "import pandas as pd\n",
    "from platiagro import load_model\n",
    "\n",
    "logger = logging.getLogger(__name__)\n",
    "\n",
    "\n",
    "class Model(object):\n",
    "    \"\"\"\n",
    "    Model template. You may load your model and artifacts in __init__ using platiagro SDK.\n",
    "\n",
    "    Visit https://platiagro.github.io/sdk/ to find all the details about the SDK.\n",
    "    \"\"\"\n",
    "\n",
    "    def __init__(self, dataset: str = None, target: str = None):\n",
    "        logger.info(f\"dataset: {dataset}\")\n",
    "        logger.info(f\"target: {target}\")\n",
    "\n",
    "        # Loads models and other artifacts using PlatIAgro SDK\n",
    "        model = load_model()\n",
    "\n",
    "        self.columns_names = [\"col0\", \"col1\", \"col2\", \"col3\"]\n",
    "\n",
    "    def class_names(self):\n",
    "        \"\"\"The column names of the array that `predict` returns.\"\"\"\n",
    "        return self.columns_names\n",
    "\n",
    "    def predict(self, X: np.ndarray, feature_names: Iterable[str], meta: Dict = None) -> Union[np.ndarray, List, str, bytes]:\n",
    "        \"\"\"Takes an array (numpy) X and feature_names and returns another array.\n",
    "\n",
    "        Your return array should be at least 2-dimensional.\n",
    "\n",
    "        Args:\n",
    "            X (numpy.array): Array-like with data.\n",
    "            feature_names (iterable, optional): Array of feature names.\n",
    "            meta (dict, optional): Dict of metadata.\n",
    "        \"\"\"\n",
    "        # Builds a DataFrame from numpy.array.\n",
    "        df = pd.DataFrame(X, columns=feature_names)\n",
    "\n",
    "        X_predict = df.to_numpy()\n",
    "\n",
    "        # start your code here...\n",
    "\n",
    "        return X_predict"
   ]
  },
  {
   "cell_type": "markdown",
   "metadata": {},
   "source": [
    "## API Contract\n",
    "\n",
    "There are two sections:\n",
    "\n",
    "- `features` : The feature array you intend to send in a request\n",
    "- `targets` : The response you expect back\n",
    "\n",
    "Each section has a list of definitions. Each definition consists of:\n",
    "\n",
    "- `name` : String : The name of the feature\n",
    "- `ftype` : one of CONTINUOUS, CATEGORICAL : the type of the feature\n",
    "- `dtype` : One of FLOAT, INT : Required for ftype CONTINUOUS : What type of feature to create\n",
    "- `values` : list of Strings : Required for ftype CATEGORICAL : The possible categorical values\n",
    "- `range` : list of two numbers : Optional for ftype CONTINUOUS : The range of values (inclusive) that a continuous value can take\n",
    "- `repeat` : integer : Optional value for how many times to repeat this value\n",
    "- `shape` : array of integers : Optional value for the shape of array to coerce the values"
   ]
  },
  {
   "cell_type": "code",
   "execution_count": null,
   "metadata": {},
   "outputs": [],
   "source": [
    "%%writefile contract.json\n",
    "{\n",
    "    \"features\": [\n",
    "        {\n",
    "            \"name\": \"SepalLengthCm\",\n",
    "            \"dtype\": \"FLOAT\",\n",
    "            \"ftype\": \"continuous\",\n",
    "            \"range\": [0.0, 7.0]\n",
    "        },\n",
    "        {\n",
    "            \"name\": \"SepalWidthCm\",\n",
    "            \"dtype\": \"FLOAT\",\n",
    "            \"ftype\": \"continuous\",\n",
    "            \"range\": [0.0, 4.0]\n",
    "        },\n",
    "        {\n",
    "            \"name\": \"PetalLengthCm\",\n",
    "            \"dtype\": \"FLOAT\",\n",
    "            \"ftype\": \"continuous\",\n",
    "            \"range\": [0.0, 7.0]\n",
    "        },\n",
    "        {\n",
    "            \"name\": \"PetalWidthCm\",\n",
    "            \"dtype\": \"FLOAT\",\n",
    "            \"ftype\": \"continuous\",\n",
    "            \"range\": [0.1, 3.0]\n",
    "        }\n",
    "    ],\n",
    "    \"targets\": [\n",
    "        {\n",
    "            \"name\": \"Iris-setosa\",\n",
    "            \"ftype\": \"continuous\",\n",
    "            \"dtype\": \"FLOAT\",\n",
    "            \"range\": [0.0, 1.0]\n",
    "        },\n",
    "                {\n",
    "            \"name\": \"Iris-versicolor\",\n",
    "            \"ftype\": \"continuous\",\n",
    "            \"dtype\": \"FLOAT\",\n",
    "            \"range\": [0.0, 1.0]\n",
    "        },\n",
    "                {\n",
    "            \"name\": \"Iris-virginica\",\n",
    "            \"ftype\": \"continuous\",\n",
    "            \"dtype\": \"FLOAT\",\n",
    "            \"range\": [0.0, 1.0]\n",
    "        }\n",
    "    ]\n",
    "}"
   ]
  },
  {
   "cell_type": "markdown",
   "metadata": {},
   "source": [
    "## Test Deployment\n",
    "\n",
    "Starts a service wrapping a Model, sends a request to the service, and shows the response."
   ]
  },
  {
   "cell_type": "code",
   "execution_count": null,
   "metadata": {},
   "outputs": [],
   "source": [
    "from platiagro.deployment import test_deployment\n",
    "\n",
    "test_deployment(\"contract.json\")"
   ]
  }
 ],
 "metadata": {
  "experiment_id": "a71b85d0-6d92-4868-80a1-d2efd270ca5f",
  "kernelspec": {
   "display_name": "Python 3",
   "language": "python",
   "name": "python3"
  },
  "language_info": {
   "codemirror_mode": {
    "name": "ipython",
    "version": 3
   },
   "file_extension": ".py",
   "mimetype": "text/x-python",
   "name": "python",
   "nbconvert_exporter": "python",
   "pygments_lexer": "ipython3",
   "version": "3.6.9"
  },
  "operator_id": "c0deb81a-540e-4d51-bf8f-c332f9b9fd73"
 },
 "nbformat": 4,
 "nbformat_minor": 4
}
