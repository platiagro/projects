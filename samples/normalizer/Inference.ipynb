{
 "cells": [
  {
   "cell_type": "markdown",
   "metadata": {},
   "source": [
    "# Normalizer - Deployment\n",
    "\n",
    "This is a component that normalize samples individually to unit norm using an implementation from [Scikit-learn](https://scikit-learn.org/stable/modules/generated/sklearn.preprocessing.Normalizer.html). \n",
    "<br>\n",
    "Scikit-learn is an open source machine learning library that supports supervised and unsupervised learning. It also provides various tools for model fitting, data preprocessing, model selection and evaluation, and many other utilities.\n",
    "\n",
    "This notebook shows:\n",
    "- how to use the [SDK](https://platiagro.github.io/sdk/) to load a model and other artifacts.\n",
    "- how to use a model to provide real-time transformations."
   ]
  },
  {
   "cell_type": "markdown",
   "metadata": {},
   "source": [
    "## Wrapping Model\n",
    "\n",
    "Allows your component to expose a service over REST.\n",
    "\n",
    "To wrap your model [follow the instructions](https://docs.seldon.io/projects/seldon-core/en/v0.3.0/python/python_component.html) for your chosen language or toolkit."
   ]
  },
  {
   "cell_type": "code",
   "execution_count": null,
   "metadata": {},
   "outputs": [],
   "source": [
    "%%writefile Model.py\n",
    "import logging\n",
    "from typing import List, Iterable, Dict, Union\n",
    "\n",
    "import numpy as np\n",
    "import pandas as pd\n",
    "from platiagro import load_model\n",
    "\n",
    "logger = logging.getLogger(__name__)\n",
    "\n",
    "\n",
    "class Model(object):\n",
    "    def __init__(self, dataset: str = None, target: str = None):\n",
    "        # Load Artifacts: Estimator, etc\n",
    "        model = load_model()\n",
    "        self.pipeline = model[\"pipeline\"]\n",
    "        self.features_names_training = model[\"columns\"]\n",
    "\n",
    "    def class_names(self):\n",
    "        return self.features_names_training.tolist()\n",
    "\n",
    "    def predict(self, X: np.ndarray, feature_names: Iterable[str], meta: Dict = None) -> Union[np.ndarray, List, str, bytes]:\n",
    "        \"\"\"Takes an array (numpy) X and feature_names and normalizes samples to unit norm.\n",
    "\n",
    "        Args:\n",
    "            X (numpy.array): Array-like with data.\n",
    "            feature_names (iterable, optional): Array of feature names.\n",
    "            meta (dict, optional): Dict of metadata.\n",
    "        \"\"\"\n",
    "        if feature_names:\n",
    "            # Before feeding the model with `X`, resort its features like the training data\n",
    "            df = pd.DataFrame(X, columns=feature_names)\n",
    "            X = df[self.features_names_training].to_numpy()\n",
    "\n",
    "        # Perform Transformation\n",
    "        X = self.pipeline.transform(X)\n",
    "\n",
    "        return X"
   ]
  },
  {
   "cell_type": "markdown",
   "metadata": {},
   "source": [
    "## API Contract\n",
    "\n",
    "There are two sections:\n",
    "\n",
    "- `features` : The feature array you intend to send in a request\n",
    "- `targets` : The response you expect back\n",
    "\n",
    "Each section has a list of definitions. Each definition consists of:\n",
    "\n",
    "- `name` : String : The name of the feature\n",
    "- `ftype` : one of CONTINUOUS, CATEGORICAL : the type of the feature\n",
    "- `dtype` : One of FLOAT, INT : Required for ftype CONTINUOUS : What type of feature to create\n",
    "- `values` : list of Strings : Required for ftype CATEGORICAL : The possible categorical values\n",
    "- `range` : list of two numbers : Optional for ftype CONTINUOUS : The range of values (inclusive) that a continuous value can take\n",
    "- `repeat` : integer : Optional value for how many times to repeat this value\n",
    "- `shape` : array of integers : Optional value for the shape of array to coerce the values"
   ]
  },
  {
   "cell_type": "code",
   "execution_count": 4,
   "metadata": {},
   "outputs": [
    {
     "name": "stdout",
     "output_type": "stream",
     "text": [
      "Overwriting contract.json\n"
     ]
    }
   ],
   "source": [
    "%%writefile contract.json\n",
    "{\n",
    "    \"features\": [\n",
    "        {\n",
    "            \"name\": \"SepalLengthCm\",\n",
    "            \"dtype\": \"FLOAT\",\n",
    "            \"ftype\": \"continuous\",\n",
    "            \"range\": [4.3, 7.9]\n",
    "        },\n",
    "        {\n",
    "            \"name\": \"SepalWidthCm\",\n",
    "            \"dtype\": \"FLOAT\",\n",
    "            \"ftype\": \"continuous\",\n",
    "            \"range\": [2.0, 4.4]\n",
    "        },\n",
    "        {\n",
    "            \"name\": \"PetalLengthCm\",\n",
    "            \"dtype\": \"FLOAT\",\n",
    "            \"ftype\": \"continuous\",\n",
    "            \"range\": [1.0, 6.9]\n",
    "        },\n",
    "        {\n",
    "            \"name\": \"PetalWidthCm\",\n",
    "            \"dtype\": \"FLOAT\",\n",
    "            \"ftype\": \"continuous\",\n",
    "            \"range\": [0.1, 2.5]\n",
    "        }\n",
    "    ],\n",
    "    \"targets\": [\n",
    "        {\n",
    "            \"name\": \"SepalLengthCm\",\n",
    "            \"dtype\": \"FLOAT\",\n",
    "            \"ftype\": \"continuous\",\n",
    "            \"range\": [0.0, 1.0]\n",
    "        },\n",
    "        {\n",
    "            \"name\": \"SepalWidthCm\",\n",
    "            \"dtype\": \"FLOAT\",\n",
    "            \"ftype\": \"continuous\",\n",
    "            \"range\": [0.0, 1.0]\n",
    "        },\n",
    "        {\n",
    "            \"name\": \"PetalLengthCm\",\n",
    "            \"dtype\": \"FLOAT\",\n",
    "            \"ftype\": \"continuous\",\n",
    "            \"range\": [0.0, 1.0]\n",
    "        },\n",
    "        {\n",
    "            \"name\": \"PetalWidthCm\",\n",
    "            \"dtype\": \"FLOAT\",\n",
    "            \"ftype\": \"continuous\",\n",
    "            \"range\": [0.0, 1.0]\n",
    "        }\n",
    "    ]\n",
    "}"
   ]
  },
  {
   "cell_type": "markdown",
   "metadata": {},
   "source": [
    "## Test Deployment\n",
    "\n",
    "Starts a service wrapping a Model, sends a request to the service, and shows the response."
   ]
  },
  {
   "cell_type": "code",
   "execution_count": 5,
   "metadata": {},
   "outputs": [
    {
     "name": "stdout",
     "output_type": "stream",
     "text": [
      "----------------------------------------\n",
      "SENDING NEW REQUEST:\n",
      "\n",
      "[[6.755 1.793 1.078 0.604]]\n",
      "RECEIVED RESPONSE:\n",
      "meta {\n",
      "}\n",
      "data {\n",
      "  names: \"SepalLengthCm\"\n",
      "  names: \"SepalWidthCm\"\n",
      "  names: \"PetalLengthCm\"\n",
      "  names: \"PetalWidthCm\"\n",
      "  ndarray {\n",
      "    values {\n",
      "      list_value {\n",
      "        values {\n",
      "          number_value: 0.9517693834186255\n",
      "        }\n",
      "        values {\n",
      "          number_value: 0.25263101472532873\n",
      "        }\n",
      "        values {\n",
      "          number_value: 0.1518885855403817\n",
      "        }\n",
      "        values {\n",
      "          number_value: 0.08510269542336785\n",
      "        }\n",
      "      }\n",
      "    }\n",
      "  }\n",
      "}\n",
      "\n",
      "\n",
      "\n",
      "2020-06-05 12:55:40,057 - seldon_core.microservice:main:190 - INFO:  Starting microservice.py:main\n",
      "2020-06-05 12:55:40,059 - seldon_core.microservice:main:246 - INFO:  Parse JAEGER_EXTRA_TAGS []\n",
      "2020-06-05 12:55:40,059 - seldon_core.microservice:main:254 - DEBUG:  Log level set to DEBUG:10\n",
      "2020-06-05 12:55:40,059 - seldon_core.microservice:main:257 - INFO:  Annotations: {}\n",
      "2020-06-05 12:55:40,059 - seldon_core.microservice:main:261 - INFO:  Importing Model\n",
      "2020-06-05 12:55:41,601 - seldon_core.microservice:main:325 - INFO:  REST microservice running on port 5026\n",
      "2020-06-05 12:55:41,602 - seldon_core.microservice:main:369 - INFO:  Starting servers\n",
      "2020-06-05 12:55:41,639 - werkzeug:_log:113 - INFO:   * Running on http://0.0.0.0:5026/ (Press CTRL+C to quit)\n",
      "2020-06-05 12:55:43,595 - werkzeug:_log:113 - INFO:  127.0.0.1 - - [05/Jun/2020 12:55:43] \"\u001b[37mGET /health/ping HTTP/1.1\u001b[0m\" 200 -\n",
      "2020-06-05 12:55:47,068 - seldon_core.wrapper:Predict:47 - DEBUG:  REST Request: <Request 'http://localhost:5026/predict' [POST]>\n",
      "2020-06-05 12:55:47,083 - seldon_core.user_model:client_custom_tags:134 - INFO:  custom_tags is not implemented\n",
      "2020-06-05 12:55:47,083 - seldon_core.user_model:client_custom_tags:134 - INFO:  custom_tags is not implemented\n",
      "2020-06-05 12:55:47,084 - seldon_core.user_model:client_custom_metrics:307 - INFO:  custom_metrics is not implemented\n",
      "2020-06-05 12:55:47,084 - seldon_core.wrapper:Predict:53 - DEBUG:  REST Response: {'data': {'ndarray': [[0.9517693834186255, 0.25263101472532873, 0.1518885855403817, 0.08510269542336785]], 'names': ['SepalLengthCm', 'SepalWidthCm', 'PetalLengthCm', 'PetalWidthCm']}, 'meta': {}}\n",
      "2020-06-05 12:55:47,085 - werkzeug:_log:113 - INFO:  127.0.0.1 - - [05/Jun/2020 12:55:47] \"\u001b[37mPOST /predict HTTP/1.1\u001b[0m\" 200 -\n",
      "\n"
     ]
    }
   ],
   "source": [
    "from platiagro.deployment import test_deployment\n",
    "\n",
    "test_deployment(\"contract.json\")"
   ]
  }
 ],
 "metadata": {
  "experiment_id": "ccbd7c54-cbd4-4b1f-95ab-1943f119b71e",
  "kernelspec": {
   "display_name": "Python 3",
   "language": "python",
   "name": "python3"
  },
  "language_info": {
   "codemirror_mode": {
    "name": "ipython",
    "version": 3
   },
   "file_extension": ".py",
   "mimetype": "text/x-python",
   "name": "python",
   "nbconvert_exporter": "python",
   "pygments_lexer": "ipython3",
   "version": "3.7.6"
  },
  "operator_id": "fbf7d573-d6fd-4a0e-9033-6930248948be"
 },
 "nbformat": 4,
 "nbformat_minor": 4
}
