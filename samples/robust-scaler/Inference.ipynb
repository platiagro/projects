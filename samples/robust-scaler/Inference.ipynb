{
 "cells": [
  {
   "cell_type": "markdown",
   "metadata": {},
   "source": [
    "# Robust Scaler\n",
    "\n",
    "This is a component that scale features using statistics that are robust to outliers. This Scaler removes the median and scales the data according to the quantile range (defaults to IQR: Interquartile Range). The IQR is the range between the 1st quartile (25th quantile) and the 3rd quartile (75th quantile). It makes use of an implementation from [Scikit-learn](https://scikit-learn.org/stable/modules/generated/sklearn.preprocessing.RobustScaler.html).\n",
    "<br>\n",
    "Scikit-learn is an open source machine learning library that supports supervised and unsupervised learning. It also provides various tools for model fitting, data preprocessing, model selection and evaluation, and many other utilities.\n",
    "\n",
    "This notebook shows:\n",
    "- how to use the [SDK](https://platiagro.github.io/sdk/) to load a model and other artifacts.\n",
    "- how to use a model to provide real-time transformations."
   ]
  },
  {
   "cell_type": "markdown",
   "metadata": {},
   "source": [
    "## Wrapping Model\n",
    "\n",
    "Allows your component to expose a service over REST.\n",
    "\n",
    "To wrap your model [follow the instructions](https://docs.seldon.io/projects/seldon-core/en/v0.3.0/python/python_component.html) for your chosen language or toolkit."
   ]
  },
  {
   "cell_type": "code",
   "execution_count": null,
   "metadata": {},
   "outputs": [],
   "source": [
    "%%writefile Model.py\n",
    "import logging\n",
    "from typing import List, Iterable, Dict, Union\n",
    "\n",
    "import numpy as np\n",
    "import pandas as pd\n",
    "from platiagro import load_model\n",
    "\n",
    "logger = logging.getLogger(__name__)\n",
    "\n",
    "\n",
    "class Model(object):\n",
    "    def __init__(self, dataset: str = None, target: str = None):\n",
    "        logger.info(f\"dataset: {dataset}\")\n",
    "        logger.info(f\"target: {target}\")\n",
    "\n",
    "        # Load Artifacts: Estimator, etc\n",
    "        model = load_model()\n",
    "        self.pipeline = model[\"pipeline\"]\n",
    "        self.columns = model[\"columns\"]\n",
    "        self.numerical_indexes = model[\"numerical_indexes\"]\n",
    "\n",
    "    def class_names(self):\n",
    "        return self.columns.tolist()\n",
    "\n",
    "    def predict(self, X: np.ndarray, feature_names: Iterable[str], meta: Dict = None) -> Union[np.ndarray, List, str, bytes]:\n",
    "        \"\"\"Takes an array (numpy) X and feature_names and normalizes samples to unit norm.\n",
    "\n",
    "        Args:\n",
    "            X (numpy.array): Array-like with data.\n",
    "            feature_names (iterable, optional): Array of feature names.\n",
    "            meta (dict, optional): Dict of metadata.\n",
    "        \"\"\"\n",
    "        # Put data in a pandas.DataFrame\n",
    "        df = pd.DataFrame(X, columns=feature_names)\n",
    "\n",
    "        # Put data back in a numpy.ndarray\n",
    "        X = df[self.columns].to_numpy()\n",
    "\n",
    "        # Perform Transformation\n",
    "        X[:, self.numerical_indexes] = self.pipeline.transform(X[:, self.numerical_indexes])\n",
    "\n",
    "        return X"
   ]
  },
  {
   "cell_type": "markdown",
   "metadata": {},
   "source": [
    "## API Contract\n",
    "\n",
    "There are two sections:\n",
    "\n",
    "- `features` : The feature array you intend to send in a request\n",
    "- `targets` : The response you expect back\n",
    "\n",
    "Each section has a list of definitions. Each definition consists of:\n",
    "\n",
    "- `name` : String : The name of the feature\n",
    "- `ftype` : one of CONTINUOUS, CATEGORICAL : the type of the feature\n",
    "- `dtype` : One of FLOAT, INT : Required for ftype CONTINUOUS : What type of feature to create\n",
    "- `values` : list of Strings : Required for ftype CATEGORICAL : The possible categorical values\n",
    "- `range` : list of two numbers : Optional for ftype CONTINUOUS : The range of values (inclusive) that a continuous value can take\n",
    "- `repeat` : integer : Optional value for how many times to repeat this value\n",
    "- `shape` : array of integers : Optional value for the shape of array to coerce the values"
   ]
  },
  {
   "cell_type": "code",
   "execution_count": null,
   "metadata": {},
   "outputs": [],
   "source": [
    "%%writefile contract.json\n",
    "{\n",
    "    \"features\": [\n",
    "        {\n",
    "            \"name\": \"SepalLengthCm\",\n",
    "            \"dtype\": \"FLOAT\",\n",
    "            \"ftype\": \"continuous\",\n",
    "            \"range\": [0.0, 7.0]\n",
    "        },\n",
    "        {\n",
    "            \"name\": \"SepalWidthCm\",\n",
    "            \"dtype\": \"FLOAT\",\n",
    "            \"ftype\": \"continuous\",\n",
    "            \"range\": [0.0, 4.0]\n",
    "        },\n",
    "        {\n",
    "            \"name\": \"PetalLengthCm\",\n",
    "            \"dtype\": \"FLOAT\",\n",
    "            \"ftype\": \"continuous\",\n",
    "            \"range\": [0.0, 7.0]\n",
    "        },\n",
    "        {\n",
    "            \"name\": \"PetalWidthCm\",\n",
    "            \"dtype\": \"FLOAT\",\n",
    "            \"ftype\": \"continuous\",\n",
    "            \"range\": [0.1, 3.0]\n",
    "        }\n",
    "    ],\n",
    "    \"targets\": [\n",
    "        {\n",
    "            \"name\": \"Iris-setosa\",\n",
    "            \"ftype\": \"continuous\",\n",
    "            \"dtype\": \"FLOAT\",\n",
    "            \"range\": [0.0, 1.0]\n",
    "        },\n",
    "                {\n",
    "            \"name\": \"Iris-versicolor\",\n",
    "            \"ftype\": \"continuous\",\n",
    "            \"dtype\": \"FLOAT\",\n",
    "            \"range\": [0.0, 1.0]\n",
    "        },\n",
    "                {\n",
    "            \"name\": \"Iris-virginica\",\n",
    "            \"ftype\": \"continuous\",\n",
    "            \"dtype\": \"FLOAT\",\n",
    "            \"range\": [0.0, 1.0]\n",
    "        }\n",
    "    ]\n",
    "}"
   ]
  },
  {
   "cell_type": "markdown",
   "metadata": {},
   "source": [
    "## Test Deployment\n",
    "\n",
    "Starts a service wrapping a Model, sends a request to the service, and shows the response."
   ]
  },
  {
   "cell_type": "code",
   "execution_count": null,
   "metadata": {},
   "outputs": [],
   "source": [
    "from platiagro.deployment import test_deployment\n",
    "\n",
    "test_deployment(\"contract.json\")"
   ]
  }
 ],
 "metadata": {
  "experiment_id": "94c3e6b9-0420-4d48-a5df-2d31fc2ad3af",
  "kernelspec": {
   "display_name": "Python 3",
   "language": "python",
   "name": "python3"
  },
  "language_info": {
   "codemirror_mode": {
    "name": "ipython",
    "version": 3
   },
   "file_extension": ".py",
   "mimetype": "text/x-python",
   "name": "python",
   "nbconvert_exporter": "python",
   "pygments_lexer": "ipython3",
   "version": "3.7.6"
  },
  "operator_id": "a43611a0-3d85-4bee-b94a-4ab7b01e9e21"
 },
 "nbformat": 4,
 "nbformat_minor": 4
}
