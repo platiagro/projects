{
 "cells": [
  {
   "cell_type": "markdown",
   "metadata": {},
   "source": [
    "# Classificador Random Forest - Implantação\n",
    "\n",
    "Este componente realiza predições usando um modelo Random Forest para classificação usando [Scikit-learn](https://scikit-learn.org/stable/modules/generated/sklearn.ensemble.RandomForestClassifier.html). <br>\n",
    "Scikit-learn é uma biblioteca open source de machine learning que suporta apredizado supervisionado e não supervisionado. Também provê várias ferramentas para montagem de modelo, pré-processamento de dados, seleção e avaliação de modelos, e muitos outros utilitários.\n",
    "\n",
    "Este notebook apresenta:\n",
    "- como carregar modelos e outros resultados do treinamento.\n",
    "- como utilizar um modelo para fornecer predições em tempo real."
   ]
  },
  {
   "cell_type": "markdown",
   "metadata": {},
   "source": [
    "## Declaração de Classe para Predições em Tempo Real\n",
    "\n",
    "A tarefa de implantação cria um serviço REST para predições em tempo real.<br>\n",
    "Para isso você deve criar uma classe `Model` que implementa o método `predict`."
   ]
  },
  {
   "cell_type": "code",
   "execution_count": null,
   "metadata": {},
   "outputs": [],
   "source": [
    "%%writefile Model.py\n",
    "import joblib\n",
    "import numpy as np\n",
    "import pandas as pd\n",
    "\n",
    "\n",
    "class Model(object):\n",
    "    def __init__(self):\n",
    "        # Carrega artefatos: estimador, etc\n",
    "        artifacts = joblib.load(\"/tmp/data/random-forest-classifier.joblib\")\n",
    "        self.pipeline = artifacts[\"pipeline\"]\n",
    "        self.features_names_training = artifacts[\"columns\"]\n",
    "        self.columns_to_filter = artifacts[\"columns_to_filter\"]\n",
    "        self.label_encoder = artifacts[\"label_encoder\"]\n",
    "        self.method = artifacts[\"method\"]\n",
    "        self.new_columns = artifacts[\"new_columns\"]\n",
    "        self.features_after_pipeline = artifacts[\"features_after_pipeline\"]\n",
    "\n",
    "    def class_names(self):\n",
    "        column_names = np.concatenate((self.features_after_pipeline, self.new_columns))\n",
    "        return column_names.tolist()\n",
    "\n",
    "    def predict(self, X, feature_names, meta=None):\n",
    "        if feature_names:\n",
    "            # Antes de utilizar o conjunto de dados X no modelo, reordena suas features de acordo com a ordem utilizada no treinamento\n",
    "            df = pd.DataFrame(X, columns=feature_names)\n",
    "            X = df[self.columns_to_filter].to_numpy()\n",
    "\n",
    "        # adiciona a predição ao conjunto de dados\n",
    "        y_prob = self.pipeline.predict_proba(X)\n",
    "        y_pred = self.pipeline.predict(X)\n",
    "        y_pred = self.label_encoder.inverse_transform(y_pred)\n",
    "        for i in range(y_prob.shape[1]):\n",
    "            df[self.new_columns[i]] = y_prob[:, i]\n",
    "        df[self.new_columns[i + 1]] = y_pred\n",
    "\n",
    "        return df.to_numpy()"
   ]
  },
  {
   "cell_type": "markdown",
   "metadata": {},
   "source": [
    "## Teste do serviço REST\n",
    "\n",
    "Crie um arquivo `contract.json` com os seguintes atributos:\n",
    "\n",
    "- `features` : A lista de features em uma requisição.\n",
    "- `targets` : A lista de valores retornados pelo método `predict`.\n",
    "\n",
    "Cada `feature` pode conter as seguintes informações:\n",
    "\n",
    "- `name` : nome da feature\n",
    "- `ftype` : tipo da feature : **continuous** ou **categorical**\n",
    "- `dtype` : tipo de dado : **FLOAT** ou **INT** : *obrigatório para ftype continuous*\n",
    "- `range` : intervalo de valores numéricos : *obrigatório para ftype continuous*\n",
    "- `values` : lista de valores categóricos : *obrigatório para ftype categorical*\n",
    "\n",
    "Em seguida, utilize a função `test_deployment` do [SDK da PlatIAgro](https://platiagro.github.io/sdk/) para simular predição em tempo-real.<br>"
   ]
  },
  {
   "cell_type": "code",
   "execution_count": null,
   "metadata": {},
   "outputs": [],
   "source": [
    "%%writefile contract.json\n",
    "{\n",
    "    \"features\": [\n",
    "        {\n",
    "            \"name\": \"SepalLengthCm\",\n",
    "            \"dtype\": \"FLOAT\",\n",
    "            \"ftype\": \"continuous\",\n",
    "            \"range\": [4.3, 7.9]\n",
    "        },\n",
    "        {\n",
    "            \"name\": \"SepalWidthCm\",\n",
    "            \"dtype\": \"FLOAT\",\n",
    "            \"ftype\": \"continuous\",\n",
    "            \"range\": [2.0, 4.4]\n",
    "        },\n",
    "        {\n",
    "            \"name\": \"PetalLengthCm\",\n",
    "            \"dtype\": \"FLOAT\",\n",
    "            \"ftype\": \"continuous\",\n",
    "            \"range\": [1.0, 6.9]\n",
    "        },\n",
    "        {\n",
    "            \"name\": \"PetalWidthCm\",\n",
    "            \"dtype\": \"FLOAT\",\n",
    "            \"ftype\": \"continuous\",\n",
    "            \"range\": [0.1, 2.5]\n",
    "        }\n",
    "    ],\n",
    "    \"targets\": [\n",
    "        {\n",
    "            \"name\": \"Iris-setosa\",\n",
    "            \"ftype\": \"continuous\",\n",
    "            \"dtype\": \"FLOAT\",\n",
    "            \"range\": [0.0, 1.0]\n",
    "        },\n",
    "                {\n",
    "            \"name\": \"Iris-versicolor\",\n",
    "            \"ftype\": \"continuous\",\n",
    "            \"dtype\": \"FLOAT\",\n",
    "            \"range\": [0.0, 1.0]\n",
    "        },\n",
    "                {\n",
    "            \"name\": \"Iris-virginica\",\n",
    "            \"ftype\": \"continuous\",\n",
    "            \"dtype\": \"FLOAT\",\n",
    "            \"range\": [0.0, 1.0]\n",
    "        }\n",
    "    ]\n",
    "}"
   ]
  },
  {
   "cell_type": "code",
   "execution_count": null,
   "metadata": {},
   "outputs": [],
   "source": [
    "from platiagro.deployment import test_deployment\n",
    "\n",
    "test_deployment(\"contract.json\")"
   ]
  }
 ],
 "metadata": {
  "celltoolbar": "Tags",
  "kernelspec": {
   "display_name": "Python 3",
   "language": "python",
   "name": "python3"
  },
  "language_info": {
   "codemirror_mode": {
    "name": "ipython",
    "version": 3
   },
   "file_extension": ".py",
   "mimetype": "text/x-python",
   "name": "python",
   "nbconvert_exporter": "python",
   "pygments_lexer": "ipython3",
   "version": "3.8.2"
  }
 },
 "nbformat": 4,
 "nbformat_minor": 4
}