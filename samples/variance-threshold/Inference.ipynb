{
 "cells": [
  {
   "cell_type": "markdown",
   "metadata": {},
   "source": [
    "# Variance Threshold\n",
    "\n",
    "This is a component that removes all low-variance features using an implementation from [Scikit-learn](https://scikit-learn.org/stable/modules/generated/sklearn.feature_selection.VarianceThreshold.html). \n",
    "<br>\n",
    "Scikit-learn is an open source machine learning library that supports supervised and unsupervised learning. It also provides various tools for model fitting, data preprocessing, model selection and evaluation, and many other utilities.\n",
    "\n",
    "This notebook shows:\n",
    "- how to use the SDK to load a model and other artifacts.\n",
    "- how to use a model to provide real-time transformations."
   ]
  },
  {
   "cell_type": "code",
   "execution_count": null,
   "metadata": {},
   "outputs": [],
   "source": [
    "%%writefile Transformer.py\n",
    "import logging\n",
    "from typing import List, Iterable, Dict, Union\n",
    "\n",
    "import numpy as np\n",
    "from platiagro import load_model\n",
    "\n",
    "logger = logging.getLogger(__name__)\n",
    "\n",
    "\n",
    "class Transformer(object):\n",
    "    \"\"\"\n",
    "    Model template. You can load your model parameters in __init__ from a location accessible at runtime.\n",
    "    \"\"\"\n",
    "\n",
    "    def __init__(self, dataset=None, target=None, experiment_id=None):\n",
    "        logger.info(\"Initializing\")\n",
    "\n",
    "        # Load Artifacts: Estimator, etc\n",
    "        model = load_model(experiment_id=experiment_id)\n",
    "        self.estimator = model[\"estimator\"]\n",
    "        self.columns = model[\"columns\"]\n",
    "        self.numerical_indexes = model[\"numerical_indexes\"]\n",
    "\n",
    "        logger.info(\"Init complete!\")\n",
    "\n",
    "    def class_names(self):\n",
    "        return self.columns\n",
    "\n",
    "    def transform_input(self, X: np.ndarray, feature_names: Iterable[str], meta: Dict = None) -> Union[np.ndarray, List, str, bytes]:\n",
    "        \"\"\"Returns a transformation on input data.\n",
    "\n",
    "        Args:\n",
    "            X (numpy.array): Array-like with data.\n",
    "            feature_names (iterable, optional): Array of feature names.\n",
    "            meta (dict, optional): Dict of metadata.\n",
    "\n",
    "        Returns:\n",
    "            numpy.array: Array-like with transformations.\n",
    "        \"\"\"\n",
    "        # Perform Transformation\n",
    "        if np.ma.any(self.numerical_indexes):\n",
    "            X_thr = self.estimator.transform(X[:, self.numerical_indexes])\n",
    "            X = np.concatenate((X[:, ~self.numerical_indexes], X_thr), axis=1)\n",
    "\n",
    "        return X"
   ]
  },
  {
   "cell_type": "markdown",
   "metadata": {},
   "source": [
    "## Deployment Test\n",
    "\n",
    "It simulates a model deployed by PlatIAgro"
   ]
  },
  {
   "cell_type": "code",
   "execution_count": null,
   "metadata": {},
   "outputs": [],
   "source": [
    "%%writefile env\n",
    "export DATASET=\"${DATASET:-boston}\"\n",
    "export TARGET=\"${TARGET:-medv}\"\n",
    "export EXPERIMENT_ID=\"${EXPERIMENT_ID:-881c6caa-2fa8-4165-b408-9eabceb5f752}\"\n",
    "export MODEL_NAME=\"Transformer\"\n",
    "export API_TYPE=\"REST\"\n",
    "export SERVICE_TYPE=\"TRANSFORMER\"\n",
    "export PERSISTENCE=0\n",
    "export LOG_LEVEL=\"DEBUG\"\n",
    "read -r -d \"\" PARAMETERS << EOM\n",
    "[{\"type\": \"STRING\", \"name\": \"dataset\", \"value\": \"$DATASET\"},\n",
    " {\"type\": \"STRING\", \"name\": \"target\", \"value\": \"$TARGET\"},\n",
    " {\"type\": \"STRING\", \"name\": \"experiment_id\", \"value\": \"$EXPERIMENT_ID\"}]\n",
    "EOM\n",
    "export PARAMETERS"
   ]
  },
  {
   "cell_type": "code",
   "execution_count": null,
   "metadata": {},
   "outputs": [],
   "source": [
    "%%bash\n",
    ". ./env\n",
    "seldon-core-microservice \"$MODEL_NAME\" \"$API_TYPE\" \\\n",
    "    --service-type \"$SERVICE_TYPE\" \\\n",
    "    --persistence \"$PERSISTENCE\" \\\n",
    "    --parameters \"$PARAMETERS\" \\\n",
    "    --log-level \"$LOG_LEVEL\" > log.txt 2>&1 &\n",
    "\n",
    "ATTEMPT=0\n",
    "until $(curl --output /dev/null --silent --head --fail http://localhost:5000/health/ping); do\n",
    "    # exit process if not healthy after 10 seconds\n",
    "    if [ \"$ATTEMPT\" -gt 10 ]; then\n",
    "        cat log.txt\n",
    "        exit 1\n",
    "    fi\n",
    "    ATTEMPT=$((ATTEMPT + 1))\n",
    "    sleep 1\n",
    "done\n",
    "echo \"Deployment successful. Waiting for requests.\""
   ]
  },
  {
   "cell_type": "markdown",
   "metadata": {},
   "source": [
    "## Make transformations"
   ]
  },
  {
   "cell_type": "code",
   "execution_count": null,
   "metadata": {},
   "outputs": [],
   "source": [
    "%%bash\n",
    "curl -sSL localhost:5000/transform-input --data-binary @- << EOF\n",
    "json={\n",
    "    \"data\": {\n",
    "        \"names\": [\"crim\", \"zn\", \"indus\", \"chas\", \"nox\", \"rm\", \"age\", \"dis\", \"rad\", \"tax\", \"ptratio\", \"black\", \"lstat\"],\n",
    "        \"ndarray\": [\n",
    "            [0.00632, 18.0, 2.31, 0, 0.5379999999999999, 6.575, 65.2, 4.09, 1, 296, 15.3, 396.9, 4.98]\n",
    "        ]\n",
    "    }\n",
    "}\n",
    "EOF"
   ]
  },
  {
   "cell_type": "markdown",
   "metadata": {},
   "source": [
    "## View logs"
   ]
  },
  {
   "cell_type": "code",
   "execution_count": null,
   "metadata": {},
   "outputs": [],
   "source": [
    "!cat log.txt"
   ]
  },
  {
   "cell_type": "markdown",
   "metadata": {},
   "source": [
    "## Clean up the test"
   ]
  },
  {
   "cell_type": "code",
   "execution_count": null,
   "metadata": {},
   "outputs": [],
   "source": [
    "!ps -ef | grep [s]eldon-core-microservice | awk '{print $2}' | xargs -r kill"
   ]
  },
  {
   "cell_type": "code",
   "execution_count": null,
   "metadata": {},
   "outputs": [],
   "source": []
  }
 ],
 "metadata": {
  "kernelspec": {
   "display_name": "Python 3",
   "language": "python",
   "name": "python3"
  },
  "language_info": {
   "codemirror_mode": {
    "name": "ipython",
    "version": 3
   },
   "file_extension": ".py",
   "mimetype": "text/x-python",
   "name": "python",
   "nbconvert_exporter": "python",
   "pygments_lexer": "ipython3",
   "version": "3.7.3"
  }
 },
 "nbformat": 4,
 "nbformat_minor": 4
}