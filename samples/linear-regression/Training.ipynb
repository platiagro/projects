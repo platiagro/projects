{
 "cells": [
  {
   "cell_type": "markdown",
   "metadata": {},
   "source": [
    "# Ordinary least squares Linear Regression\n",
    "\n",
    "This is a component that trains an ordinary least squares Linear Regression. model using [Scikit-learn](https://scikit-learn.org/stable/modules/generated/sklearn.linear_model.LinearRegression.html). \n",
    "<br>\n",
    "Scikit-learn is an open source machine learning library that supports supervised and unsupervised learning. It also provides various tools for model fitting, data preprocessing, model selection and evaluation, and many other utilities.\n",
    "\n",
    "This notebook shows:\n",
    "- how to use the [SDK](https://platiagro.github.io/sdk/) to load datasets, save models and other artifacts.\n",
    "- how to declare parameters and use them to build reusable components."
   ]
  },
  {
   "cell_type": "markdown",
   "metadata": {},
   "source": [
    "## Declare parameters\n",
    "Components may declare (and use) these default parameters:\n",
    "- dataset\n",
    "- target\n",
    "\n",
    "Use these parameters to load/save datasets, models, metrics, and figures with the help of [PlatIAgro SDK](https://platiagro.github.io/sdk/).\n",
    "\n",
    "You may also declare custom parameters to set when running an experiment."
   ]
  },
  {
   "cell_type": "code",
   "execution_count": null,
   "metadata": {
    "tags": [
     "parameters"
    ]
   },
   "outputs": [],
   "source": [
    "dataset = \"boston\" #@param {type:\"string\"}\n",
    "target = \"medv\" #@param {type:\"string\"}"
   ]
  },
  {
   "cell_type": "markdown",
   "metadata": {},
   "source": [
    "## Load dataset\n",
    "\n",
    "Import and put the whole dataset in a pandas.DataFrame."
   ]
  },
  {
   "cell_type": "code",
   "execution_count": null,
   "metadata": {},
   "outputs": [],
   "source": [
    "from platiagro import load_dataset\n",
    "\n",
    "df = load_dataset(name=dataset)\n",
    "X = df.drop(target, axis=1).to_numpy()\n",
    "y = df[target].to_numpy()"
   ]
  },
  {
   "cell_type": "markdown",
   "metadata": {},
   "source": [
    "## Load metadata about the dataset\n",
    "For example, below we get the feature type for each column in the dataset. (eg. categorical, numerical, or datetime)"
   ]
  },
  {
   "cell_type": "code",
   "execution_count": null,
   "metadata": {},
   "outputs": [],
   "source": [
    "import numpy as np\n",
    "from platiagro import stat_dataset\n",
    "\n",
    "metadata = stat_dataset(name=dataset)\n",
    "featuretypes = metadata[\"featuretypes\"]\n",
    "\n",
    "columns = df.columns.to_numpy()\n",
    "featuretypes = np.array(featuretypes)\n",
    "target_index = np.argwhere(columns == target)\n",
    "columns = np.delete(columns, target_index)\n",
    "featuretypes = np.delete(featuretypes, target_index)"
   ]
  },
  {
   "cell_type": "markdown",
   "metadata": {},
   "source": [
    "## Split dataset into train/test splits\n",
    "\n",
    "Training Dataset: the sample of data used to fit the model.\n",
    "\n",
    "Test Dataset: the sample of data used to provide an unbiased evaluation of a model fit on the training dataset."
   ]
  },
  {
   "cell_type": "code",
   "execution_count": null,
   "metadata": {},
   "outputs": [],
   "source": [
    "from sklearn.model_selection import train_test_split\n",
    "\n",
    "X_train, X_test, y_train, y_test = train_test_split(X, y,  train_size=0.7)"
   ]
  },
  {
   "cell_type": "markdown",
   "metadata": {},
   "source": [
    "## Fit a model using sklearn.linear_model.LinearRegression"
   ]
  },
  {
   "cell_type": "code",
   "execution_count": null,
   "metadata": {},
   "outputs": [],
   "source": [
    "from platiagro.featuretypes import NUMERICAL\n",
    "from sklearn.compose import ColumnTransformer\n",
    "from sklearn.impute import SimpleImputer\n",
    "from sklearn.linear_model import LinearRegression\n",
    "from sklearn.pipeline import Pipeline\n",
    "from sklearn.preprocessing import OrdinalEncoder\n",
    "\n",
    "numerical_indexes = (featuretypes == NUMERICAL)\n",
    "\n",
    "pipeline = Pipeline(steps=[\n",
    "    ('handle_missing_values',\n",
    "     ColumnTransformer(\n",
    "        [('imputer_mean', SimpleImputer(strategy='mean'), numerical_indexes),\n",
    "         ('imputer_mode', SimpleImputer(strategy='most_frequent'), ~numerical_indexes)],\n",
    "         remainder='drop')),\n",
    "    ('handle_categorical_features',\n",
    "     ColumnTransformer(\n",
    "         [('feature_encoder', OrdinalEncoder(), ~numerical_indexes)],\n",
    "         remainder='passthrough')),\n",
    "    ('estimator', LinearRegression())\n",
    "])\n",
    "\n",
    "pipeline.fit(X_train, y_train)    "
   ]
  },
  {
   "cell_type": "markdown",
   "metadata": {},
   "source": [
    "## Measure the performance\n",
    "\n",
    "R² corresponds to the squared correlation between the observed outcome values and the predicted values by the model."
   ]
  },
  {
   "cell_type": "code",
   "execution_count": null,
   "metadata": {},
   "outputs": [],
   "source": [
    "from sklearn.metrics import r2_score\n",
    "\n",
    "# uses the model to make predictions on the Test Dataset\n",
    "y_pred = pipeline.predict(X_test)\n",
    "\n",
    "# computes R²\n",
    "r2 = r2_score(y_test, y_pred)"
   ]
  },
  {
   "cell_type": "markdown",
   "metadata": {},
   "source": [
    "## Save metrics\n",
    "\n",
    "Record the metrics used to evaluate the model.<br>\n",
    "It's a good way to document the experiments, and also help to avoid running the same experiment twice. "
   ]
  },
  {
   "cell_type": "code",
   "execution_count": null,
   "metadata": {},
   "outputs": [],
   "source": [
    "from platiagro import save_metrics\n",
    "\n",
    "save_metrics(r2_score=r2)\n",
    "pipeline.fit(X, y)"
   ]
  },
  {
   "cell_type": "markdown",
   "metadata": {},
   "source": [
    "## Save figure\n",
    "\n",
    "Record a matplotlib figure to document the experiment."
   ]
  },
  {
   "cell_type": "code",
   "execution_count": null,
   "metadata": {},
   "outputs": [],
   "source": [
    "import matplotlib.pyplot as plt\n",
    "from platiagro import save_figure\n",
    "from scipy.stats import gaussian_kde\n",
    "\n",
    "\n",
    "def annotate_plot(e, s, plt, y_lim, h, abs_err):\n",
    "    if h < 2:\n",
    "        p = 0.05\n",
    "    else:\n",
    "        p = 0.1\n",
    "    plt.annotate(\"\", xy=(max(e), y_lim[1]/h),\n",
    "                 xytext=(0, y_lim[1]/h),\n",
    "                 arrowprops=dict(arrowstyle=\"->\"))\n",
    "    plt.annotate(\"\", xy=(min(e), y_lim[1]/h),\n",
    "                 xytext=(0, y_lim[1]/h),\n",
    "                 arrowprops=dict(arrowstyle=\"->\"))\n",
    "    plt.annotate(\"{}%\".format(s),\n",
    "                 xy=(0, (1+p)*y_lim[1]/h),\n",
    "                 ha=\"center\")\n",
    "    if abs_err:\n",
    "        plt.annotate(\"{:.2f}\".format(max(e)),\n",
    "                     xy=((0+max(e))/2, (1-p)*y_lim[1]/h),\n",
    "                     ha=\"center\")\n",
    "        plt.annotate(\"{:.2f}\".format(min(e)),\n",
    "                     xy=((0+min(e))/2, (1-p)*y_lim[1]/h),\n",
    "                     ha=\"center\")\n",
    "    else:\n",
    "        plt.annotate(\"{:.2f}%\".format(100*max(e)),\n",
    "                     xy=((0+max(e))/2, (1-p)*y_lim[1]/h),\n",
    "                     ha=\"center\")\n",
    "        plt.annotate(\"{:.2f}%\".format(100*min(e)),\n",
    "                     xy=((0+min(e))/2, (1-p)*y_lim[1]/h),\n",
    "                     ha=\"center\")"
   ]
  },
  {
   "cell_type": "code",
   "execution_count": null,
   "metadata": {},
   "outputs": [],
   "source": [
    "abs_err = False\n",
    "if any(y_test==0):\n",
    "    err = y_pred - y_test\n",
    "    abs_err = True\n",
    "else:\n",
    "    err = (y_pred - y_test)/y_test\n",
    "\n",
    "sorted_idx = np.argsort(np.abs(err))\n",
    "n = int(0.7*len(y_test))\n",
    "idx = sorted_idx[:n]\n",
    "e = err[idx]\n",
    "\n",
    "n = int(0.95*len(y_test))\n",
    "idx = sorted_idx[:n]\n",
    "aux = err[idx]\n",
    "x_lim = (aux.min(), aux.max())\n",
    "\n",
    "plt.figure()\n",
    "\n",
    "kde = gaussian_kde(err)\n",
    "x_err = np.linspace(err.min(), err.max(), 1000)\n",
    "p_err = kde(x_err)\n",
    "plt.plot(x_err, p_err, 'b-')\n",
    "\n",
    "y_lim = plt.ylim()\n",
    "plt.ylim((0, y_lim[1]))\n",
    "y_lim = plt.ylim()\n",
    "plt.xlim(x_lim)\n",
    "plt.plot([e.min(), e.min()], y_lim, \"r--\")\n",
    "plt.plot([e.max(), e.max()], y_lim, \"r--\")\n",
    "\n",
    "# Shade the area between e.min() and e.max()\n",
    "plt.fill_betweenx(y_lim, e.min(), e.max(),\n",
    "                  facecolor=\"red\",  # The fill color\n",
    "                  color=\"red\",      # The outline color\n",
    "                  alpha=0.2)        # Transparency of the fill\n",
    "\n",
    "annotate_plot(e, 70, plt, y_lim, 2, abs_err)\n",
    "annotate_plot(aux, 95, plt, y_lim, 1.2, abs_err)\n",
    "\n",
    "plt.grid(True)\n",
    "plt.title(\"Error Distribution\")\n",
    "\n",
    "save_figure(figure=plt.gcf())"
   ]
  },
  {
   "cell_type": "markdown",
   "metadata": {},
   "source": [
    "## Save model\n",
    "\n",
    "Stores the model artifacts in a object storage.<br>\n",
    "It will make the model available for future deployments."
   ]
  },
  {
   "cell_type": "code",
   "execution_count": null,
   "metadata": {},
   "outputs": [],
   "source": [
    "from platiagro import save_model\n",
    "\n",
    "save_model(pipeline=pipeline, columns=columns)"
   ]
  }
 ],
 "metadata": {
  "celltoolbar": "Tags",
  "experiment_id": "bed7a0e4-27fb-4be2-9f22-7861d15962df",
  "kernelspec": {
   "display_name": "Python 3",
   "language": "python",
   "name": "python3"
  },
  "language_info": {
   "codemirror_mode": {
    "name": "ipython",
    "version": 3
   },
   "file_extension": ".py",
   "mimetype": "text/x-python",
   "name": "python",
   "nbconvert_exporter": "python",
   "pygments_lexer": "ipython3",
   "version": "3.7.6"
  },
  "operator_id": "2a67f397-8b0e-4fa7-8d29-438f1f6f447a"
 },
 "nbformat": 4,
 "nbformat_minor": 4
}