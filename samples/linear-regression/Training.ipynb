{
 "cells": [
  {
   "cell_type": "markdown",
   "metadata": {},
   "source": [
    "# Ordinary least squares Linear Regression\n",
    "\n",
    "This is a component that trains an ordinary least squares Linear Regression. model using [Scikit-learn](https://scikit-learn.org/stable/modules/generated/sklearn.linear_model.LinearRegression.html). \n",
    "<br>\n",
    "Scikit-learn is an open source machine learning library that supports supervised and unsupervised learning. It also provides various tools for model fitting, data preprocessing, model selection and evaluation, and many other utilities.\n",
    "\n",
    "This notebook shows:\n",
    "- how to use SDK to load the dataset and save a model.\n",
    "- how to receive parameters from the platform."
   ]
  },
  {
   "cell_type": "code",
   "execution_count": null,
   "metadata": {
    "tags": [
     "parameters"
    ]
   },
   "outputs": [],
   "source": [
    "dataset = \"boston\" #@param {type:\"string\"}\n",
    "target = \"medv\" #@param {type:\"string\"}\n",
    "experiment_id = \"bed7a0e4-27fb-4be2-9f22-7861d15962df\" #@param {type:\"string\"}\n",
    "operator_id = \"2a67f397-8b0e-4fa7-8d29-438f1f6f447a\" #@param {type:\"string\"}"
   ]
  },
  {
   "cell_type": "markdown",
   "metadata": {},
   "source": [
    "## Load dataset\n",
    "\n",
    "Import and put the whole dataset in a pandas.DataFrame."
   ]
  },
  {
   "cell_type": "code",
   "execution_count": null,
   "metadata": {},
   "outputs": [],
   "source": [
    "from platiagro import load_dataset\n",
    "\n",
    "df = load_dataset(name=dataset)\n",
    "X = df.drop(target, axis=1).to_numpy()\n",
    "y = df[target].to_numpy()"
   ]
  },
  {
   "cell_type": "markdown",
   "metadata": {},
   "source": [
    "## Load metadata about the dataset\n",
    "For example, below we get the feature type for each column in the dataset. (eg. categorical, numerical, or datetime)"
   ]
  },
  {
   "cell_type": "code",
   "execution_count": null,
   "metadata": {},
   "outputs": [],
   "source": [
    "from platiagro import stat_dataset\n",
    "from platiagro.featuretypes import infer_featuretypes\n",
    "\n",
    "try:\n",
    "    metadata = stat_dataset(name=dataset)\n",
    "    featuretypes = metadata[\"featuretypes\"]\n",
    "except KeyError:\n",
    "    featuretypes = infer_featuretypes(df)"
   ]
  },
  {
   "cell_type": "markdown",
   "metadata": {},
   "source": [
    "## Encode categorical features\n",
    "\n",
    "Many machine learning algorithms cannot operate on categorical data directly. They require all input variables and output variables to be numeric.<br>\n",
    "This means that categorical data must be converted to a numerical form.<br>\n",
    "The features are converted to ordinal integers. This results in a single column of integers (0 to n_categories - 1) per feature."
   ]
  },
  {
   "cell_type": "code",
   "execution_count": null,
   "metadata": {},
   "outputs": [],
   "source": [
    "from platiagro.featuretypes import CATEGORICAL\n",
    "from sklearn.preprocessing import OrdinalEncoder\n",
    "\n",
    "target_idx = df.columns.tolist().index(target)\n",
    "# selects the categorical features\n",
    "categorical_idxs = [idx for idx, ft in enumerate(featuretypes) if ft == CATEGORICAL and idx != target_idx]\n",
    "feature_encoder = OrdinalEncoder()\n",
    "\n",
    "if len(categorical_idxs) > 0:\n",
    "    X[:, categorical_idxs] = feature_encoder.fit_transform(X[:, categorical_idxs])"
   ]
  },
  {
   "cell_type": "markdown",
   "metadata": {},
   "source": [
    "## Split dataset into train/test splits\n",
    "\n",
    "Training Dataset: the sample of data used to fit the model.\n",
    "\n",
    "Test Dataset: the sample of data used to provide an unbiased evaluation of a model fit on the training dataset."
   ]
  },
  {
   "cell_type": "code",
   "execution_count": null,
   "metadata": {},
   "outputs": [],
   "source": [
    "from sklearn.model_selection import train_test_split\n",
    "\n",
    "X_train, X_test, y_train, y_test = train_test_split(X, y,  train_size=0.7)"
   ]
  },
  {
   "cell_type": "markdown",
   "metadata": {},
   "source": [
    "## Fit a model using sklearn.linear_model.LinearRegression"
   ]
  },
  {
   "cell_type": "code",
   "execution_count": null,
   "metadata": {},
   "outputs": [],
   "source": [
    "from sklearn.linear_model import LinearRegression\n",
    "\n",
    "estimator = LinearRegression()\n",
    "estimator.fit(X_train, y_train)    "
   ]
  },
  {
   "cell_type": "markdown",
   "metadata": {},
   "source": [
    "## Measure the performance\n",
    "\n",
    "R² corresponds to the squared correlation between the observed outcome values and the predicted values by the model."
   ]
  },
  {
   "cell_type": "code",
   "execution_count": null,
   "metadata": {},
   "outputs": [],
   "source": [
    "from sklearn.metrics import r2_score\n",
    "\n",
    "# uses the model to make predictions on the Test Dataset\n",
    "y_pred = estimator.predict(X_test)\n",
    "\n",
    "# computes R²\n",
    "r2 = r2_score(y_test, y_pred)"
   ]
  },
  {
   "cell_type": "markdown",
   "metadata": {},
   "source": [
    "## Save metrics\n",
    "\n",
    "Record the metrics used to evaluate the model.<br>\n",
    "It's a good way to document the experiments, and also help to avoid running the same experiment twice. "
   ]
  },
  {
   "cell_type": "code",
   "execution_count": null,
   "metadata": {},
   "outputs": [],
   "source": [
    "from platiagro import save_metrics\n",
    "\n",
    "save_metrics(experiment_id=experiment_id, operator_id=operator_id, r2_score=r2)"
   ]
  },
  {
   "cell_type": "markdown",
   "metadata": {},
   "source": [
    "## Save figure\n",
    "\n",
    "Record a matplotlib figure to document the experiment."
   ]
  },
  {
   "cell_type": "code",
   "execution_count": null,
   "metadata": {},
   "outputs": [],
   "source": [
    "import numpy as np\n",
    "import seaborn as sns\n",
    "from platiagro import save_figure\n",
    "from scipy.stats import gaussian_kde\n",
    "\n",
    "abs_err = False\n",
    "if any(y_test==0):\n",
    "    err = y_pred - y_test\n",
    "    abs_err = True\n",
    "else:\n",
    "    err = (y_pred - y_test)/y_test\n",
    "\n",
    "kde = gaussian_kde(err)\n",
    "x_err = np.linspace(err.min(), err.max(), 1000)\n",
    "p_err = kde(x_err)\n",
    " \n",
    "ax = sns.kdeplot(p_err)\n",
    "\n",
    "save_figure(experiment_id=experiment_id, operator_id=operator_id, figure=ax.figure)"
   ]
  },
  {
   "cell_type": "markdown",
   "metadata": {},
   "source": [
    "## Save model\n",
    "\n",
    "Stores the model artifacts in a object storage.<br>\n",
    "It will make the model available for future deployments."
   ]
  },
  {
   "cell_type": "code",
   "execution_count": null,
   "metadata": {},
   "outputs": [],
   "source": [
    "from platiagro import save_model\n",
    "\n",
    "save_model(experiment_id=experiment_id, model={\"estimator\": estimator, \"feature_encoder\": feature_encoder})"
   ]
  }
 ],
 "metadata": {
  "celltoolbar": "Tags",
  "kernelspec": {
   "display_name": "Python 3",
   "language": "python",
   "name": "python3"
  },
  "language_info": {
   "codemirror_mode": {
    "name": "ipython",
    "version": 3
   },
   "file_extension": ".py",
   "mimetype": "text/x-python",
   "name": "python",
   "nbconvert_exporter": "python",
   "pygments_lexer": "ipython3",
   "version": "3.6.9"
  }
 },
 "nbformat": 4,
 "nbformat_minor": 2
}
