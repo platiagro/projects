{
 "cells": [
  {
   "cell_type": "markdown",
   "metadata": {},
   "source": [
    "# Random Forest Regressor\n",
    "\n",
    "This is a component that performs predictions using a Random Forest Regressor implementation from [Scikit-learn](https://scikit-learn.org/stable/modules/generated/sklearn.ensemble.RandomForestRegressor.html). \n",
    "<br>\n",
    "Scikit-learn is an open source machine learning library that supports supervised and unsupervised learning. It also provides various tools for model fitting, data preprocessing, model selection and evaluation, and many other utilities.\n",
    "\n",
    "This notebook shows:\n",
    "- how to use SDK to load a model.\n",
    "- how to use a model to provide real-time predictions."
   ]
  },
  {
   "cell_type": "code",
   "execution_count": null,
   "metadata": {},
   "outputs": [],
   "source": [
    "%%writefile Predictor.py\n",
    "import logging\n",
    "from typing import List, Iterable, Dict, Union\n",
    "\n",
    "import numpy as np\n",
    "import pandas as pd\n",
    "from platiagro import load_model, load_dataset\n",
    "from platiagro.featuretypes import CATEGORICAL, NUMERICAL, infer_featuretypes\n",
    "from sklearn.exceptions import NotFittedError \n",
    "from sklearn.utils.validation import check_is_fitted\n",
    "\n",
    "logger = logging.getLogger(__name__)\n",
    "\n",
    "\n",
    "class Predictor(object):\n",
    "    \"\"\"\n",
    "    Model template. You can load your model parameters in __init__ from a location accessible at runtime.\n",
    "    \"\"\"\n",
    "\n",
    "    def __init__(self, dataset=None, target=None, experiment_id=None):\n",
    "        logger.info(\"Initializing\")\n",
    "\n",
    "        # Load Estimator and Encoder\n",
    "        model = load_model(experiment_id=experiment_id)\n",
    "        self.estimator = model[\"estimator\"]\n",
    "        self.feature_encoder = model[\"feature_encoder\"]\n",
    "\n",
    "        # Load Dataset and Feature Types\n",
    "        df = load_dataset(name=dataset)\n",
    "        columns = df.columns.tolist()\n",
    "        target_idx = columns.index(target)\n",
    "        featuretypes = infer_featuretypes(df)\n",
    "\n",
    "        # Compute replacement for NaN values\n",
    "        # mode for categorical features\n",
    "        # mean for numerical features.\n",
    "        categorical = [columns[idx] for idx, ft in enumerate(featuretypes) if ft == CATEGORICAL and idx != target_idx]\n",
    "        numerical = [columns[idx] for idx, ft in enumerate(featuretypes) if ft == NUMERICAL and idx != target_idx]\n",
    "        self.categorical_nan_replacement = df.loc[:, categorical].mode(axis=0)\n",
    "        self.numerical_nan_replacement = df.loc[:, numerical].mean(axis=0)\n",
    "\n",
    "        logger.info(\"Init complete!\")\n",
    "\n",
    "    def predict(self, X: np.ndarray, feature_names: Iterable[str], meta: Dict = None) -> Union[np.ndarray, List, str, bytes]:\n",
    "        \"\"\"Returns a prediction.\n",
    "\n",
    "        Args:\n",
    "            X (numpy.array): Array-like with data.\n",
    "            feature_names (iterable, optional): Array of feature names.\n",
    "\n",
    "        Returns:\n",
    "            numpy.array: Array-like with predictions.\n",
    "        \"\"\"\n",
    "        # Encode categorical features\n",
    "        try:\n",
    "            check_is_fitted(self.feature_encoder, \"categories_\")\n",
    "            X = self.feature_encoder.transform(X)\n",
    "        except NotFittedError:\n",
    "            pass\n",
    "\n",
    "        # Put data in a pandas.DataFrame\n",
    "        df = pd.DataFrame(X, columns=feature_names)\n",
    "\n",
    "        # Replace NaNs\n",
    "        df.fillna(self.categorical_nan_replacement, inplace=True)\n",
    "        df.fillna(self.numerical_nan_replacement, inplace=True)\n",
    "\n",
    "        # Perform Prediction\n",
    "        return self.estimator.predict(df.to_numpy())"
   ]
  },
  {
   "cell_type": "markdown",
   "metadata": {},
   "source": [
    "## Deployment Test\n",
    "\n",
    "It simulates a model deployed by PlatIAgro"
   ]
  },
  {
   "cell_type": "code",
   "execution_count": null,
   "metadata": {},
   "outputs": [],
   "source": [
    "%%sh\n",
    "MODEL_NAME=Predictor\n",
    "API_TYPE=REST\n",
    "SERVICE_TYPE=MODEL\n",
    "PERSISTENCE=0\n",
    "LOG_LEVEL=DEBUG\n",
    "PARAMETERS='[{\"type\":\"STRING\",\"name\":\"dataset\",\"value\":\"boston\"},{\"type\":\"STRING\",\"name\":\"target\",\"value\":\"medv\"},{\"type\":\"STRING\",\"name\":\"experiment_id\",\"value\":\"d4269baf-e917-4c94-b078-7dc0223a6a1f\"}]'\n",
    "\n",
    "seldon-core-microservice $MODEL_NAME $API_TYPE \\\n",
    "    --service-type $SERVICE_TYPE \\\n",
    "    --persistence $PERSISTENCE \\\n",
    "    --parameters $PARAMETERS \\\n",
    "    --log-level $LOG_LEVEL > log.txt 2>&1 &\n",
    "\n",
    "until $(curl --output /dev/null --silent --head --fail http://localhost:5000/health/ping); do\n",
    "    printf '.'\n",
    "    sleep 1\n",
    "done"
   ]
  },
  {
   "cell_type": "markdown",
   "metadata": {},
   "source": [
    "## Make predictions"
   ]
  },
  {
   "cell_type": "code",
   "execution_count": null,
   "metadata": {},
   "outputs": [],
   "source": [
    "!curl localhost:5000/predict -d 'json={\"data\":{\"names\":[\"crim\", \"zn\", \"indus\", \"chas\", \"nox\", \"rm\", \"age\", \"dis\", \"rad\", \"tax\", \"ptratio\", \"black\", \"lstat\"], \"ndarray\":[[0.00632, 18.0, 2.31, 0, 0.5379999999999999, 6.575, 65.2, 4.09, 1, 296, 15.3, 396.9, 4.98]]}}'"
   ]
  },
  {
   "cell_type": "markdown",
   "metadata": {},
   "source": [
    "## View logs"
   ]
  },
  {
   "cell_type": "code",
   "execution_count": null,
   "metadata": {},
   "outputs": [],
   "source": [
    "!cat log.txt"
   ]
  },
  {
   "cell_type": "markdown",
   "metadata": {},
   "source": [
    "## Clean up the test"
   ]
  },
  {
   "cell_type": "code",
   "execution_count": null,
   "metadata": {},
   "outputs": [],
   "source": [
    "!ps -ef | grep [s]eldon-core-mic | awk '{print $2}' | xargs -r kill"
   ]
  },
  {
   "cell_type": "code",
   "execution_count": null,
   "metadata": {},
   "outputs": [],
   "source": []
  }
 ],
 "metadata": {
  "kernelspec": {
   "display_name": "Python 3",
   "language": "python",
   "name": "python3"
  },
  "language_info": {
   "codemirror_mode": {
    "name": "ipython",
    "version": 3
   },
   "file_extension": ".py",
   "mimetype": "text/x-python",
   "name": "python",
   "nbconvert_exporter": "python",
   "pygments_lexer": "ipython3",
   "version": "3.6.9"
  }
 },
 "nbformat": 4,
 "nbformat_minor": 2
}
