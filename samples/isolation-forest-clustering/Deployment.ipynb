{
 "cells": [
  {
   "cell_type": "markdown",
   "metadata": {},
   "source": [
    "# Isolation Forest Clustering - Deployment\n",
    "\n",
    "This is a component that trains a Isolation Forest model using [Scikit-learn](https://scikit-learn.org/stable/modules/generated/sklearn.ensemble.IsolationForest.html). \n",
    "<br>\n",
    "Scikit-learn is an open source machine learning library that supports supervised and unsupervised learning. It also provides various tools for model fitting, data preprocessing, model selection and evaluation, and many other utilities.\n",
    "\n",
    "This notebook shows:\n",
    "- how to use SDK to load the dataset and save a model.\n",
    "- how to receive parameters from the platform."
   ]
  },
  {
   "cell_type": "code",
   "execution_count": null,
   "metadata": {},
   "outputs": [],
   "source": [
    "%%writefile Model.py\n",
    "import logging\n",
    "from typing import List, Iterable, Dict, Union\n",
    "\n",
    "import numpy as np\n",
    "import pandas as pd\n",
    "from platiagro import load_model\n",
    "\n",
    "logger = logging.getLogger(__name__)\n",
    "\n",
    "\n",
    "class Model(object):\n",
    "    \"\"\"\n",
    "    Model template. You can load your model parameters in __init__ from a location accessible at runtime.\n",
    "    \"\"\"\n",
    "\n",
    "    def __init__(self, dataset=None, target=None):\n",
    "        \n",
    "        logger.info(f\"dataset: {dataset}\")\n",
    "\n",
    "        # Load Artifacts: Estimator, Encoders, etc\n",
    "        model = load_model()\n",
    "        self.pipeline = model[\"pipeline\"]\n",
    "        self.columns = model[\"columns\"]\n",
    "    \n",
    "    def class_names(self):\n",
    "        return [\"anomalyScore\"]\n",
    "\n",
    "    def predict(self, X: np.ndarray, feature_names: Iterable[str], meta: Dict = None) -> Union[np.ndarray, List, str, bytes]:\n",
    "        \"\"\"Takes an array (numpy) X and feature_names and returns an array of predictions.\n",
    "\n",
    "        Args:\n",
    "            X (numpy.array): Array-like with data.\n",
    "            feature_names (iterable, optional): Array of feature names.\n",
    "            meta (dict, optional): Dict of metadata.\n",
    "        \"\"\"\n",
    "        # Put data in a pandas.DataFrame to sort it\n",
    "        df = pd.DataFrame(X, columns=feature_names)\n",
    "\n",
    "        # Put data back in a numpy.ndarray\n",
    "        X = df[self.columns].to_numpy()\n",
    "\n",
    "        y_pred = self.pipeline.predict(X)\n",
    "\n",
    "        return y_pred"
   ]
  },
  {
   "cell_type": "markdown",
   "metadata": {},
   "source": [
    "## API Contract\n",
    "\n",
    "There are two sections:\n",
    "\n",
    "- `features` : The feature array you intend to send in a request\n",
    "\n",
    "Each section has a list of definitions. Each definition consists of:\n",
    "\n",
    "- `name` : String : The name of the feature\n",
    "- `ftype` : one of CONTINUOUS, CATEGORICAL : the type of the feature\n",
    "- `dtype` : One of FLOAT, INT : Required for ftype CONTINUOUS : What type of feature to create\n",
    "- `values` : list of Strings : Required for ftype CATEGORICAL : The possible categorical values\n",
    "- `range` : list of two numbers : Optional for ftype CONTINUOUS : The range of values (inclusive) that a continuous value can take\n",
    "- `repeat` : integer : Optional value for how many times to repeat this value\n",
    "- `shape` : array of integers : Optional value for the shape of array to coerce the values"
   ]
  },
  {
   "cell_type": "code",
   "execution_count": null,
   "metadata": {},
   "outputs": [],
   "source": [
    "%%writefile contract.json\n",
    "{\n",
    "    \"features\": [\n",
    "        {\n",
    "            \"name\": \"SepalLengthCm\",\n",
    "            \"dtype\": \"FLOAT\",\n",
    "            \"ftype\": \"continuous\",\n",
    "            \"range\": [4.3, 7.9]\n",
    "        },\n",
    "        {\n",
    "            \"name\": \"SepalWidthCm\",\n",
    "            \"dtype\": \"FLOAT\",\n",
    "            \"ftype\": \"continuous\",\n",
    "            \"range\": [2.0, 4.4]\n",
    "        },\n",
    "        {\n",
    "            \"name\": \"PetalLengthCm\",\n",
    "            \"dtype\": \"FLOAT\",\n",
    "            \"ftype\": \"continuous\",\n",
    "            \"range\": [1.0, 6.9]\n",
    "        },\n",
    "        {\n",
    "            \"name\": \"PetalWidthCm\",\n",
    "            \"dtype\": \"FLOAT\",\n",
    "            \"ftype\": \"continuous\",\n",
    "            \"range\": [0.1, 2.5]\n",
    "        },\n",
    "        {\n",
    "            \"name\": \"Species\",\n",
    "            \"ftype\": \"categorical\",\n",
    "            \"values\": [\"Iris-setosa\", \"Iris-versicolor\", \"Iris-virginica\"]\n",
    "        }\n",
    "    ],\n",
    "    \"targets\": [\n",
    "        {\n",
    "            \"name\": \"anomalyScore\",\n",
    "            \"ftype\": \"continuous\",\n",
    "            \"dtype\": \"FLOAT\",\n",
    "            \"range\": [-1.0, 1.0]\n",
    "        }\n",
    "    ]\n",
    "}"
   ]
  },
  {
   "cell_type": "markdown",
   "metadata": {},
   "source": [
    "## Test Deployment\n",
    "\n",
    "Starts a service wrapping a Model, sends a request to the service, and shows the response."
   ]
  },
  {
   "cell_type": "code",
   "execution_count": null,
   "metadata": {},
   "outputs": [],
   "source": [
    "from platiagro.deployment import test_deployment\n",
    "\n",
    "test_deployment(\"contract.json\")"
   ]
  }
 ],
 "metadata": {
  "experiment_id": "8ab3a539-cf46-458b-8747-224ed6c75d84",
  "kernelspec": {
   "display_name": "Python 3",
   "language": "python",
   "name": "python3"
  },
  "language_info": {
   "codemirror_mode": {
    "name": "ipython",
    "version": 3
   },
   "file_extension": ".py",
   "mimetype": "text/x-python",
   "name": "python",
   "nbconvert_exporter": "python",
   "pygments_lexer": "ipython3",
   "version": "3.7.4"
  },
  "operator_id": "18566747-2d0d-4d14-acb2-514bd1f91d43"
 },
 "nbformat": 4,
 "nbformat_minor": 2
}
