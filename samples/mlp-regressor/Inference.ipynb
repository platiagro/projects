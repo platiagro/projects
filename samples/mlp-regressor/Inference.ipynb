{
 "cells": [
  {
   "cell_type": "markdown",
   "metadata": {},
   "source": [
    "# Multi-layer Perceptron Regressor\n",
    "\n",
    "This is a component that performs predictions using a Multi-layer Perceptron Regressor implementation from [Scikit-learn](https://scikit-learn.org/stable/modules/generated/sklearn.neural_network.MLPRegressor.html). \n",
    "<br>\n",
    "Scikit-learn is an open source machine learning library that supports supervised and unsupervised learning. It also provides various tools for model fitting, data preprocessing, model selection and evaluation, and many other utilities.\n",
    "\n",
    "This notebook shows:\n",
    "- how to use the SDK to load a model and other artifacts.del and other artifacts.\n",
    "- how to use a model to provide real-time predictions."
   ]
  },
  {
   "cell_type": "code",
   "execution_count": null,
   "metadata": {},
   "outputs": [],
   "source": [
    "%%writefile Predictor.py\n",
    "import logging\n",
    "from typing import List, Iterable, Dict, Union\n",
    "\n",
    "import numpy as np\n",
    "import pandas as pd\n",
    "from platiagro import load_model\n",
    "\n",
    "logger = logging.getLogger(__name__)\n",
    "\n",
    "\n",
    "class Predictor(object):\n",
    "    \"\"\"\n",
    "    Model template. You can load your model parameters in __init__ from a location accessible at runtime.\n",
    "    \"\"\"\n",
    "\n",
    "    def __init__(self, dataset=None, target=None, experiment_id=None):\n",
    "        logger.info(\"Initializing\")\n",
    "\n",
    "        # Load Artifacts: Estimator, Encoders, etc\n",
    "        model = load_model(experiment_id=experiment_id)\n",
    "        self.estimator = model[\"estimator\"]\n",
    "        self.feature_encoder = model[\"feature_encoder\"]\n",
    "        self.columns = model[\"columns\"]\n",
    "        self.datetime_indexes = model[\"datetime_indexes\"]\n",
    "        self.categorical_indexes = model[\"categorical_indexes\"]\n",
    "        self.numerical_nan_replacement = model[\"numerical_nan_replacement\"]\n",
    "        self.categorical_nan_replacement = model[\"categorical_nan_replacement\"]\n",
    "\n",
    "        logger.info(\"Init complete!\")\n",
    "\n",
    "    def predict(self, X: np.ndarray, feature_names: Iterable[str], meta: Dict = None) -> Union[np.ndarray, List, str, bytes]:\n",
    "        \"\"\"Returns a prediction.\n",
    "\n",
    "        Args:\n",
    "            X (numpy.array): Array-like with data.\n",
    "            feature_names (iterable, optional): Array of feature names.\n",
    "            meta (dict, optional): Dict of metadata.\n",
    "\n",
    "        Returns:\n",
    "            Array-like with predictions.\n",
    "        \"\"\"\n",
    "        # Put data in a pandas.DataFrame\n",
    "        df = pd.DataFrame(X, columns=feature_names)\n",
    "\n",
    "        # Replace NaNs\n",
    "        df.fillna(self.categorical_nan_replacement, inplace=True)\n",
    "        df.fillna(self.numerical_nan_replacement, inplace=True)\n",
    "\n",
    "        # Put data back in a numpy.ndarray\n",
    "        X = df[self.columns].to_numpy()\n",
    "\n",
    "        # Remove datetime features\n",
    "        X = X[:, np.where(~self.datetime_indexes)[0]]\n",
    "\n",
    "        # Encode categorical features\n",
    "        if np.ma.any(self.categorical_indexes):\n",
    "            X[:, self.categorical_indexes] = \\\n",
    "                self.feature_encoder.transform(X[:, self.categorical_indexes])\n",
    "\n",
    "        # Perform Prediction\n",
    "        return self.estimator.predict(X)"
   ]
  },
  {
   "cell_type": "markdown",
   "metadata": {},
   "source": [
    "## Deployment Test\n",
    "\n",
    "It simulates a model deployed by PlatIAgro"
   ]
  },
  {
   "cell_type": "code",
   "execution_count": null,
   "metadata": {},
   "outputs": [],
   "source": [
    "%%writefile env\n",
    "export DATASET=\"${DATASET:-boston}\"\n",
    "export TARGET=\"${TARGET:-medv}\"\n",
    "export EXPERIMENT_ID=\"${EXPERIMENT_ID:-c888e8b5-8401-486f-95a3-0c2807d9b0d7}\"\n",
    "export MODEL_NAME=\"Predictor\"\n",
    "export API_TYPE=\"REST\"\n",
    "export SERVICE_TYPE=\"MODEL\"\n",
    "export PERSISTENCE=0\n",
    "export LOG_LEVEL=\"DEBUG\"\n",
    "read -r -d \"\" PARAMETERS << EOM\n",
    "[{\"type\": \"STRING\", \"name\": \"dataset\", \"value\": \"$DATASET\"},\n",
    " {\"type\": \"STRING\", \"name\": \"target\", \"value\": \"$TARGET\"},\n",
    " {\"type\": \"STRING\", \"name\": \"experiment_id\", \"value\": \"$EXPERIMENT_ID\"}]\n",
    "EOM\n",
    "export PARAMETERS"
   ]
  },
  {
   "cell_type": "code",
   "execution_count": null,
   "metadata": {},
   "outputs": [],
   "source": [
    "%%bash\n",
    ". ./env\n",
    "seldon-core-microservice \"$MODEL_NAME\" \"$API_TYPE\" \\\n",
    "    --service-type \"$SERVICE_TYPE\" \\\n",
    "    --persistence \"$PERSISTENCE\" \\\n",
    "    --parameters \"$PARAMETERS\" \\\n",
    "    --log-level \"$LOG_LEVEL\" > log.txt 2>&1 &\n",
    "\n",
    "ATTEMPT=0\n",
    "until $(curl --output /dev/null --silent --head --fail http://localhost:5000/health/ping); do\n",
    "    # exit process if not healthy after 10 seconds\n",
    "    if [ \"$ATTEMPT\" -gt 10 ]; then\n",
    "        cat log.txt\n",
    "        exit 1\n",
    "    fi\n",
    "    ATTEMPT=$((ATTEMPT + 1))\n",
    "    sleep 1\n",
    "done\n",
    "echo \"Deployment successful. Waiting for requests.\""
   ]
  },
  {
   "cell_type": "markdown",
   "metadata": {},
   "source": [
    "## Make predictions"
   ]
  },
  {
   "cell_type": "code",
   "execution_count": null,
   "metadata": {},
   "outputs": [],
   "source": [
    "%%bash\n",
    "curl -sSL localhost:5000/predict --data-binary @- << EOF\n",
    "json={\n",
    "    \"data\": {\n",
    "        \"names\": [\"crim\", \"zn\", \"indus\", \"chas\", \"nox\", \"rm\", \"age\", \"dis\", \"rad\", \"tax\", \"ptratio\", \"black\", \"lstat\"],\n",
    "        \"ndarray\": [\n",
    "            [0.00632, 18.0, 2.31, 0, 0.5379999999999999, 6.575, 65.2, 4.09, 1, 296, 15.3, 396.9, 4.98]\n",
    "        ]\n",
    "    }\n",
    "}\n",
    "EOF"
   ]
  },
  {
   "cell_type": "markdown",
   "metadata": {},
   "source": [
    "## View logs"
   ]
  },
  {
   "cell_type": "code",
   "execution_count": null,
   "metadata": {},
   "outputs": [],
   "source": [
    "!cat log.txt"
   ]
  },
  {
   "cell_type": "markdown",
   "metadata": {},
   "source": [
    "## Clean up the test"
   ]
  },
  {
   "cell_type": "code",
   "execution_count": null,
   "metadata": {},
   "outputs": [],
   "source": [
    "!ps -ef | grep [s]eldon-core-mic | awk '{print $2}' | xargs -r kill"
   ]
  },
  {
   "cell_type": "code",
   "execution_count": null,
   "metadata": {},
   "outputs": [],
   "source": []
  }
 ],
 "metadata": {
  "kernelspec": {
   "display_name": "Python 3",
   "language": "python",
   "name": "python3"
  },
  "language_info": {
   "codemirror_mode": {
    "name": "ipython",
    "version": 3
   },
   "file_extension": ".py",
   "mimetype": "text/x-python",
   "name": "python",
   "nbconvert_exporter": "python",
   "pygments_lexer": "ipython3",
   "version": "3.6.9"
  }
 },
 "nbformat": 4,
 "nbformat_minor": 2
}