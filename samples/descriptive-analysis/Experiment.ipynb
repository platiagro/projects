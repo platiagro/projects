{
 "cells": [
  {
   "cell_type": "markdown",
   "metadata": {},
   "source": [
    "# Análise descritiva\n",
    "\n",
    "Este componente realiza a análise descritiva de cada coluna do dataset fornecido. Para colunas numéricas, são calculadas as seguintes estatísticas: `count`, `mean`, `std`, `min`, `max`, além dos percentis. Para dados categóricos, por outro lado, calculam-se `count`, `unique`, `top` e `freq`. O valor de `top` representa a **moda** , enquanto `freq` é a frequência da **moda**."
   ]
  },
  {
   "cell_type": "markdown",
   "metadata": {},
   "source": [
    "## Parâmetro de entrada"
   ]
  },
  {
   "cell_type": "code",
   "execution_count": null,
   "metadata": {
    "tags": [
     "parameters"
    ]
   },
   "outputs": [],
   "source": [
    "# parameters\n",
    "dataset = \"titanic\" #@param {type:\"string\"}"
   ]
  },
  {
   "cell_type": "markdown",
   "metadata": {},
   "source": [
    "## Carrega o dataset juntamente com os respectivos metadados\n",
    "\n",
    "Carrega o dataset em um `pandas.DataFrame`. Os tipos de cada coluna do dataset são carregados em `featuretypes`."
   ]
  },
  {
   "cell_type": "code",
   "execution_count": null,
   "metadata": {},
   "outputs": [],
   "source": [
    "from platiagro import load_dataset\n",
    "from platiagro import stat_dataset\n",
    "\n",
    "df = load_dataset(name=dataset)\n",
    "featuretypes = stat_dataset(name=dataset)[\"featuretypes\"]"
   ]
  },
  {
   "cell_type": "markdown",
   "metadata": {},
   "source": [
    "## Realiza a análise descritiva"
   ]
  },
  {
   "cell_type": "code",
   "execution_count": null,
   "metadata": {},
   "outputs": [],
   "source": [
    "import numpy as np\n",
    "from platiagro import CATEGORICAL\n",
    "from platiagro import NUMERICAL\n",
    "\n",
    "for i, col in enumerate(df):\n",
    "    if featuretypes[i] == CATEGORICAL:\n",
    "        df[col] = df[col].astype('category')\n",
    "\n",
    "def get_description(df, col_type):\n",
    "    idx = np.where(np.array(featuretypes) == col_type)[0]\n",
    "    if len(idx) > 0:\n",
    "        return df.iloc[:, idx].describe().T\n",
    "    return None\n",
    "\n",
    "categorical_description = get_description(df, CATEGORICAL)\n",
    "numeric_description = get_description(df, NUMERICAL)"
   ]
  },
  {
   "cell_type": "markdown",
   "metadata": {},
   "source": [
    "## Salva as tabelas com as estatísticas da análise descritiva"
   ]
  },
  {
   "cell_type": "code",
   "execution_count": null,
   "metadata": {},
   "outputs": [],
   "source": [
    "import matplotlib.pyplot as plt\n",
    "from platiagro import save_figure\n",
    "\n",
    "def format_str_cell(text, max_len=20):\n",
    "    return text[:max_len] + '...' if len(text) > max_len else text\n",
    "    \n",
    "def render_table(data, col_width=3.0, row_height=0.625, font_size=8,\n",
    "                 header_color='#40466e', row_colors=['#f1f1f2', 'w'],\n",
    "                 edge_color='w', bbox=[0, 0, 1, 1], header_columns=0,\n",
    "                 ax=None, **kwargs):\n",
    "    if ax is None:\n",
    "        size = (np.array(data.shape[::-1]) +\\\n",
    "                np.array([0, 1])) * np.array([col_width, row_height])\n",
    "        fig, ax = plt.subplots(figsize=size)\n",
    "        ax.axis('off')\n",
    "\n",
    "    # Format cells\n",
    "    cellText = [[format_str_cell(j) if type(j) == str else '%.2f' % j for j in i] for i in data.values]\n",
    "    \n",
    "    mpl_table = ax.table(\n",
    "        cellText=cellText, bbox=bbox,\n",
    "        colLabels=data.columns, \n",
    "        rowLabels=[format_str_cell(x) for x in data.index],\n",
    "        **kwargs\n",
    "    )\n",
    "\n",
    "    mpl_table.auto_set_font_size(False)\n",
    "    mpl_table.set_fontsize(font_size)\n",
    "\n",
    "    for k, cell in mpl_table._cells.items():\n",
    "        cell.set_edgecolor(edge_color)\n",
    "        if k[0] == 0 or k[1] < header_columns:\n",
    "            cell.set_text_props(weight='bold', color='w')\n",
    "            cell.set_facecolor(header_color)\n",
    "        else:\n",
    "            cell.set_facecolor(row_colors[k[0] % len(row_colors) ])\n",
    "    return ax\n",
    "\n",
    "if categorical_description is not None:\n",
    "    render_table(categorical_description, header_columns=0, col_width=2.0)\n",
    "    save_figure(figure=plt.gcf())\n",
    "    plt.clf()\n",
    "\n",
    "if numeric_description is not None:\n",
    "    render_table(numeric_description, header_columns=0, col_width=2.0)\n",
    "    save_figure(figure=plt.gcf())\n",
    "    plt.clf()"
   ]
  }
 ],
 "metadata": {
  "celltoolbar": "Tags",
  "experiment_id": "ef459489-8284-4f43-9ee0-c60ca529878a",
  "kernelspec": {
   "display_name": "Python 3",
   "language": "python",
   "name": "python3"
  },
  "language_info": {
   "codemirror_mode": {
    "name": "ipython",
    "version": 3
   },
   "file_extension": ".py",
   "mimetype": "text/x-python",
   "name": "python",
   "nbconvert_exporter": "python",
   "pygments_lexer": "ipython3",
   "version": "3.7.6"
  },
  "operator_id": "f46ebbfe-a615-425a-99a9-2b48e2b7ff5b"
 },
 "nbformat": 4,
 "nbformat_minor": 4
}
