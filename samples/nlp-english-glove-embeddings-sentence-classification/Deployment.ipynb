{
 "cells": [
  {
   "cell_type": "markdown",
   "metadata": {},
   "source": [
    "# English GloVe Embeddings Bag - Implantação\n",
    "\n",
    "Este componente classifica sentenças baseado nos pacotes de Embeddings GloVe diponível disponiblizado pela [Stanford](https://nlp.stanford.edu/projects/glove/)\n",
    "### **Em caso de dúvidas, consulte os [tutoriais da PlatIAgro](https://platiagro.github.io/tutorials/).**"
   ]
  },
  {
   "cell_type": "markdown",
   "metadata": {},
   "source": [
    "## Declaração de Classe para Predições em Tempo Real\n",
    "\n",
    "A tarefa de implantação cria um serviço REST para predições em tempo-real.<br>\n",
    "Para isso você deve criar uma classe `Model` que implementa o método `predict`."
   ]
  },
  {
   "cell_type": "code",
   "execution_count": null,
   "metadata": {},
   "outputs": [],
   "source": [
    "%%writefile Model.py\n",
    "import logging\n",
    "import os\n",
    "import pickle\n",
    "from typing import Dict, Iterable, List, Union\n",
    "\n",
    "import numpy as np\n",
    "import pandas as pd\n",
    "import pytorch_lightning as pl\n",
    "import torch\n",
    "from Dataset import ImdbDataset\n",
    "from Model_Lightning import GloveFinetuner\n",
    "from platiagro import load_model\n",
    "from pytorch_lightning.callbacks import ModelCheckpoint\n",
    "\n",
    "logger = logging.getLogger(__name__)\n",
    "\n",
    "\n",
    "class Model(object):\n",
    "    def __init__(self, dataset: str = None, target: str = None):\n",
    "        # Carrega artefatos: estimador, etc\n",
    "        artifacts_file_name = \"artifacts.p\"\n",
    "        artifacts = pickle.load(open(f\"/tmp/data/{artifacts_file_name}\", \"rb\"))\n",
    "        self.max_epochs = artifacts[\"hyperparams\"][\"max_epochs\"]\n",
    "        self.columns = artifacts[\"deployment_infos\"][\"columns\"]\n",
    "        self.label_encoder = artifacts[\"model_parameters\"][\"label_encoder\"]\n",
    "        self.glove_vocab = artifacts[\"deployment_infos\"][\"glove_vocab\"]\n",
    "\n",
    "        # Carregando pesos do modelo\n",
    "        dataset_infos = {\n",
    "            \"all_data\": artifacts[\"dataset_infos\"][\"all_data\"],\n",
    "            \"CustomDataset\": ImdbDataset,\n",
    "        }\n",
    "        self.model = GloveFinetuner(\n",
    "            hyperparams=artifacts[\"hyperparams\"],\n",
    "            model_parameters=artifacts[\"model_parameters\"],\n",
    "            dataset_infos=dataset_infos,\n",
    "            extra_infos=artifacts[\"extra_infos\"],\n",
    "        )\n",
    "\n",
    "        model_file_name = \"pytorch_model.pt\"\n",
    "        self.model.load_state_dict(torch.load(f\"/tmp/data/{model_file_name}\"))\n",
    "        self.model.eval()\n",
    "        self.trainer = self.fit_model()\n",
    "\n",
    "    def load_checkpoint(self, filepath, artifacts):\n",
    "        dataset_infos = {\n",
    "            \"all_data\": artifacts[\"dataset_infos\"][\"all_data\"],\n",
    "            \"CustomDataset\": ImdbDataset,\n",
    "        }\n",
    "        model = GloveFinetuner(\n",
    "            hyperparams=artifacts[\"hyperparams\"],\n",
    "            model_parameters=artifacts[\"model_parameters\"],\n",
    "            dataset_infos=dataset_infos,\n",
    "            extra_infos=artifacts[\"extra_infos\"],\n",
    "        )\n",
    "\n",
    "        return model\n",
    "\n",
    "    def fit_model(self):\n",
    "        cwd = \"/tmp/data\"\n",
    "        #cwd = os.getcwd()\n",
    "        checkpoint_path = cwd + \"/epoch=199.ckpt\"\n",
    "        checkpoint_dir = os.path.dirname(os.path.abspath(checkpoint_path))\n",
    "        print(f\"Files in {checkpoint_dir}: {os.listdir(checkpoint_dir)}\")\n",
    "        print(f\"Saving checkpoints to {checkpoint_dir}\")\n",
    "        checkpoint_callback = ModelCheckpoint(\n",
    "            filepath=checkpoint_dir, save_top_k=-1, monitor=\"val_acc\"\n",
    "        )  # Keeps all checkpoints.\n",
    "\n",
    "        resume_from_checkpoint = None\n",
    "        if os.path.exists(checkpoint_path):\n",
    "            print(f\"Restoring checkpoint: {checkpoint_path}\")\n",
    "            resume_from_checkpoint = checkpoint_path\n",
    "\n",
    "        trainer = pl.Trainer(\n",
    "            gpus=0,\n",
    "            max_epochs=self.max_epochs,\n",
    "            check_val_every_n_epoch=100,\n",
    "            profiler=True,\n",
    "            checkpoint_callback=checkpoint_callback,\n",
    "            progress_bar_refresh_rate=100,\n",
    "            resume_from_checkpoint=resume_from_checkpoint,\n",
    "        )\n",
    "\n",
    "        trainer.fit(self.model)\n",
    "        return trainer\n",
    "\n",
    "    def tokenize_text(self, text_list: list = None):\n",
    "        tokenize_list = list()\n",
    "        for text in text_list:\n",
    "            text = text[0]\n",
    "            text = text.split(\" \")\n",
    "            tokenize_list.append(text)\n",
    "        return tokenize_list\n",
    "\n",
    "    def build_glove_matrix(self, X):\n",
    "        X = self.tokenize_text(X)\n",
    "        glove_matrix = []\n",
    "        word_filtered_matrix = []\n",
    "\n",
    "        for token_line in X:\n",
    "            token_phrase = [\n",
    "                self.glove_vocab[word]\n",
    "                for word in token_line\n",
    "                if (word in self.glove_vocab)\n",
    "            ]\n",
    "            filtered_words = [word for word in token_line if (word in self.glove_vocab)]\n",
    "            word_filtered_matrix.append(filtered_words)\n",
    "            glove_matrix.append(token_phrase)\n",
    "\n",
    "        return glove_matrix, word_filtered_matrix\n",
    "\n",
    "    def predict(\n",
    "        self, X: np.ndarray, feature_names: Iterable[str], meta: Dict = None\n",
    "    ) -> Union[np.ndarray, List, str, bytes]:\n",
    "        if feature_names:\n",
    "            # Antes de utilizar o conjunto de dados X no modelo, reordena suas features de acordo com a ordem utilizada no treinamento\n",
    "            df = pd.DataFrame(X, columns=feature_names)\n",
    "            X = df[self.columns].to_numpy()\n",
    "\n",
    "        X_inference_glove_ids, X_inference_glove_words = self.build_glove_matrix(X)\n",
    "        result = self.model.predict(X_inference_glove_ids, X_inference_glove_words)\n",
    "\n",
    "        return result"
   ]
  },
  {
   "cell_type": "code",
   "execution_count": 2,
   "metadata": {},
   "outputs": [],
   "source": [
    "%run Model.py"
   ]
  },
  {
   "cell_type": "code",
   "execution_count": 3,
   "metadata": {},
   "outputs": [
    {
     "name": "stderr",
     "output_type": "stream",
     "text": [
      "INFO:lightning:GPU available: False, used: False\n"
     ]
    },
    {
     "name": "stdout",
     "output_type": "stream",
     "text": [
      "Files in /home/jovyan/tasks/GloVe_Bag_Of_Embeddings_Sentence_Classification: ['pyotrch_model.pt', '.ipynb_checkpoints', 'Experiment.ipynb', 'glove_dir', 'Model.py', 'epoch=199.ckpt', 'lightning_logs', 'glove.6B.zip', 'Deployment.ipynb', 'artifacts.p', '__pycache__', 'epoch=99.ckpt', 'Model_Lightning.py', 'Dataset.py']\n",
      "Saving checkpoints to /home/jovyan/tasks/GloVe_Bag_Of_Embeddings_Sentence_Classification\n",
      "Restoring checkpoint: /home/jovyan/tasks/GloVe_Bag_Of_Embeddings_Sentence_Classification/epoch=199.ckpt\n"
     ]
    },
    {
     "name": "stderr",
     "output_type": "stream",
     "text": [
      "INFO:lightning:\n",
      "  | Name          | Type             | Params\n",
      "-----------------------------------------------\n",
      "0 | loss_funtion  | CrossEntropyLoss | 0     \n",
      "1 | predict_proba | Softmax          | 0     \n",
      "2 | embedding_bag | EmbeddingBag     | 120 M \n",
      "3 | layer1        | Linear           | 90 K  \n",
      "4 | layer2        | Linear           | 602   \n",
      "5 | net           | Sequential       | 90 K  \n"
     ]
    },
    {
     "data": {
      "application/vnd.jupyter.widget-view+json": {
       "model_id": "e8c580a22d7b4592aa5fc57d5fd72f68",
       "version_major": 2,
       "version_minor": 0
      },
      "text/plain": [
       "HBox(children=(FloatProgress(value=1.0, bar_style='info', description='Validation sanity check', layout=Layout…"
      ]
     },
     "metadata": {},
     "output_type": "display_data"
    },
    {
     "data": {
      "application/vnd.jupyter.widget-view+json": {
       "model_id": "b759dd8cfb174f1b848d212e10c59602",
       "version_major": 2,
       "version_minor": 0
      },
      "text/plain": [
       "HBox(children=(FloatProgress(value=1.0, bar_style='info', description='Training', layout=Layout(flex='2'), max…"
      ]
     },
     "metadata": {},
     "output_type": "display_data"
    },
    {
     "name": "stderr",
     "output_type": "stream",
     "text": [
      "INFO:lightning:\n",
      "\n",
      "Profiler Report\n",
      "\n",
      "Action              \t|  Mean duration (s)\t|  Total time (s) \n",
      "-----------------------------------------------------------------\n",
      "on_train_start      \t|  0.060309       \t|  0.060309       \n",
      "on_train_end        \t|  0.003972       \t|  0.003972       \n",
      "\n"
     ]
    },
    {
     "name": "stdout",
     "output_type": "stream",
     "text": [
      "\n"
     ]
    }
   ],
   "source": [
    "from Model import Model\n",
    "\n",
    "artifacts_file_name = \"artifacts.p\"\n",
    "artifacts = pickle.load(open(f\"/tmp/data/{artifacts_file_name}\", \"rb\"))\n",
    "X_test = artifacts[\"deployment_infos\"][\"X_test\"]\n",
    "inferenceModel = Model()"
   ]
  },
  {
   "cell_type": "code",
   "execution_count": 5,
   "metadata": {},
   "outputs": [],
   "source": [
    "X_test = np.array(\n",
    "    [[\"There are many levels of perversity at play. And yet it is transfixing.\"]]\n",
    ")"
   ]
  },
  {
   "cell_type": "code",
   "execution_count": 6,
   "metadata": {},
   "outputs": [
    {
     "data": {
      "text/html": [
       "<div>\n",
       "<style scoped>\n",
       "    .dataframe tbody tr th:only-of-type {\n",
       "        vertical-align: middle;\n",
       "    }\n",
       "\n",
       "    .dataframe tbody tr th {\n",
       "        vertical-align: top;\n",
       "    }\n",
       "\n",
       "    .dataframe thead th {\n",
       "        text-align: right;\n",
       "    }\n",
       "</style>\n",
       "<table border=\"1\" class=\"dataframe\">\n",
       "  <thead>\n",
       "    <tr style=\"text-align: right;\">\n",
       "      <th></th>\n",
       "      <th>ORIGINAL_TARGET</th>\n",
       "      <th>ORIGINAL_CODE</th>\n",
       "      <th>PREDICTED_TARGET</th>\n",
       "      <th>PREDICTED_CODE</th>\n",
       "      <th>NEG_PROBA</th>\n",
       "      <th>POS_PROBA</th>\n",
       "    </tr>\n",
       "  </thead>\n",
       "  <tbody>\n",
       "    <tr>\n",
       "      <th>0</th>\n",
       "      <td>N/A</td>\n",
       "      <td>N/A</td>\n",
       "      <td>positive</td>\n",
       "      <td>1</td>\n",
       "      <td>0.000702</td>\n",
       "      <td>0.999298</td>\n",
       "    </tr>\n",
       "  </tbody>\n",
       "</table>\n",
       "</div>"
      ],
      "text/plain": [
       "  ORIGINAL_TARGET ORIGINAL_CODE PREDICTED_TARGET PREDICTED_CODE  NEG_PROBA  \\\n",
       "0             N/A           N/A         positive              1   0.000702   \n",
       "\n",
       "   POS_PROBA  \n",
       "0   0.999298  "
      ]
     },
     "execution_count": 6,
     "metadata": {},
     "output_type": "execute_result"
    }
   ],
   "source": [
    "resultado = inferenceModel.predict(X_test, None)\n",
    "resultado"
   ]
  }
 ],
 "metadata": {
  "experiment_id": "e28df18f-9c28-489c-a06d-b8f6b41d2b86",
  "kernelspec": {
   "display_name": "Python 3",
   "language": "python",
   "name": "python3"
  },
  "language_info": {
   "codemirror_mode": {
    "name": "ipython",
    "version": 3
   },
   "file_extension": ".py",
   "mimetype": "text/x-python",
   "name": "python",
   "nbconvert_exporter": "python",
   "pygments_lexer": "ipython3",
   "version": "3.7.8"
  },
  "operator_id": "a0e7602d-bd2e-4aec-81a1-7c40a39a6d9d",
  "task_id": "a389eadf-b489-4eda-afe5-53c63c0649ce"
 },
 "nbformat": 4,
 "nbformat_minor": 4
}
