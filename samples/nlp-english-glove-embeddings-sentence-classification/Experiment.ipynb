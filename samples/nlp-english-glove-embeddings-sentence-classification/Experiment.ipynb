{
 "cells": [
  {
   "cell_type": "markdown",
   "metadata": {
    "colab_type": "text",
    "id": "Fi4s3f_Pcfi8"
   },
   "source": [
    "# English GloVe Embeddings Bag - Experimento\n",
    "\n",
    "Este componente classifica sentenças baseado nos pacotes de Embeddings GloVe diponível disponiblizado pela [Stanford](https://nlp.stanford.edu/projects/glove/)\n",
    "Este notebook apresenta:\n",
    "- como usar o [SDK](https://platiagro.github.io/sdk/) para carregar datasets, salvar modelos e outros artefatos.\n",
    "- como declarar parâmetros e usá-los para criar componentes reutilizáveis."
   ]
  },
  {
   "cell_type": "markdown",
   "metadata": {
    "colab_type": "text",
    "id": "VS0WZkTKcfi9"
   },
   "source": [
    "## Declare parâmetros e hiperparâmetros para o modelo\n",
    "Os componentes podem declarar (e usar) estes parâmetros como padrão:\n",
    "- dataset\n",
    "- target\n",
    "\n",
    "Use estes parâmetros para carregar/salvar conjutos de dados, modelos, métricas e figuras com a ajuda do [SDK da PlatIAgro](https://platiagro.github.io/sdk/). <br>\n",
    "É possível também declarar parâmetros personalizados para serem definidos ao executar um experimento. \n",
    "\n",
    "Selecione os hiperparâmetros e seus respectivos valores para serem usados ao treinar o modelo:\n",
    "- language\n",
    "\n",
    "Estes parâmetros são alguns dos oferecidos pela classe do modelo, você também pode utilizar outros existentes. <br>\n",
    "Dê uma olhada nos [parâmetros do modelo](https://scikit-learn.org/stable/modules/generated/sklearn.impute.SimpleImputer.html#sklearn-impute-simpleimputer) para mais informações."
   ]
  },
  {
   "cell_type": "code",
   "execution_count": 28,
   "metadata": {
    "colab": {},
    "colab_type": "code",
    "id": "3F2NzQcfcfi_",
    "tags": [
     "parameters"
    ]
   },
   "outputs": [],
   "source": [
    "# parâmetros\n",
    "dataset = \"/tmp/data/imdb-2.csv\" #@param {type:\"string\"}\n",
    "target = \"sentiment\" #@param {type:\"string\", label:\"Atributo alvo\", description:\"Seu modelo será treinado para prever os valores do alvo.\"}\n",
    "language = \"english\" #@param [\"portuguese\", \"english\"] {type:\"string\", label:\"Linguagem\", description:\"Linguagem da qual os stopwords pertencem. Deve ser a mesma utilizada no dataset.\"}\n",
    "\n",
    "# Hyperparâametros\n",
    "train_batch_size = 10 #@param {type:\"integer\"}\n",
    "eval_batch_size = 2 #@param {type:\"integer\"}\n",
    "max_epochs = 200 #@param {type:\"integer\"}\n",
    "accumulate_grad_batches = 8 #@param {type:\"integer\"}\n",
    "learning_rate = 0.12 #@param {type:\"number\"}\n",
    "seed = 7 #@param {type:\"integer\"}\n",
    "hidden_dim = 300 #@param {type:\"integer\"}\n",
    "\n",
    "# selected features to perform the model\n",
    "filter_type = \"incluir\" #@param [\"incluir\",\"remover\"] {type:\"string\",label:\"Modo de seleção das features\", description:\"Se deseja informar quais features deseja incluir no modelo, selecione a opção [incluir]. Caso deseje informar as features que não devem ser utilizadas, selecione [remover]. \"}\n",
    "#model_features = \"review\" #@param {type:\"string\",multiple:true,label:\"Features para incluir/remover no modelo\",description:\"Seu modelo será feito considerando apenas as features selecionadas. Caso nada seja especificado, todas as features serão utilizadas\"}\n",
    "model_features = \"review\" #@param {type:\"string\"}"
   ]
  },
  {
   "cell_type": "markdown",
   "metadata": {
    "colab_type": "text",
    "id": "ylc859l2kLMc"
   },
   "source": [
    "## Configurações Gerais\n",
    "\n"
   ]
  },
  {
   "cell_type": "markdown",
   "metadata": {
    "colab_type": "text",
    "id": "-VWoVX87lIl2"
   },
   "source": [
    "Definindo GPU como padrão e verificando status de hardware"
   ]
  },
  {
   "cell_type": "code",
   "execution_count": 29,
   "metadata": {
    "colab": {
     "base_uri": "https://localhost:8080/",
     "height": 33
    },
    "colab_type": "code",
    "id": "C1jVexlxkKPB",
    "outputId": "bc048187-1190-4536-9922-74d5d74f4cf9"
   },
   "outputs": [
    {
     "name": "stdout",
     "output_type": "stream",
     "text": [
      "number of CPU cores: 4\n"
     ]
    }
   ],
   "source": [
    "from multiprocessing import cpu_count\n",
    "\n",
    "import torch\n",
    "\n",
    "dev = \"cuda:0\" if torch.cuda.is_available() else \"cpu\"\n",
    "device = torch.device(dev)\n",
    "if dev == \"cpu\":\n",
    "    print(f\"number of CPU cores: {cpu_count()}\")\n",
    "else:\n",
    "    print(f\"GPU: {torch.cuda.get_device_name(0)}, number of CPU cores: {cpu_count()}\")"
   ]
  },
  {
   "cell_type": "markdown",
   "metadata": {},
   "source": [
    "Impedir excesso de logs"
   ]
  },
  {
   "cell_type": "code",
   "execution_count": 30,
   "metadata": {
    "colab": {},
    "colab_type": "code",
    "id": "Wp7cKKJakymt"
   },
   "outputs": [],
   "source": [
    "import logging\n",
    "\n",
    "logging.getLogger(\"transformers.configuration_utils\").setLevel(logging.WARNING)\n",
    "logging.getLogger(\"transformers.modeling_utils\").setLevel(logging.WARNING)\n",
    "logging.getLogger(\"lightning\").setLevel(logging.WARNING)"
   ]
  },
  {
   "cell_type": "markdown",
   "metadata": {
    "colab_type": "text",
    "id": "NkSLj_sZk_IG"
   },
   "source": [
    "Fixar semente de pesos aleatporios para replicabilidade"
   ]
  },
  {
   "cell_type": "code",
   "execution_count": 31,
   "metadata": {
    "colab": {},
    "colab_type": "code",
    "id": "1JqH82K-k2QI"
   },
   "outputs": [],
   "source": [
    "import random\n",
    "\n",
    "random.seed(seed)\n",
    "torch.random.manual_seed(seed)\n",
    "torch.cuda.manual_seed(seed)"
   ]
  },
  {
   "cell_type": "markdown",
   "metadata": {
    "colab_type": "text",
    "id": "Fg9s8gudcfjF"
   },
   "source": [
    "## Acesso ao conjunto de dados\n",
    "\n",
    "O conjunto de dados utilizado nesta etapa será o mesmo carregado através da plataforma.<br>\n",
    "O tipo da variável retornada depende do arquivo de origem:\n",
    "- [pandas.DataFrame](https://pandas.pydata.org/pandas-docs/stable/reference/api/pandas.DataFrame.html) para CSV e compressed CSV: .csv .csv.zip .csv.gz .csv.bz2 .csv.xz\n",
    "- [Binary IO stream](https://docs.python.org/3/library/io.html#binary-i-o) para outros tipos de arquivo: .jpg .wav .zip .h5 .parquet etc"
   ]
  },
  {
   "cell_type": "code",
   "execution_count": 32,
   "metadata": {
    "colab": {},
    "colab_type": "code",
    "id": "mR0o0ezkcfjG"
   },
   "outputs": [
    {
     "data": {
      "text/html": [
       "<div>\n",
       "<style scoped>\n",
       "    .dataframe tbody tr th:only-of-type {\n",
       "        vertical-align: middle;\n",
       "    }\n",
       "\n",
       "    .dataframe tbody tr th {\n",
       "        vertical-align: top;\n",
       "    }\n",
       "\n",
       "    .dataframe thead th {\n",
       "        text-align: right;\n",
       "    }\n",
       "</style>\n",
       "<table border=\"1\" class=\"dataframe\">\n",
       "  <thead>\n",
       "    <tr style=\"text-align: right;\">\n",
       "      <th></th>\n",
       "      <th>review</th>\n",
       "      <th>sentiment</th>\n",
       "    </tr>\n",
       "  </thead>\n",
       "  <tbody>\n",
       "    <tr>\n",
       "      <th>0</th>\n",
       "      <td>One of the other reviewers has mentioned that ...</td>\n",
       "      <td>positive</td>\n",
       "    </tr>\n",
       "    <tr>\n",
       "      <th>1</th>\n",
       "      <td>A wonderful little production. &lt;br /&gt;&lt;br /&gt;The...</td>\n",
       "      <td>positive</td>\n",
       "    </tr>\n",
       "    <tr>\n",
       "      <th>2</th>\n",
       "      <td>I thought this was a wonderful way to spend ti...</td>\n",
       "      <td>positive</td>\n",
       "    </tr>\n",
       "    <tr>\n",
       "      <th>3</th>\n",
       "      <td>Basically there's a family where a little boy ...</td>\n",
       "      <td>negative</td>\n",
       "    </tr>\n",
       "    <tr>\n",
       "      <th>4</th>\n",
       "      <td>Petter Mattei's \"Love in the Time of Money\" is...</td>\n",
       "      <td>positive</td>\n",
       "    </tr>\n",
       "    <tr>\n",
       "      <th>...</th>\n",
       "      <td>...</td>\n",
       "      <td>...</td>\n",
       "    </tr>\n",
       "    <tr>\n",
       "      <th>49995</th>\n",
       "      <td>I thought this movie did a down right good job...</td>\n",
       "      <td>positive</td>\n",
       "    </tr>\n",
       "    <tr>\n",
       "      <th>49996</th>\n",
       "      <td>Bad plot, bad dialogue, bad acting, idiotic di...</td>\n",
       "      <td>negative</td>\n",
       "    </tr>\n",
       "    <tr>\n",
       "      <th>49997</th>\n",
       "      <td>I am a Catholic taught in parochial elementary...</td>\n",
       "      <td>negative</td>\n",
       "    </tr>\n",
       "    <tr>\n",
       "      <th>49998</th>\n",
       "      <td>I'm going to have to disagree with the previou...</td>\n",
       "      <td>negative</td>\n",
       "    </tr>\n",
       "    <tr>\n",
       "      <th>49999</th>\n",
       "      <td>No one expects the Star Trek movies to be high...</td>\n",
       "      <td>negative</td>\n",
       "    </tr>\n",
       "  </tbody>\n",
       "</table>\n",
       "<p>50000 rows × 2 columns</p>\n",
       "</div>"
      ],
      "text/plain": [
       "                                                  review sentiment\n",
       "0      One of the other reviewers has mentioned that ...  positive\n",
       "1      A wonderful little production. <br /><br />The...  positive\n",
       "2      I thought this was a wonderful way to spend ti...  positive\n",
       "3      Basically there's a family where a little boy ...  negative\n",
       "4      Petter Mattei's \"Love in the Time of Money\" is...  positive\n",
       "...                                                  ...       ...\n",
       "49995  I thought this movie did a down right good job...  positive\n",
       "49996  Bad plot, bad dialogue, bad acting, idiotic di...  negative\n",
       "49997  I am a Catholic taught in parochial elementary...  negative\n",
       "49998  I'm going to have to disagree with the previou...  negative\n",
       "49999  No one expects the Star Trek movies to be high...  negative\n",
       "\n",
       "[50000 rows x 2 columns]"
      ]
     },
     "execution_count": 32,
     "metadata": {},
     "output_type": "execute_result"
    }
   ],
   "source": [
    "import pandas as pd\n",
    "\n",
    "df = pd.read_csv(dataset)"
   ]
  },
  {
   "cell_type": "markdown",
   "metadata": {
    "colab_type": "text",
    "id": "INZe4iBRcfjL"
   },
   "source": [
    "## Acesso aos metadados do conjunto de dados\n",
    "\n",
    "Utiliza a função `stat_dataset` do [SDK da PlatIAgro](https://platiagro.github.io/sdk/) para carregar metadados. <br>\n",
    "Por exemplo, arquivos CSV possuem `metadata['featuretypes']` para cada coluna no conjunto de dados (ex: categorical, numerical, or datetime)."
   ]
  },
  {
   "cell_type": "code",
   "execution_count": 33,
   "metadata": {
    "colab": {},
    "colab_type": "code",
    "id": "PWJfCTTacfjL"
   },
   "outputs": [],
   "source": [
    "import numpy as np\n",
    "from platiagro import stat_dataset\n",
    "\n",
    "# metadata = stat_dataset(name=dataset)\n",
    "# featuretypes = metadata[\"featuretypes\"]\n",
    "\n",
    "columns = df.columns.to_numpy()\n",
    "# featuretypes = np.array(featuretypes)\n",
    "target_index = np.argwhere(columns == target)\n",
    "columns = np.delete(columns, target_index)\n",
    "# featuretypes = np.delete(featuretypes, target_index)"
   ]
  },
  {
   "cell_type": "markdown",
   "metadata": {
    "colab_type": "text",
    "id": "qL-gCSEWcfjP"
   },
   "source": [
    "## Remoção de linhas com valores faltantes no atributo alvo\n",
    "\n",
    "Caso haja linhas em que o atributo alvo contenha valores faltantes, é feita a remoção dos casos faltantes."
   ]
  },
  {
   "cell_type": "code",
   "execution_count": 34,
   "metadata": {
    "colab": {},
    "colab_type": "code",
    "id": "LRdnKbyKcfjQ"
   },
   "outputs": [],
   "source": [
    "from sklearn.preprocessing import LabelEncoder\n",
    "\n",
    "df.dropna(subset=[target], inplace=True)\n",
    "y = df[target].to_numpy()\n",
    "label_encoder = LabelEncoder()\n",
    "y = label_encoder.fit_transform(y)"
   ]
  },
  {
   "cell_type": "markdown",
   "metadata": {
    "colab_type": "text",
    "id": "7jmjr4rTcfjU"
   },
   "source": [
    "## Filtragem das features \n",
    "\n",
    "Seleciona apenas as features que foram declaradas no parâmetro model_features. Se nenhuma feature for especificada, todo o conjunto de dados será utilizado para a modelagem."
   ]
  },
  {
   "cell_type": "code",
   "execution_count": 35,
   "metadata": {
    "colab": {},
    "colab_type": "code",
    "id": "XcZs3X2WcfjU"
   },
   "outputs": [],
   "source": [
    "if filter_type == \"incluir\":\n",
    "    if len(model_features) >= 1:\n",
    "        columns_index = (np.where(np.isin(columns, model_features)))[0]\n",
    "        columns_index.sort()\n",
    "        columns_to_filter = columns[columns_index]\n",
    "        # featuretypes = featuretypes[columns_index]\n",
    "    else:\n",
    "        columns_to_filter = columns\n",
    "else:\n",
    "    if len(model_features) >= 1:\n",
    "        columns_index = (np.where(np.isin(columns, model_features)))[0]\n",
    "        columns_index.sort()\n",
    "        columns_to_filter = np.delete(columns, columns_index)\n",
    "        # featuretypes = np.delete(featuretypes,columns_index)\n",
    "    else:\n",
    "        columns_to_filter = columns\n",
    "\n",
    "# keep the features selected\n",
    "df_model = df[columns_to_filter]\n",
    "X = df_model.to_numpy()"
   ]
  },
  {
   "cell_type": "markdown",
   "metadata": {
    "colab_type": "text",
    "id": "qkG4CvuIcfjZ"
   },
   "source": [
    "## Divisão do datset em subconjuntos de treino e teste\n",
    "\n",
    "Subconjunto de Treino: amostras de dados usado para treinar o modelo (``fit``). <br>\n",
    "Subconjunto de Teste: a amostra de dados usada para fornecer uma avaliação imparcial de um modelo adequado ao conjunto de dados de treinamento."
   ]
  },
  {
   "cell_type": "code",
   "execution_count": 36,
   "metadata": {},
   "outputs": [],
   "source": [
    "from sklearn.model_selection import StratifiedShuffleSplit, train_test_split\n",
    "\n",
    "X_train, X_, y_train, y_ = train_test_split(\n",
    "    X, y, train_size=0.8, random_state=seed, stratify=y\n",
    ")\n",
    "X_valid, X_test, y_valid, y_test = train_test_split(X_, y_, train_size=0.5, stratify=y_)"
   ]
  },
  {
   "cell_type": "markdown",
   "metadata": {
    "colab_type": "text",
    "id": "kg_JjaPQcfjr"
   },
   "source": [
    "## Download dos Embeddings e Visualização do GloVe"
   ]
  },
  {
   "cell_type": "markdown",
   "metadata": {
    "colab_type": "text",
    "id": "RU8SDgqCcfjs"
   },
   "source": [
    "Download dos Embeddings"
   ]
  },
  {
   "cell_type": "code",
   "execution_count": null,
   "metadata": {
    "colab": {},
    "colab_type": "code",
    "id": "6xp2Bzg6cfjt"
   },
   "outputs": [],
   "source": [
    "# import logging\n",
    "# logger = logging.getLogger()\n",
    "# logger.setLevel(logging.DEBUG)\n",
    "# logging.debug(\"test\")\n",
    "\n",
    "# !wget -nc http://nlp.stanford.edu/data/glove.6B.zip\n",
    "# !unzip -o glove.6B.zip -d glove_dir"
   ]
  },
  {
   "cell_type": "markdown",
   "metadata": {
    "colab_type": "text",
    "id": "bRzC_Ex9cfjy"
   },
   "source": [
    "Criação das Estruturas Glove"
   ]
  },
  {
   "cell_type": "code",
   "execution_count": 40,
   "metadata": {
    "colab": {},
    "colab_type": "code",
    "id": "8ThREF1-cfjz"
   },
   "outputs": [
    {
     "name": "stdout",
     "output_type": "stream",
     "text": [
      "torch.Size([400000, 300])\n",
      "Primeiras 20 palavras e seus índices: [('the', 0), (',', 1), ('.', 2), ('of', 3), ('to', 4), ('and', 5), ('in', 6), ('a', 7), ('\"', 8), (\"'s\", 9), ('for', 10), ('-', 11), ('that', 12), ('on', 13), ('is', 14), ('was', 15), ('said', 16), ('with', 17), ('he', 18), ('as', 19)]\n",
      "Primeiras 20 palavras: ['the', ',', '.', 'of', 'to', 'and', 'in', 'a', '\"', \"'s\", 'for', '-', 'that', 'on', 'is', 'was', 'said', 'with', 'he', 'as']\n",
      "Primeiro vetor: tensor([ 4.6560e-02,  2.1318e-01, -7.4364e-03, -4.5854e-01, -3.5639e-02,\n",
      "         2.3643e-01, -2.8836e-01,  2.1521e-01, -1.3486e-01, -1.6413e+00,\n",
      "        -2.6091e-01,  3.2434e-02,  5.6621e-02, -4.3296e-02, -2.1672e-02,\n",
      "         2.2476e-01, -7.5129e-02, -6.7018e-02, -1.4247e-01,  3.8825e-02,\n",
      "        -1.8951e-01,  2.9977e-01,  3.9305e-01,  1.7887e-01, -1.7343e-01,\n",
      "        -2.1178e-01,  2.3617e-01, -6.3681e-02, -4.2318e-01, -1.1661e-01,\n",
      "         9.3754e-02,  1.7296e-01, -3.3073e-01,  4.9112e-01, -6.8995e-01,\n",
      "        -9.2462e-02,  2.4742e-01, -1.7991e-01,  9.7908e-02,  8.3118e-02,\n",
      "         1.5299e-01, -2.7276e-01, -3.8934e-02,  5.4453e-01,  5.3737e-01,\n",
      "         2.9105e-01, -7.3514e-03,  4.7880e-02, -4.0760e-01, -2.6759e-02,\n",
      "         1.7919e-01,  1.0977e-02, -1.0963e-01, -2.6395e-01,  7.3990e-02,\n",
      "         2.6236e-01, -1.5080e-01,  3.4623e-01,  2.5758e-01,  1.1971e-01,\n",
      "        -3.7135e-02, -7.1593e-02,  4.3898e-01, -4.0764e-02,  1.6425e-02,\n",
      "        -4.4640e-01,  1.7197e-01,  4.6246e-02,  5.8639e-02,  4.1499e-02,\n",
      "         5.3948e-01,  5.2495e-01,  1.1361e-01, -4.8315e-02, -3.6385e-01,\n",
      "         1.8704e-01,  9.2761e-02, -1.1129e-01, -4.2085e-01,  1.3992e-01,\n",
      "        -3.9338e-01, -6.7945e-02,  1.2188e-01,  1.6707e-01,  7.5169e-02,\n",
      "        -1.5529e-02, -1.9499e-01,  1.9638e-01,  5.3194e-02,  2.5170e-01,\n",
      "        -3.4845e-01, -1.0638e-01, -3.4692e-01, -1.9024e-01, -2.0040e-01,\n",
      "         1.2154e-01, -2.9208e-01,  2.3353e-02, -1.1618e-01, -3.5768e-01,\n",
      "         6.2304e-02,  3.5884e-01,  2.9060e-02,  7.3005e-03,  4.9482e-03,\n",
      "        -1.5048e-01, -1.2313e-01,  1.9337e-01,  1.2173e-01,  4.4503e-01,\n",
      "         2.5147e-01,  1.0781e-01, -1.7716e-01,  3.8691e-02,  8.1530e-02,\n",
      "         1.4667e-01,  6.3666e-02,  6.1332e-02, -7.5569e-02, -3.7724e-01,\n",
      "         1.5850e-02, -3.0342e-01,  2.8374e-01, -4.2013e-02, -4.0715e-02,\n",
      "        -1.5269e-01,  7.4980e-02,  1.5577e-01,  1.0433e-01,  3.1393e-01,\n",
      "         1.9309e-01,  1.9429e-01,  1.5185e-01, -1.0192e-01, -1.8785e-02,\n",
      "         2.0791e-01,  1.3366e-01,  1.9038e-01, -2.5558e-01,  3.0400e-01,\n",
      "        -1.8960e-02,  2.0147e-01, -4.2110e-01, -7.5156e-03, -2.7977e-01,\n",
      "        -1.9314e-01,  4.6204e-02,  1.9971e-01, -3.0207e-01,  2.5735e-01,\n",
      "         6.8107e-01, -1.9409e-01,  2.3984e-01,  2.2493e-01,  6.5224e-01,\n",
      "        -1.3561e-01, -1.7383e-01, -4.8209e-02, -1.1860e-01,  2.1588e-03,\n",
      "        -1.9525e-02,  1.1948e-01,  1.9346e-01, -4.0820e-01, -8.2966e-02,\n",
      "         1.6626e-01, -1.0601e-01,  3.5861e-01,  1.6922e-01,  7.2590e-02,\n",
      "        -2.4803e-01, -1.0024e-01, -5.2491e-01, -1.7745e-01, -3.6647e-01,\n",
      "         2.6180e-01, -1.2077e-02,  8.3190e-02, -2.1528e-01,  4.1045e-01,\n",
      "         2.9136e-01,  3.0869e-01,  7.8864e-02,  3.2207e-01, -4.1023e-02,\n",
      "        -1.0970e-01, -9.2041e-02, -1.2339e-01, -1.6416e-01,  3.5382e-01,\n",
      "        -8.2774e-02,  3.3171e-01, -2.4738e-01, -4.8928e-02,  1.5746e-01,\n",
      "         1.8988e-01, -2.6642e-02,  6.3315e-02, -1.0673e-02,  3.4089e-01,\n",
      "         1.4106e+00,  1.3417e-01,  2.8191e-01, -2.5940e-01,  5.5267e-02,\n",
      "        -5.2425e-02, -2.5789e-01,  1.9127e-02, -2.2084e-02,  3.2113e-01,\n",
      "         6.8818e-02,  5.1207e-01,  1.6478e-01, -2.0194e-01,  2.9232e-01,\n",
      "         9.8575e-02,  1.3145e-02, -1.0652e-01,  1.3510e-01, -4.5332e-02,\n",
      "         2.0697e-01, -4.8425e-01, -4.4706e-01,  3.3305e-03,  2.9264e-03,\n",
      "        -1.0975e-01, -2.3325e-01,  2.2442e-01, -1.0503e-01,  1.2339e-01,\n",
      "         1.0978e-01,  4.8994e-02, -2.5157e-01,  4.0319e-01,  3.5318e-01,\n",
      "         1.8651e-01, -2.3622e-02, -1.2734e-01,  1.1475e-01,  2.7359e-01,\n",
      "        -2.1866e-01,  1.5794e-02,  8.1754e-01, -2.3792e-02, -8.5469e-01,\n",
      "        -1.6203e-01,  1.8076e-01,  2.8014e-02, -1.4340e-01,  1.3139e-03,\n",
      "        -9.1735e-02, -8.9704e-02,  1.1105e-01, -1.6703e-01,  6.8377e-02,\n",
      "        -8.7388e-02, -3.9789e-02,  1.4184e-02,  2.1187e-01,  2.8579e-01,\n",
      "        -2.8797e-01, -5.8996e-02, -3.2436e-02, -4.7009e-03, -1.7052e-01,\n",
      "        -3.4741e-02, -1.1489e-01,  7.5093e-02,  9.9526e-02,  4.8183e-02,\n",
      "        -7.3775e-02, -4.1817e-01,  4.1268e-03,  4.4414e-01, -1.6062e-01,\n",
      "         1.4294e-01, -2.2628e+00, -2.7347e-02,  8.1311e-01,  7.7417e-01,\n",
      "        -2.5639e-01, -1.1576e-01, -1.1982e-01, -2.1363e-01,  2.8429e-02,\n",
      "         2.7261e-01,  3.1026e-02,  9.6782e-02,  6.7769e-03,  1.4082e-01,\n",
      "        -1.3064e-02, -2.9686e-01, -7.9913e-02,  1.9500e-01,  3.1549e-02,\n",
      "         2.8506e-01, -8.7461e-02,  9.0611e-03, -2.0989e-01,  5.3913e-02])\n"
     ]
    }
   ],
   "source": [
    "# Caso não possua instalado, instala antes de importar\n",
    "from torchtext.vocab import GloVe\n",
    "\n",
    "# Definição das variáveis da Bag Of Embeddings\n",
    "glove_dim = 300\n",
    "glove = GloVe(name=\"6B\", dim=glove_dim, cache=\"./glove_dir\")\n",
    "glove_vectors = glove.vectors\n",
    "glove_vocab = glove.stoi\n",
    "glove_words = glove.itos\n",
    "print(glove.vectors.shape)\n",
    "print(\"Primeiras 20 palavras e seus índices:\", list(glove_vocab.items())[:20])\n",
    "print(\"Primeiras 20 palavras:\", glove_words[:20])\n",
    "print(\"Primeiro vetor:\", list(glove_vectors)[0])"
   ]
  },
  {
   "cell_type": "markdown",
   "metadata": {
    "colab_type": "text",
    "id": "1h8V0O6ccfj2"
   },
   "source": [
    "## Construção da matriz de Glove Embeddings Bag"
   ]
  },
  {
   "cell_type": "code",
   "execution_count": 42,
   "metadata": {
    "colab": {},
    "colab_type": "code",
    "id": "3iIE_cq8cfj3"
   },
   "outputs": [
    {
     "name": "stdout",
     "output_type": "stream",
     "text": [
      "[63, 35, 191, 306, 219, 4039, 6, 37, 319, 91, 7, 1334, 3, 2153, 35, 47268, 66, 5, 36, 12, 143, 63, 35, 2219, 4054, 365, 575, 4, 1203, 7, 2575, 131, 0, 2408, 154286, 385, 117, 29, 167, 300, 63, 35, 109, 4039, 12, 0, 319, 332, 263, 137, 4, 117, 24372, 19651, 102, 1579, 4, 71, 197, 59, 2003, 14, 67, 439, 114, 102, 59, 17410, 53, 2272, 3960, 936, 59, 103, 102, 59, 0, 2505, 4809, 1856, 197, 59, 0, 1727, 1749, 12, 405, 29, 3479, 102, 1579, 4, 71, 12, 15, 29, 4001, 37387, 1250, 37, 14, 36, 7, 219, 1005, 5, 41, 7546, 170, 2148, 12, 15, 6, 37, 319, 8235, 88, 0, 79, 25635, 378]\n",
      "['there', 'were', 'very', 'few', 'good', 'moments', 'in', 'this', 'film', 'only', 'a', 'couple', 'of', 'characters', 'were', 'fleshed', 'out', 'and', 'not', 'that', 'well', 'there', 'were', 'plot', 'holes', 'big', 'enough', 'to', 'drive', 'a', 'truck', 'through', 'the', 'pace', 'creeped', 'along', 'like', 'an', 'old', 'man', 'there', 'were', 'many', 'moments', 'that', 'the', 'film', 'never', 'came', 'back', 'to', 'like', 'coco', 'stripping', 'what', 'happened', 'to', 'her', 'how', 'about', 'sister', 'is', 'she', 'better', 'now', 'what', 'about', 'leroy', 'we', 'learned', 'absolutely', 'nothing', 'about', 'him', 'what', 'about', 'the', 'electronic', 'piano', 'guy', 'how', 'about', 'the', 'rich', 'girl', 'that', 'got', 'an', 'abortion', 'what', 'happened', 'to', 'her', 'that', 'was', 'an', 'interesting', 'subplot', 'overall', 'this', 'is', 'not', 'a', 'good', 'movie', 'and', 'i', 'recommend', 'another', 'musical', 'that', 'was', 'in', 'this', 'film', 'lets', 'do', 'the', 'time', 'warp', 'again']\n"
     ]
    }
   ],
   "source": [
    "def tokenize_text(text_list: list = None):\n",
    "    \"\"\"Tokenize Text without the hyperparâmeters defined.\n",
    "\n",
    "    Args:\n",
    "        text_list (list): a list of texts to be used.\n",
    "\n",
    "    Returns:\n",
    "        A list of tokenized text without punctuation.\n",
    "    \"\"\"\n",
    "\n",
    "    tokenize_list = list()\n",
    "    for text in text_list:\n",
    "        text = text[0]\n",
    "        text = text.split(\" \")\n",
    "        tokenize_list.append(text)\n",
    "    return tokenize_list\n",
    "\n",
    "\n",
    "def build_glove_matrix(X):\n",
    "    X = tokenize_text(X)\n",
    "    glove_matrix = []\n",
    "    word_filtered_matrix = []\n",
    "\n",
    "    for token_line in X:\n",
    "        token_phrase = [\n",
    "            glove_vocab[word] for word in token_line if (word in glove_vocab)\n",
    "        ]\n",
    "        filtered_words = [word for word in token_line if (word in glove_vocab)]\n",
    "        word_filtered_matrix.append(filtered_words)\n",
    "        glove_matrix.append(token_phrase)\n",
    "\n",
    "    return glove_matrix, word_filtered_matrix\n",
    "\n",
    "\n",
    "# listas de listas construidas\n",
    "X_train_glove_ids, X_train_glove_words = build_glove_matrix(X_train)\n",
    "X_valid_glove_ids, X_valid_glove_words = build_glove_matrix(X_valid)\n",
    "X_test_glove_ids, X_test_glove_words = build_glove_matrix(X_test)\n",
    "\n",
    "print(X_train_glove_ids[0])\n",
    "print(X_train_glove_words[0])"
   ]
  },
  {
   "cell_type": "markdown",
   "metadata": {
    "colab_type": "text",
    "id": "2TbwrKy4cfj6"
   },
   "source": [
    "## Criaçãod do Dataset"
   ]
  },
  {
   "cell_type": "code",
   "execution_count": 43,
   "metadata": {
    "colab": {},
    "colab_type": "code",
    "id": "YAWdgpVJcfj6"
   },
   "outputs": [
    {
     "name": "stdout",
     "output_type": "stream",
     "text": [
      "Overwriting Dataset.py\n"
     ]
    }
   ],
   "source": [
    "%%writefile Dataset.py\n",
    "import torch\n",
    "from numpy import genfromtxt\n",
    "from torch.utils.data import Dataset\n",
    "\n",
    "\n",
    "class ImdbDataset(Dataset):\n",
    "    def __init__(self, X, X_words, target=None, step=\"Experiment\"):\n",
    "        super(ImdbDataset, self).__init__()\n",
    "\n",
    "        self.x = [torch.tensor(line).type(torch.LongTensor) for line in X]\n",
    "        self.words = X_words\n",
    "        self.step = step\n",
    "        if step == \"Experiment\":\n",
    "            self.target = torch.tensor(target).type(torch.LongTensor)\n",
    "\n",
    "    def __len__(self):\n",
    "        return len(self.x)\n",
    "\n",
    "    def __getitem__(self, index):\n",
    "        if self.step == \"Experiment\":\n",
    "            return self.x[index], self.words[index], self.target[index]\n",
    "        if self.step == \"Deployment\":\n",
    "            return self.x[index], self.words[index]"
   ]
  },
  {
   "cell_type": "code",
   "execution_count": 44,
   "metadata": {},
   "outputs": [],
   "source": [
    "%run Dataset.py"
   ]
  },
  {
   "cell_type": "markdown",
   "metadata": {
    "colab_type": "text",
    "id": "G7De9y2vcfj_"
   },
   "source": [
    "Criando e Testando Datasets"
   ]
  },
  {
   "cell_type": "code",
   "execution_count": 45,
   "metadata": {
    "colab": {},
    "colab_type": "code",
    "id": "SMbmJ88Bcfj_"
   },
   "outputs": [
    {
     "name": "stdout",
     "output_type": "stream",
     "text": [
      "------->Testando Dataset<-------\n",
      "tensor([    63,     35,    191,    306,    219,   4039,      6,     37,    319,\n",
      "            91,      7,   1334,      3,   2153,     35,  47268,     66,      5,\n",
      "            36,     12,    143,     63,     35,   2219,   4054,    365,    575,\n",
      "             4,   1203,      7,   2575,    131,      0,   2408, 154286,    385,\n",
      "           117,     29,    167,    300,     63,     35,    109,   4039,     12,\n",
      "             0,    319,    332,    263,    137,      4,    117,  24372,  19651,\n",
      "           102,   1579,      4,     71,    197,     59,   2003,     14,     67,\n",
      "           439,    114,    102,     59,  17410,     53,   2272,   3960,    936,\n",
      "            59,    103,    102,     59,      0,   2505,   4809,   1856,    197,\n",
      "            59,      0,   1727,   1749,     12,    405,     29,   3479,    102,\n",
      "          1579,      4,     71,     12,     15,     29,   4001,  37387,   1250,\n",
      "            37,     14,     36,      7,    219,   1005,      5,     41,   7546,\n",
      "           170,   2148,     12,     15,      6,     37,    319,   8235,     88,\n",
      "             0,     79,  25635,    378])\n",
      "['there', 'were', 'very', 'few', 'good', 'moments', 'in', 'this', 'film', 'only', 'a', 'couple', 'of', 'characters', 'were', 'fleshed', 'out', 'and', 'not', 'that', 'well', 'there', 'were', 'plot', 'holes', 'big', 'enough', 'to', 'drive', 'a', 'truck', 'through', 'the', 'pace', 'creeped', 'along', 'like', 'an', 'old', 'man', 'there', 'were', 'many', 'moments', 'that', 'the', 'film', 'never', 'came', 'back', 'to', 'like', 'coco', 'stripping', 'what', 'happened', 'to', 'her', 'how', 'about', 'sister', 'is', 'she', 'better', 'now', 'what', 'about', 'leroy', 'we', 'learned', 'absolutely', 'nothing', 'about', 'him', 'what', 'about', 'the', 'electronic', 'piano', 'guy', 'how', 'about', 'the', 'rich', 'girl', 'that', 'got', 'an', 'abortion', 'what', 'happened', 'to', 'her', 'that', 'was', 'an', 'interesting', 'subplot', 'overall', 'this', 'is', 'not', 'a', 'good', 'movie', 'and', 'i', 'recommend', 'another', 'musical', 'that', 'was', 'in', 'this', 'film', 'lets', 'do', 'the', 'time', 'warp', 'again']\n",
      "tensor(0)\n"
     ]
    }
   ],
   "source": [
    "torch_ds_debug = ImdbDataset(X_train_glove_ids, X_train_glove_words, y_train)\n",
    "print(\"------->Testando Dataset<-------\")\n",
    "x1, xw1, y1 = torch_ds_debug[0]\n",
    "print(x1)\n",
    "print(xw1)\n",
    "print(y1)"
   ]
  },
  {
   "cell_type": "markdown",
   "metadata": {
    "colab_type": "text",
    "id": "lgda605FcfkC"
   },
   "source": [
    "## Criando Dataloader"
   ]
  },
  {
   "cell_type": "markdown",
   "metadata": {
    "colab_type": "text",
    "id": "2lYK1UfAcfkD"
   },
   "source": [
    "O Collate serve par criar um offset em caso de entradas variáveis"
   ]
  },
  {
   "cell_type": "code",
   "execution_count": 46,
   "metadata": {
    "colab": {},
    "colab_type": "code",
    "id": "fXrVpbAtcfkE"
   },
   "outputs": [],
   "source": [
    "def my_collate(batch):\n",
    "    # import pdb;pdb.set_trace()\n",
    "\n",
    "    # len soma de todas as palavras\n",
    "    lista_words = []\n",
    "    [lista_words.extend(item[1]) for item in batch]\n",
    "\n",
    "    # len soma de todas as palavras\n",
    "    lista_words_ids = [item[0] for item in batch]\n",
    "    lista_words_ids_vector = torch.cat(lista_words_ids)\n",
    "\n",
    "    # len batch_size\n",
    "    target = [item[2] for item in batch]\n",
    "    target = torch.stack(target)\n",
    "\n",
    "    # len batch_size\n",
    "    offsets = [0] + [len(entry) for entry in lista_words_ids]\n",
    "    offsets = torch.tensor(offsets[:-1]).cumsum(dim=0)\n",
    "\n",
    "    return lista_words_ids_vector, offsets, target"
   ]
  },
  {
   "cell_type": "markdown",
   "metadata": {
    "colab_type": "text",
    "id": "04ZLeuEScfkI"
   },
   "source": [
    "Criando Dataloaders"
   ]
  },
  {
   "cell_type": "code",
   "execution_count": 47,
   "metadata": {
    "colab": {},
    "colab_type": "code",
    "id": "5_PpeX9JcfkI"
   },
   "outputs": [],
   "source": [
    "from torch.utils.data import DataLoader\n",
    "\n",
    "debug_loader = DataLoader(\n",
    "    torch_ds_debug, batch_size=train_batch_size, shuffle=True, collate_fn=my_collate\n",
    ")"
   ]
  },
  {
   "cell_type": "markdown",
   "metadata": {
    "colab_type": "text",
    "id": "ioLE4wxpcfkL"
   },
   "source": [
    "Testando Dataloaders"
   ]
  },
  {
   "cell_type": "code",
   "execution_count": 48,
   "metadata": {
    "colab": {},
    "colab_type": "code",
    "id": "_8w1yo4WcfkL"
   },
   "outputs": [
    {
     "name": "stdout",
     "output_type": "stream",
     "text": [
      "------->Testando Dataloader <-------\n"
     ]
    },
    {
     "data": {
      "text/plain": [
       "(tensor([   6,   29,  962,  ..., 3885,   10,  101]),\n",
       " tensor([    0,    73,   212,   355,   465,   584,   731,  1148,  1318,  1614,\n",
       "          1782,  1919,  2070,  2207,  2342,  2776,  3012,  3125,  3322,  3456,\n",
       "          3497,  3616,  4153,  4229,  4501,  5059,  5121,  5236,  5580,  5690,\n",
       "          5831,  6631,  6746,  6868,  7028,  7338,  7475,  7590,  7917,  7973,\n",
       "          8113,  8194,  8240,  8465,  8569,  8719,  8877,  8984,  9138,  9358,\n",
       "          9408,  9805, 10006, 10420, 10605, 11468, 11841, 12336, 12583, 12708,\n",
       "         12908, 13053, 13268, 13497, 13628, 13726, 13897, 14048, 14153, 14377,\n",
       "         14472, 14678, 14792, 14925, 15128, 15242, 15986, 16397, 16527, 16686,\n",
       "         16875, 16951, 17095, 17271, 17390, 17489, 17725, 17845, 18159, 18279,\n",
       "         19056, 19119, 19447, 19581, 19804, 20713, 21073, 21806, 22452, 22705]),\n",
       " tensor([0, 1, 0, 1, 1, 0, 1, 1, 1, 1, 1, 0, 1, 0, 0, 1, 1, 1, 0, 0, 0, 1, 1, 1,\n",
       "         1, 1, 0, 1, 1, 0, 0, 1, 0, 0, 1, 0, 0, 1, 0, 0, 0, 0, 0, 1, 0, 1, 0, 1,\n",
       "         1, 0, 1, 1, 1, 0, 1, 0, 0, 1, 1, 1, 0, 0, 1, 0, 0, 1, 1, 1, 1, 0, 1, 0,\n",
       "         0, 1, 0, 0, 0, 0, 0, 1, 0, 0, 0, 1, 1, 1, 0, 1, 1, 1, 1, 1, 0, 1, 0, 1,\n",
       "         0, 1, 1, 1]))"
      ]
     },
     "execution_count": 48,
     "metadata": {},
     "output_type": "execute_result"
    }
   ],
   "source": [
    "print(\"------->Testando Dataloader <-------\")\n",
    "next(iter(debug_loader))"
   ]
  },
  {
   "cell_type": "markdown",
   "metadata": {},
   "source": [
    "## Recuperando os pesos"
   ]
  },
  {
   "cell_type": "code",
   "execution_count": 49,
   "metadata": {},
   "outputs": [
    {
     "data": {
      "text/plain": [
       "'/home/jovyan/tasks/GloVe_Bag_Of_Embeddings_Sentence_Classification'"
      ]
     },
     "execution_count": 49,
     "metadata": {},
     "output_type": "execute_result"
    }
   ],
   "source": [
    "import os\n",
    "\n",
    "# cwd = os.getcwd()\n",
    "cwd = \"/tmp/data\""
   ]
  },
  {
   "cell_type": "code",
   "execution_count": 2,
   "metadata": {},
   "outputs": [
    {
     "name": "stdout",
     "output_type": "stream",
     "text": [
      "Copying gs://platiagro/Glove_Bag_Of_Embeddings_For_Sentence_Classification/epoch=199.ckpt...\n",
      "==> NOTE: You are downloading one or more large file(s), which would            \n",
      "run significantly faster if you enabled sliced object downloads. This\n",
      "feature is enabled by default but requires that compiled crcmod be\n",
      "installed (see \"gsutil help crcmod\").\n",
      "\n",
      "/ [1 files][458.1 MiB/458.1 MiB]    7.4 MiB/s                                   \n",
      "Operation completed over 1 objects/458.1 MiB.                                    \n"
     ]
    }
   ],
   "source": [
    "! gsutil cp gs://platiagro/Glove_Bag_Of_Embeddings_For_Sentence_Classification/epoch=199.ckpt  /tmp/data/"
   ]
  },
  {
   "cell_type": "markdown",
   "metadata": {
    "colab_type": "text",
    "id": "M_O9CvCwn2Mq"
   },
   "source": [
    "## Modelo Pytorch Lightning"
   ]
  },
  {
   "cell_type": "code",
   "execution_count": 50,
   "metadata": {
    "colab": {},
    "colab_type": "code",
    "id": "itIgwqsWj8-3"
   },
   "outputs": [
    {
     "name": "stdout",
     "output_type": "stream",
     "text": [
      "Overwriting Model_Lightning.py\n"
     ]
    }
   ],
   "source": [
    "%%writefile Model_Lightning.py\n",
    "import functools\n",
    "import traceback\n",
    "from multiprocessing import cpu_count\n",
    "\n",
    "import pandas as pd\n",
    "import psutil\n",
    "import pytorch_lightning as pl\n",
    "import torch\n",
    "from sklearn.metrics import accuracy_score\n",
    "from torch.utils.data import DataLoader\n",
    "from torch.utils.data.sampler import WeightedRandomSampler\n",
    "\n",
    "\n",
    "class GloveFinetuner(pl.LightningModule):\n",
    "    def __init__(self, hyperparams, model_parameters, dataset_infos, extra_infos):\n",
    "\n",
    "        super(GloveFinetuner, self).__init__()\n",
    "\n",
    "        # ---------- hyperparams\n",
    "        self.learning_rate = hyperparams[\"learning_rate\"]\n",
    "        self.train_batch_size = hyperparams[\"train_batch_size\"]\n",
    "        self.eval_batch_size = hyperparams[\"eval_batch_size\"]\n",
    "        self.hidden_dim = hyperparams[\"hidden_dim\"]\n",
    "\n",
    "        # ---------- model_parameters\n",
    "        self.loss_funtion = model_parameters[\"criterion\"]\n",
    "        self.label_encoder = model_parameters[\"label_encoder\"]\n",
    "        self.glove_dim = model_parameters[\"glove_dim\"]\n",
    "        self.glove_vectors = model_parameters[\"glove_vectors\"]\n",
    "\n",
    "        # ---------- dataset_infos\n",
    "        self.all_data = dataset_infos[\"all_data\"]\n",
    "        self.CustomDataset = dataset_infos[\"CustomDataset\"]\n",
    "\n",
    "        # ---------- extra_infos\n",
    "        self.overfit = extra_infos[\"overfit\"]\n",
    "        self.sampler = extra_infos[\"sampler\"]\n",
    "\n",
    "        # ---------- other_infos\n",
    "        self.predict_proba = torch.nn.Softmax(dim=1)\n",
    "        self.step = \"Experiment\"\n",
    "\n",
    "        # ---------- Dados para gráfico de Acurácia e Loss\n",
    "        self.df_performance_train_batch = pd.DataFrame(\n",
    "            columns=[\"train_batch_loss\", \"train_batch_acc\"]\n",
    "        )\n",
    "        self.df_performance_train_epoch = pd.DataFrame(\n",
    "            columns=[\"train_epoch_loss\", \"train_epoch_acc\"]\n",
    "        )\n",
    "        self.df_performance_valid_batch = pd.DataFrame(\n",
    "            columns=[\"valid_batch_loss\", \"valid_batch_acc\"]\n",
    "        )\n",
    "        self.df_performance_valid_epoch = pd.DataFrame(\n",
    "            columns=[\"valid_epoch_loss\", \"valid_epoch_acc\"]\n",
    "        )\n",
    "\n",
    "        # ---------- Carregamento datasets\n",
    "        self.targets_sampler = self.all_data[2]\n",
    "        if self.overfit:\n",
    "            self.train_dataset = self.CustomDataset(\n",
    "                self.all_data[0], self.all_data[1], self.all_data[2]\n",
    "            )\n",
    "            self.valid_dataset = self.CustomDataset(\n",
    "                self.all_data[0], self.all_data[1], self.all_data[2]\n",
    "            )\n",
    "            self.test_dataset = self.CustomDataset(\n",
    "                self.all_data[0], self.all_data[1], self.all_data[2]\n",
    "            )\n",
    "        else:\n",
    "            self.train_dataset = self.CustomDataset(\n",
    "                self.all_data[0], self.all_data[1], self.all_data[2]\n",
    "            )\n",
    "            self.valid_dataset = self.CustomDataset(\n",
    "                self.all_data[3], self.all_data[4], self.all_data[5]\n",
    "            )\n",
    "            self.test_dataset = self.CustomDataset(\n",
    "                self.all_data[6], self.all_data[7], self.all_data[8]\n",
    "            )\n",
    "\n",
    "        # ---------- Datafame de comparação para o teste\n",
    "        self.df_valid = pd.DataFrame(\n",
    "            columns=[\n",
    "                \"ORIGINAL_TARGET\",\n",
    "                \"ORIGINAL_CODE\",\n",
    "                \"PREDICTED_TARGET\",\n",
    "                \"PREDICTED_CODE\",\n",
    "                \"NEG_PROBA\",\n",
    "                \"POS_PROBA\",\n",
    "            ]\n",
    "        )\n",
    "        self.df_test = pd.DataFrame(\n",
    "            columns=[\n",
    "                \"ORIGINAL_TARGET\",\n",
    "                \"ORIGINAL_CODE\",\n",
    "                \"PREDICTED_TARGET\",\n",
    "                \"PREDICTED_CODE\",\n",
    "                \"NEG_PROBA\",\n",
    "                \"POS_PROBA\",\n",
    "            ]\n",
    "        )\n",
    "\n",
    "        # ---------- Englobamentoda rede para classificação(se necessário)\n",
    "        weight = self.glove_vectors  # pesos fixos pré treinados\n",
    "        embedding_dim = self.glove_dim\n",
    "\n",
    "        self.embedding_bag = torch.nn.EmbeddingBag.from_pretrained(\n",
    "            weight, mode=\"mean\", freeze=True\n",
    "        )\n",
    "        self.layer1 = torch.nn.Linear(embedding_dim, self.hidden_dim)\n",
    "        self.layer2 = torch.nn.Linear(\n",
    "            self.hidden_dim, 2\n",
    "        )  # 2 porque são duas classes na saída\n",
    "\n",
    "        layers = [self.layer1, self.layer2]\n",
    "\n",
    "        self.net = torch.nn.Sequential(*layers)\n",
    "\n",
    "    def predict(self, X_inference_glove_ids, X_inference_glove_words):\n",
    "        self.step = \"Deployment\"\n",
    "        inference_dataset = self.CustomDataset(\n",
    "            X_inference_glove_ids, X_inference_glove_words, step=self.step\n",
    "        )\n",
    "        dataloader = DataLoader(\n",
    "            inference_dataset,\n",
    "            batch_size=self.eval_batch_size,\n",
    "            shuffle=False,\n",
    "            num_workers=cpu_count(),\n",
    "            collate_fn=self.my_collate,\n",
    "        )\n",
    "        for batch in dataloader:\n",
    "            self.test_step(batch, None)\n",
    "        return self.df_test\n",
    "\n",
    "    def forward(self, word_ids, offsets):\n",
    "        X_emb = self.embedding_bag(word_ids, offsets)\n",
    "        hidden = torch.relu(self.layer1(X_emb))\n",
    "        logits = self.layer2(hidden)\n",
    "        return logits\n",
    "\n",
    "    def training_step(self, batch, batch_nb):\n",
    "        # batch\n",
    "        inputs, offsets, targets = batch\n",
    "\n",
    "        # fwd\n",
    "        y_hat = self.forward(inputs, offsets)\n",
    "\n",
    "        # loss\n",
    "        loss = self.loss_funtion(y_hat, targets)\n",
    "\n",
    "        # acc\n",
    "        acc = self.get_acc(y_hat, targets)\n",
    "\n",
    "        # What to log\n",
    "        tensorboard_logs = {\"loss\": loss, \"acc\": acc}\n",
    "\n",
    "        self.df_performance_train_batch = self.df_performance_train_batch.append(\n",
    "            pd.Series(\n",
    "                [loss.item(), acc.item()], index=self.df_performance_train_batch.columns\n",
    "            ),\n",
    "            ignore_index=True,\n",
    "        )\n",
    "\n",
    "        return {\n",
    "            \"loss\": loss,\n",
    "            \"train_acc_batch\": acc,\n",
    "            \"train_loss_batch\": loss,\n",
    "            \"log\": tensorboard_logs,\n",
    "        }\n",
    "\n",
    "    def training_epoch_end(self, outputs):\n",
    "        if not outputs:\n",
    "            return {}\n",
    "\n",
    "        temp_avg_loss_batch = [x[\"train_loss_batch\"] for x in outputs]\n",
    "        temp_avg_acc_batch = [x[\"train_acc_batch\"] for x in outputs]\n",
    "\n",
    "        avg_train_loss = torch.stack(temp_avg_loss_batch).mean()\n",
    "        avg_train_acc = torch.stack(temp_avg_acc_batch).mean()\n",
    "\n",
    "        self.df_performance_train_epoch = self.df_performance_train_epoch.append(\n",
    "            pd.Series(\n",
    "                [avg_train_loss.item(), avg_train_acc.item()],\n",
    "                index=self.df_performance_train_epoch.columns,\n",
    "            ),\n",
    "            ignore_index=True,\n",
    "        )\n",
    "\n",
    "        tensorboard_logs = {\n",
    "            \"avg_train_acc\": avg_train_acc,\n",
    "            \"avg_train_loss\": avg_train_loss,\n",
    "        }\n",
    "\n",
    "        return {\"avg_train_acc\": avg_train_acc, \"log\": tensorboard_logs}\n",
    "\n",
    "    def validation_step(self, batch, batch_nb):\n",
    "        # batch\n",
    "        inputs, offsets, targets = batch\n",
    "\n",
    "        # fwd\n",
    "        y_hat = self.forward(inputs, offsets)\n",
    "\n",
    "        # loss\n",
    "        loss = self.loss_funtion(y_hat, targets)\n",
    "\n",
    "        # acc\n",
    "        acc = self.get_acc(y_hat, targets)\n",
    "\n",
    "        # constructing dataframe\n",
    "        _, predicted_codes = torch.max(y_hat, dim=1)\n",
    "        predicted_targets = self.label_encoder.inverse_transform(\n",
    "            predicted_codes.data.cpu().numpy()\n",
    "        )\n",
    "        original_targets = self.label_encoder.inverse_transform(\n",
    "            targets.data.cpu().numpy()\n",
    "        )\n",
    "        classes_probabilities = self.predict_proba(y_hat).data.cpu().numpy()\n",
    "\n",
    "        for (\n",
    "            original_target,\n",
    "            target,\n",
    "            predicted_target,\n",
    "            predicted_code,\n",
    "            classes_probability,\n",
    "        ) in zip(\n",
    "            original_targets,\n",
    "            targets,\n",
    "            predicted_targets,\n",
    "            predicted_codes,\n",
    "            classes_probabilities,\n",
    "        ):\n",
    "            self.df_valid = self.df_valid.append(\n",
    "                pd.Series(\n",
    "                    [\n",
    "                        original_target,\n",
    "                        int(target),\n",
    "                        predicted_target,\n",
    "                        int(predicted_code),\n",
    "                        classes_probability[0],\n",
    "                        classes_probability[1],\n",
    "                    ],\n",
    "                    index=self.df_valid.columns,\n",
    "                ),\n",
    "                ignore_index=True,\n",
    "            )\n",
    "\n",
    "        self.df_performance_valid_batch = self.df_performance_valid_batch.append(\n",
    "            pd.Series(\n",
    "                [loss.item(), acc.item()], index=self.df_performance_valid_batch.columns\n",
    "            ),\n",
    "            ignore_index=True,\n",
    "        )\n",
    "\n",
    "        return {\"valid_acc_batch\": acc, \"valid_loss_batch\": loss}\n",
    "\n",
    "    def validation_epoch_end(self, outputs):\n",
    "        if not outputs:\n",
    "            return {}\n",
    "        temp_avg_loss_batch = [x[\"valid_loss_batch\"] for x in outputs]\n",
    "        temp_avg_acc_batch = [x[\"valid_acc_batch\"] for x in outputs]\n",
    "\n",
    "        avg_valid_loss = torch.stack(temp_avg_loss_batch).mean()\n",
    "        avg_valid_acc = torch.stack(temp_avg_acc_batch).mean()\n",
    "\n",
    "        self.df_performance_valid_epoch = self.df_performance_valid_epoch.append(\n",
    "            pd.Series(\n",
    "                [avg_valid_loss.item(), avg_valid_acc.item()],\n",
    "                index=self.df_performance_valid_epoch.columns,\n",
    "            ),\n",
    "            ignore_index=True,\n",
    "        )\n",
    "\n",
    "        tensorboard_logs = {\n",
    "            \"avg_valid_acc\": avg_valid_acc,\n",
    "            \"avg_valid_loss\": avg_valid_loss,\n",
    "        }\n",
    "\n",
    "        return {\"avg_valid_acc\": avg_valid_acc, \"log\": tensorboard_logs}\n",
    "\n",
    "    def test_step(self, batch, batch_nb):\n",
    "        # batch\n",
    "        if self.step == \"Experiment\":\n",
    "            inputs, offsets, targets = batch\n",
    "            # fwd\n",
    "            y_hat = self.forward(inputs, offsets)\n",
    "            # acc\n",
    "            acc = self.get_acc(y_hat, targets)\n",
    "            # constructing dataframe\n",
    "            _, predicted_codes = torch.max(y_hat, dim=1)\n",
    "            predicted_targets = self.label_encoder.inverse_transform(\n",
    "                predicted_codes.data.cpu().numpy()\n",
    "            )\n",
    "            original_targets = self.label_encoder.inverse_transform(\n",
    "                targets.data.cpu().numpy()\n",
    "            )\n",
    "            classes_probabilities = self.predict_proba(y_hat).data.cpu().numpy()\n",
    "            for (\n",
    "                original_target,\n",
    "                target,\n",
    "                predicted_target,\n",
    "                predicted_code,\n",
    "                classes_probability,\n",
    "            ) in zip(\n",
    "                original_targets,\n",
    "                targets,\n",
    "                predicted_targets,\n",
    "                predicted_codes,\n",
    "                classes_probabilities,\n",
    "            ):\n",
    "                self.df_test = self.df_test.append(\n",
    "                    pd.Series(\n",
    "                        [\n",
    "                            original_target,\n",
    "                            int(target),\n",
    "                            predicted_target,\n",
    "                            int(predicted_code),\n",
    "                            classes_probability[0],\n",
    "                            classes_probability[1],\n",
    "                        ],\n",
    "                        index=self.df_test.columns,\n",
    "                    ),\n",
    "                    ignore_index=True,\n",
    "                )\n",
    "            retorno = {\"test_acc_batch\": acc}\n",
    "\n",
    "        if self.step == \"Deployment\":\n",
    "            inputs, offsets = batch\n",
    "            # fwd\n",
    "            y_hat = self.forward(inputs, offsets)\n",
    "            # constructing dataframe\n",
    "            _, predicted_codes = torch.max(y_hat, dim=1)\n",
    "            predicted_targets = self.label_encoder.inverse_transform(\n",
    "                predicted_codes.data.cpu().numpy()\n",
    "            )\n",
    "            classes_probabilities = self.predict_proba(y_hat).data.cpu().numpy()\n",
    "            not_apply_list = [\"N/A\"] * len(classes_probabilities)\n",
    "            for not_apply, predicted_target, predicted_code, classes_probability in zip(\n",
    "                not_apply_list,\n",
    "                predicted_targets,\n",
    "                predicted_codes,\n",
    "                classes_probabilities,\n",
    "            ):\n",
    "                self.df_test = self.df_test.append(\n",
    "                    pd.Series(\n",
    "                        [\n",
    "                            not_apply,\n",
    "                            not_apply,\n",
    "                            predicted_target,\n",
    "                            int(predicted_code),\n",
    "                            classes_probability[0],\n",
    "                            classes_probability[1],\n",
    "                        ],\n",
    "                        index=self.df_test.columns,\n",
    "                    ),\n",
    "                    ignore_index=True,\n",
    "                )\n",
    "\n",
    "            retorno = None\n",
    "\n",
    "        return retorno\n",
    "\n",
    "    def test_epoch_end(self, outputs):\n",
    "        if not outputs:\n",
    "            return {}\n",
    "        avg_test_acc = torch.stack([x[\"test_acc_batch\"] for x in outputs]).mean()\n",
    "\n",
    "        tensorboard_logs = {\"avg_test_acc\": avg_test_acc}\n",
    "\n",
    "        return {\"avg_test_acc\": avg_test_acc, \"log\": tensorboard_logs}\n",
    "\n",
    "    def configure_optimizers(self):\n",
    "        return torch.optim.SGD(\n",
    "            [p for p in self.parameters() if p.requires_grad], lr=self.learning_rate\n",
    "        )\n",
    "\n",
    "    def get_acc(self, y_hat, original_codes):\n",
    "        _, y_hat = torch.max(y_hat, dim=1)\n",
    "        val_acc = accuracy_score(y_hat.cpu(), original_codes.cpu())\n",
    "        return torch.tensor(val_acc)\n",
    "\n",
    "    def my_collate(self, batch):\n",
    "        # len soma de todas as palavras\n",
    "        lista_words = []\n",
    "        [lista_words.extend(item[1]) for item in batch]\n",
    "\n",
    "        # len soma de todas as palavras\n",
    "        lista_words_ids = [item[0] for item in batch]\n",
    "        lista_words_ids_vector = torch.cat(lista_words_ids)\n",
    "\n",
    "        if self.step == \"Experiment\":\n",
    "            # len batch_size\n",
    "            target = [item[2] for item in batch]\n",
    "            target = torch.stack(target)\n",
    "\n",
    "        # len batch_size\n",
    "        offsets = [0] + [len(entry) for entry in lista_words_ids]\n",
    "        offsets = torch.tensor(offsets[:-1]).cumsum(dim=0)\n",
    "\n",
    "        if self.step == \"Experiment\":\n",
    "            retorno = lista_words_ids_vector, offsets, target\n",
    "        if self.step == \"Deployment\":\n",
    "            retorno = lista_words_ids_vector, offsets\n",
    "\n",
    "        return retorno\n",
    "\n",
    "    def gpu_mem_restore(func):\n",
    "        @functools.wraps(func)\n",
    "        def wrapper(*args, **kwargs):\n",
    "            try:\n",
    "                return func(*args, **kwargs)\n",
    "            except:\n",
    "                type, val, tb = sys.exc_info()\n",
    "                traceback.clear_frames(tb)\n",
    "                raise type(val).with_traceback(tb) from None\n",
    "\n",
    "        return wrapper\n",
    "\n",
    "    @gpu_mem_restore\n",
    "    def train_dataloader(self):\n",
    "        if self.sampler:\n",
    "            targets = []\n",
    "            for target in self.targets_sampler:\n",
    "                targets.append(target)\n",
    "            targets = torch.tensor(targets).type(torch.long)\n",
    "            # Compute samples weight (each sample should get its own weight)\n",
    "            class_sample_count = torch.tensor(\n",
    "                [(targets == t).sum() for t in torch.unique(targets, sorted=True)]\n",
    "            )\n",
    "            weight = 1.0 / class_sample_count.float()\n",
    "            samples_weight = torch.tensor([weight[t] for t in targets])\n",
    "\n",
    "            # Create sampler, dataset, loader\n",
    "            sampler = WeightedRandomSampler(samples_weight, len(samples_weight))\n",
    "            shuffle = False\n",
    "        else:\n",
    "            shuffle = True\n",
    "            sampler = None\n",
    "\n",
    "        shuffle = False if self.overfit else True\n",
    "        return DataLoader(\n",
    "            self.train_dataset,\n",
    "            sampler=sampler,\n",
    "            batch_size=self.train_batch_size,\n",
    "            shuffle=shuffle,\n",
    "            num_workers=cpu_count(),\n",
    "            collate_fn=self.my_collate,\n",
    "        )\n",
    "\n",
    "    @gpu_mem_restore\n",
    "    def val_dataloader(self):\n",
    "        return DataLoader(\n",
    "            self.valid_dataset,\n",
    "            batch_size=self.eval_batch_size,\n",
    "            shuffle=False,\n",
    "            num_workers=cpu_count(),\n",
    "            collate_fn=self.my_collate,\n",
    "        )\n",
    "\n",
    "    @gpu_mem_restore\n",
    "    def test_dataloader(self):\n",
    "        return DataLoader(\n",
    "            self.test_dataset,\n",
    "            batch_size=self.eval_batch_size,\n",
    "            shuffle=False,\n",
    "            num_workers=cpu_count(),\n",
    "            collate_fn=self.my_collate,\n",
    "        )"
   ]
  },
  {
   "cell_type": "code",
   "execution_count": 51,
   "metadata": {},
   "outputs": [],
   "source": [
    "%run Model_Lightning.py"
   ]
  },
  {
   "cell_type": "markdown",
   "metadata": {},
   "source": [
    "Parâmetros do Modelo"
   ]
  },
  {
   "cell_type": "code",
   "execution_count": 52,
   "metadata": {},
   "outputs": [],
   "source": [
    "all_data = [\n",
    "    X_train_glove_ids,\n",
    "    X_train_glove_words,\n",
    "    y_train,\n",
    "    X_valid_glove_ids,\n",
    "    X_valid_glove_words,\n",
    "    y_valid,\n",
    "    X_test_glove_ids,\n",
    "    X_test_glove_words,\n",
    "    y_test,\n",
    "]\n",
    "hyperparams = {\n",
    "    \"learning_rate\": learning_rate,\n",
    "    \"train_batch_size\":train_batch_size,\n",
    "    \"eval_batch_size\": eval_batch_size,\n",
    "    \"max_epochs\": max_epochs,\n",
    "    \"accumulate_grad_batches\": accumulate_grad_batches,\n",
    "    \"seed\": seed,\n",
    "    \"hidden_dim\": hidden_dim,\n",
    "}\n",
    "model_parameters = {\n",
    "    \"criterion\": torch.nn.CrossEntropyLoss(),\n",
    "    \"glove_vectors\": glove_vectors,\n",
    "    \"glove_dim\": glove_dim,\n",
    "    \"label_encoder\": label_encoder,\n",
    "}\n",
    "dataset_infos = {\"all_data\": all_data, \"CustomDataset\": ImdbDataset}\n",
    "extra_infos = {\"overfit\": False, \"sampler\": False}"
   ]
  },
  {
   "cell_type": "code",
   "execution_count": 53,
   "metadata": {},
   "outputs": [
    {
     "data": {
      "text/plain": [
       "tensor(90902)"
      ]
     },
     "execution_count": 53,
     "metadata": {},
     "output_type": "execute_result"
    }
   ],
   "source": [
    "model = GloveFinetuner(\n",
    "    hyperparams=hyperparams,\n",
    "    model_parameters=model_parameters,\n",
    "    dataset_infos=dataset_infos,\n",
    "    extra_infos=extra_infos,\n",
    ")\n",
    "sum(\n",
    "    [torch.tensor(x.size()).prod() for x in model.parameters() if x.requires_grad]\n",
    ")  # trainable parameters"
   ]
  },
  {
   "cell_type": "code",
   "execution_count": 54,
   "metadata": {},
   "outputs": [
    {
     "data": {
      "application/vnd.jupyter.widget-view+json": {
       "model_id": "db6a543db1684ad6a863a6aab7a59e2d",
       "version_major": 2,
       "version_minor": 0
      },
      "text/plain": [
       "HBox(children=(FloatProgress(value=1.0, bar_style='info', description='Training', layout=Layout(flex='2'), max…"
      ]
     },
     "metadata": {},
     "output_type": "display_data"
    },
    {
     "data": {
      "application/vnd.jupyter.widget-view+json": {
       "model_id": "",
       "version_major": 2,
       "version_minor": 0
      },
      "text/plain": [
       "HBox(children=(FloatProgress(value=1.0, bar_style='info', description='Validating', layout=Layout(flex='2'), m…"
      ]
     },
     "metadata": {},
     "output_type": "display_data"
    },
    {
     "name": "stdout",
     "output_type": "stream",
     "text": [
      "\n"
     ]
    },
    {
     "data": {
      "text/plain": [
       "1"
      ]
     },
     "execution_count": 54,
     "metadata": {},
     "output_type": "execute_result"
    }
   ],
   "source": [
    "trainer = pl.Trainer(\n",
    "    gpus=0, checkpoint_callback=False, fast_dev_run=True  # Disable checkpoint saving.\n",
    ")\n",
    "trainer.fit(model)"
   ]
  },
  {
   "cell_type": "code",
   "execution_count": 55,
   "metadata": {},
   "outputs": [
    {
     "data": {
      "application/vnd.jupyter.widget-view+json": {
       "model_id": "85e736339460405da22a90ff49167f3b",
       "version_major": 2,
       "version_minor": 0
      },
      "text/plain": [
       "HBox(children=(FloatProgress(value=1.0, bar_style='info', description='Testing', layout=Layout(flex='2'), max=…"
      ]
     },
     "metadata": {},
     "output_type": "display_data"
    },
    {
     "name": "stdout",
     "output_type": "stream",
     "text": [
      "--------------------------------------------------------------------------------\n",
      "TEST RESULTS\n",
      "{'avg_test_acc': tensor(0.4800, dtype=torch.float64)}\n",
      "--------------------------------------------------------------------------------\n",
      "\n"
     ]
    }
   ],
   "source": [
    "trainer.test(model)"
   ]
  },
  {
   "cell_type": "markdown",
   "metadata": {},
   "source": [
    "Recuperando ou treinando o modelo"
   ]
  },
  {
   "cell_type": "code",
   "execution_count": 56,
   "metadata": {
    "colab": {},
    "colab_type": "code",
    "id": "7M34zSVlQqVP"
   },
   "outputs": [
    {
     "name": "stdout",
     "output_type": "stream",
     "text": [
      "Files in /home/jovyan/tasks/GloVe_Bag_Of_Embeddings_Sentence_Classification: ['pyotrch_model.pt', '.ipynb_checkpoints', 'Experiment.ipynb', 'glove_dir', 'Model.py', 'epoch=199.ckpt', 'lightning_logs', 'glove.6B.zip', 'Deployment.ipynb', 'artifacts.p', '__pycache__', 'epoch=99.ckpt', 'Model_Lightning.py', 'Dataset.py']\n",
      "Saving checkpoints to /home/jovyan/tasks/GloVe_Bag_Of_Embeddings_Sentence_Classification\n",
      "Restoring checkpoint: /home/jovyan/tasks/GloVe_Bag_Of_Embeddings_Sentence_Classification/epoch=199.ckpt\n"
     ]
    },
    {
     "data": {
      "application/vnd.jupyter.widget-view+json": {
       "model_id": "c8998035f6a24c608ae1c19a29f4c6ae",
       "version_major": 2,
       "version_minor": 0
      },
      "text/plain": [
       "HBox(children=(FloatProgress(value=1.0, bar_style='info', description='Validation sanity check', layout=Layout…"
      ]
     },
     "metadata": {},
     "output_type": "display_data"
    },
    {
     "data": {
      "application/vnd.jupyter.widget-view+json": {
       "model_id": "e421011157af491498b76fb9d117c449",
       "version_major": 2,
       "version_minor": 0
      },
      "text/plain": [
       "HBox(children=(FloatProgress(value=1.0, bar_style='info', description='Training', layout=Layout(flex='2'), max…"
      ]
     },
     "metadata": {},
     "output_type": "display_data"
    },
    {
     "name": "stdout",
     "output_type": "stream",
     "text": [
      "\n"
     ]
    },
    {
     "data": {
      "text/plain": [
       "1"
      ]
     },
     "execution_count": 56,
     "metadata": {},
     "output_type": "execute_result"
    }
   ],
   "source": [
    "import os\n",
    "\n",
    "from pytorch_lightning.callbacks import ModelCheckpoint\n",
    "\n",
    "checkpoint_path = cwd + \"/epoch=199.ckpt\"\n",
    "checkpoint_dir = os.path.dirname(os.path.abspath(checkpoint_path))\n",
    "print(f\"Files in {checkpoint_dir}: {os.listdir(checkpoint_dir)}\")\n",
    "print(f\"Saving checkpoints to {checkpoint_dir}\")\n",
    "checkpoint_callback = ModelCheckpoint(\n",
    "    filepath=checkpoint_dir, save_top_k=-1, monitor=\"val_acc\"\n",
    ")  # Keeps all checkpoints.\n",
    "\n",
    "resume_from_checkpoint = None\n",
    "if os.path.exists(checkpoint_path):\n",
    "    weights_retrieved = True\n",
    "    print(f\"Restoring checkpoint: {checkpoint_path}\")\n",
    "    resume_from_checkpoint = checkpoint_path\n",
    "else:\n",
    "    weights_retrieved = False\n",
    "\n",
    "trainer = pl.Trainer(\n",
    "    gpus=0,\n",
    "    max_epochs=max_epochs,\n",
    "    check_val_every_n_epoch=100,\n",
    "    profiler=True,\n",
    "    checkpoint_callback=checkpoint_callback,\n",
    "    progress_bar_refresh_rate=100,\n",
    "    resume_from_checkpoint=resume_from_checkpoint,\n",
    ")\n",
    "\n",
    "model = GloveFinetuner(\n",
    "    hyperparams=hyperparams,\n",
    "    model_parameters=model_parameters,\n",
    "    dataset_infos=dataset_infos,\n",
    "    extra_infos=extra_infos,\n",
    ")\n",
    "\n",
    "trainer.fit(model)"
   ]
  },
  {
   "cell_type": "code",
   "execution_count": 57,
   "metadata": {
    "colab": {},
    "colab_type": "code",
    "id": "q39ZAPr30Mxx"
   },
   "outputs": [
    {
     "data": {
      "application/vnd.jupyter.widget-view+json": {
       "model_id": "7c4a5ff17afd48f5b8ee2dd4d39f1198",
       "version_major": 2,
       "version_minor": 0
      },
      "text/plain": [
       "HBox(children=(FloatProgress(value=1.0, bar_style='info', description='Testing', layout=Layout(flex='2'), max=…"
      ]
     },
     "metadata": {},
     "output_type": "display_data"
    },
    {
     "name": "stdout",
     "output_type": "stream",
     "text": [
      "--------------------------------------------------------------------------------\n",
      "TEST RESULTS\n",
      "{'avg_test_acc': tensor(0.8498, dtype=torch.float64)}\n",
      "--------------------------------------------------------------------------------\n",
      "\n"
     ]
    }
   ],
   "source": [
    "trainer.test(model)"
   ]
  },
  {
   "cell_type": "markdown",
   "metadata": {},
   "source": [
    "Visualizando resultados"
   ]
  },
  {
   "cell_type": "code",
   "execution_count": 58,
   "metadata": {
    "colab": {},
    "colab_type": "code",
    "id": "Zu1OeX8f_HKi"
   },
   "outputs": [
    {
     "data": {
      "text/html": [
       "<div>\n",
       "<style scoped>\n",
       "    .dataframe tbody tr th:only-of-type {\n",
       "        vertical-align: middle;\n",
       "    }\n",
       "\n",
       "    .dataframe tbody tr th {\n",
       "        vertical-align: top;\n",
       "    }\n",
       "\n",
       "    .dataframe thead th {\n",
       "        text-align: right;\n",
       "    }\n",
       "</style>\n",
       "<table border=\"1\" class=\"dataframe\">\n",
       "  <thead>\n",
       "    <tr style=\"text-align: right;\">\n",
       "      <th></th>\n",
       "      <th>ORIGINAL_TARGET</th>\n",
       "      <th>ORIGINAL_CODE</th>\n",
       "      <th>PREDICTED_TARGET</th>\n",
       "      <th>PREDICTED_CODE</th>\n",
       "      <th>NEG_PROBA</th>\n",
       "      <th>POS_PROBA</th>\n",
       "    </tr>\n",
       "  </thead>\n",
       "  <tbody>\n",
       "    <tr>\n",
       "      <th>0</th>\n",
       "      <td>negative</td>\n",
       "      <td>0</td>\n",
       "      <td>negative</td>\n",
       "      <td>0</td>\n",
       "      <td>0.820072</td>\n",
       "      <td>0.179928</td>\n",
       "    </tr>\n",
       "    <tr>\n",
       "      <th>1</th>\n",
       "      <td>negative</td>\n",
       "      <td>0</td>\n",
       "      <td>negative</td>\n",
       "      <td>0</td>\n",
       "      <td>0.643327</td>\n",
       "      <td>0.356673</td>\n",
       "    </tr>\n",
       "    <tr>\n",
       "      <th>2</th>\n",
       "      <td>positive</td>\n",
       "      <td>1</td>\n",
       "      <td>positive</td>\n",
       "      <td>1</td>\n",
       "      <td>0.054335</td>\n",
       "      <td>0.945665</td>\n",
       "    </tr>\n",
       "    <tr>\n",
       "      <th>3</th>\n",
       "      <td>positive</td>\n",
       "      <td>1</td>\n",
       "      <td>positive</td>\n",
       "      <td>1</td>\n",
       "      <td>0.410698</td>\n",
       "      <td>0.589302</td>\n",
       "    </tr>\n",
       "    <tr>\n",
       "      <th>4</th>\n",
       "      <td>negative</td>\n",
       "      <td>0</td>\n",
       "      <td>negative</td>\n",
       "      <td>0</td>\n",
       "      <td>0.996441</td>\n",
       "      <td>0.003559</td>\n",
       "    </tr>\n",
       "    <tr>\n",
       "      <th>...</th>\n",
       "      <td>...</td>\n",
       "      <td>...</td>\n",
       "      <td>...</td>\n",
       "      <td>...</td>\n",
       "      <td>...</td>\n",
       "      <td>...</td>\n",
       "    </tr>\n",
       "    <tr>\n",
       "      <th>495</th>\n",
       "      <td>negative</td>\n",
       "      <td>0</td>\n",
       "      <td>negative</td>\n",
       "      <td>0</td>\n",
       "      <td>0.982044</td>\n",
       "      <td>0.017956</td>\n",
       "    </tr>\n",
       "    <tr>\n",
       "      <th>496</th>\n",
       "      <td>positive</td>\n",
       "      <td>1</td>\n",
       "      <td>negative</td>\n",
       "      <td>0</td>\n",
       "      <td>0.595884</td>\n",
       "      <td>0.404116</td>\n",
       "    </tr>\n",
       "    <tr>\n",
       "      <th>497</th>\n",
       "      <td>negative</td>\n",
       "      <td>0</td>\n",
       "      <td>negative</td>\n",
       "      <td>0</td>\n",
       "      <td>0.990035</td>\n",
       "      <td>0.009966</td>\n",
       "    </tr>\n",
       "    <tr>\n",
       "      <th>498</th>\n",
       "      <td>negative</td>\n",
       "      <td>0</td>\n",
       "      <td>negative</td>\n",
       "      <td>0</td>\n",
       "      <td>0.988992</td>\n",
       "      <td>0.011008</td>\n",
       "    </tr>\n",
       "    <tr>\n",
       "      <th>499</th>\n",
       "      <td>negative</td>\n",
       "      <td>0</td>\n",
       "      <td>negative</td>\n",
       "      <td>0</td>\n",
       "      <td>0.948295</td>\n",
       "      <td>0.051705</td>\n",
       "    </tr>\n",
       "  </tbody>\n",
       "</table>\n",
       "<p>500 rows × 6 columns</p>\n",
       "</div>"
      ],
      "text/plain": [
       "    ORIGINAL_TARGET ORIGINAL_CODE PREDICTED_TARGET PREDICTED_CODE  NEG_PROBA  \\\n",
       "0          negative             0         negative              0   0.820072   \n",
       "1          negative             0         negative              0   0.643327   \n",
       "2          positive             1         positive              1   0.054335   \n",
       "3          positive             1         positive              1   0.410698   \n",
       "4          negative             0         negative              0   0.996441   \n",
       "..              ...           ...              ...            ...        ...   \n",
       "495        negative             0         negative              0   0.982044   \n",
       "496        positive             1         negative              0   0.595884   \n",
       "497        negative             0         negative              0   0.990035   \n",
       "498        negative             0         negative              0   0.988992   \n",
       "499        negative             0         negative              0   0.948295   \n",
       "\n",
       "     POS_PROBA  \n",
       "0     0.179928  \n",
       "1     0.356673  \n",
       "2     0.945665  \n",
       "3     0.589302  \n",
       "4     0.003559  \n",
       "..         ...  \n",
       "495   0.017956  \n",
       "496   0.404116  \n",
       "497   0.009966  \n",
       "498   0.011008  \n",
       "499   0.051705  \n",
       "\n",
       "[500 rows x 6 columns]"
      ]
     },
     "execution_count": 58,
     "metadata": {},
     "output_type": "execute_result"
    }
   ],
   "source": [
    "model.df_valid"
   ]
  },
  {
   "cell_type": "code",
   "execution_count": 59,
   "metadata": {
    "colab": {},
    "colab_type": "code",
    "id": "k371h_Xm0NYv"
   },
   "outputs": [
    {
     "data": {
      "text/html": [
       "<div>\n",
       "<style scoped>\n",
       "    .dataframe tbody tr th:only-of-type {\n",
       "        vertical-align: middle;\n",
       "    }\n",
       "\n",
       "    .dataframe tbody tr th {\n",
       "        vertical-align: top;\n",
       "    }\n",
       "\n",
       "    .dataframe thead th {\n",
       "        text-align: right;\n",
       "    }\n",
       "</style>\n",
       "<table border=\"1\" class=\"dataframe\">\n",
       "  <thead>\n",
       "    <tr style=\"text-align: right;\">\n",
       "      <th></th>\n",
       "      <th>ORIGINAL_TARGET</th>\n",
       "      <th>ORIGINAL_CODE</th>\n",
       "      <th>PREDICTED_TARGET</th>\n",
       "      <th>PREDICTED_CODE</th>\n",
       "      <th>NEG_PROBA</th>\n",
       "      <th>POS_PROBA</th>\n",
       "    </tr>\n",
       "  </thead>\n",
       "  <tbody>\n",
       "    <tr>\n",
       "      <th>0</th>\n",
       "      <td>negative</td>\n",
       "      <td>0</td>\n",
       "      <td>negative</td>\n",
       "      <td>0</td>\n",
       "      <td>0.938689</td>\n",
       "      <td>0.061311</td>\n",
       "    </tr>\n",
       "    <tr>\n",
       "      <th>1</th>\n",
       "      <td>positive</td>\n",
       "      <td>1</td>\n",
       "      <td>positive</td>\n",
       "      <td>1</td>\n",
       "      <td>0.111931</td>\n",
       "      <td>0.888069</td>\n",
       "    </tr>\n",
       "    <tr>\n",
       "      <th>2</th>\n",
       "      <td>negative</td>\n",
       "      <td>0</td>\n",
       "      <td>negative</td>\n",
       "      <td>0</td>\n",
       "      <td>0.971661</td>\n",
       "      <td>0.028339</td>\n",
       "    </tr>\n",
       "    <tr>\n",
       "      <th>3</th>\n",
       "      <td>positive</td>\n",
       "      <td>1</td>\n",
       "      <td>negative</td>\n",
       "      <td>0</td>\n",
       "      <td>0.841672</td>\n",
       "      <td>0.158328</td>\n",
       "    </tr>\n",
       "    <tr>\n",
       "      <th>4</th>\n",
       "      <td>negative</td>\n",
       "      <td>0</td>\n",
       "      <td>negative</td>\n",
       "      <td>0</td>\n",
       "      <td>0.949632</td>\n",
       "      <td>0.050368</td>\n",
       "    </tr>\n",
       "    <tr>\n",
       "      <th>...</th>\n",
       "      <td>...</td>\n",
       "      <td>...</td>\n",
       "      <td>...</td>\n",
       "      <td>...</td>\n",
       "      <td>...</td>\n",
       "      <td>...</td>\n",
       "    </tr>\n",
       "    <tr>\n",
       "      <th>4995</th>\n",
       "      <td>negative</td>\n",
       "      <td>0</td>\n",
       "      <td>negative</td>\n",
       "      <td>0</td>\n",
       "      <td>0.806002</td>\n",
       "      <td>0.193998</td>\n",
       "    </tr>\n",
       "    <tr>\n",
       "      <th>4996</th>\n",
       "      <td>negative</td>\n",
       "      <td>0</td>\n",
       "      <td>negative</td>\n",
       "      <td>0</td>\n",
       "      <td>0.923930</td>\n",
       "      <td>0.076070</td>\n",
       "    </tr>\n",
       "    <tr>\n",
       "      <th>4997</th>\n",
       "      <td>positive</td>\n",
       "      <td>1</td>\n",
       "      <td>negative</td>\n",
       "      <td>0</td>\n",
       "      <td>0.679708</td>\n",
       "      <td>0.320292</td>\n",
       "    </tr>\n",
       "    <tr>\n",
       "      <th>4998</th>\n",
       "      <td>negative</td>\n",
       "      <td>0</td>\n",
       "      <td>negative</td>\n",
       "      <td>0</td>\n",
       "      <td>0.990738</td>\n",
       "      <td>0.009262</td>\n",
       "    </tr>\n",
       "    <tr>\n",
       "      <th>4999</th>\n",
       "      <td>positive</td>\n",
       "      <td>1</td>\n",
       "      <td>positive</td>\n",
       "      <td>1</td>\n",
       "      <td>0.152554</td>\n",
       "      <td>0.847446</td>\n",
       "    </tr>\n",
       "  </tbody>\n",
       "</table>\n",
       "<p>5000 rows × 6 columns</p>\n",
       "</div>"
      ],
      "text/plain": [
       "     ORIGINAL_TARGET ORIGINAL_CODE PREDICTED_TARGET PREDICTED_CODE  NEG_PROBA  \\\n",
       "0           negative             0         negative              0   0.938689   \n",
       "1           positive             1         positive              1   0.111931   \n",
       "2           negative             0         negative              0   0.971661   \n",
       "3           positive             1         negative              0   0.841672   \n",
       "4           negative             0         negative              0   0.949632   \n",
       "...              ...           ...              ...            ...        ...   \n",
       "4995        negative             0         negative              0   0.806002   \n",
       "4996        negative             0         negative              0   0.923930   \n",
       "4997        positive             1         negative              0   0.679708   \n",
       "4998        negative             0         negative              0   0.990738   \n",
       "4999        positive             1         positive              1   0.152554   \n",
       "\n",
       "      POS_PROBA  \n",
       "0      0.061311  \n",
       "1      0.888069  \n",
       "2      0.028339  \n",
       "3      0.158328  \n",
       "4      0.050368  \n",
       "...         ...  \n",
       "4995   0.193998  \n",
       "4996   0.076070  \n",
       "4997   0.320292  \n",
       "4998   0.009262  \n",
       "4999   0.847446  \n",
       "\n",
       "[5000 rows x 6 columns]"
      ]
     },
     "execution_count": 59,
     "metadata": {},
     "output_type": "execute_result"
    }
   ],
   "source": [
    "model.df_test"
   ]
  },
  {
   "cell_type": "markdown",
   "metadata": {
    "colab_type": "text",
    "id": "ixAqwyc4w7pF"
   },
   "source": [
    "## Visualização do desempenho\n",
    "A [**Matriz de Confusão**](https://en.wikipedia.org/wiki/Confusion_matrix) (Confusion Matrix) é uma tabela que nos permite a visualização do desempenho de um algoritmo de classificação. <br>\n",
    "É extremamente útil para mensurar [Accuracy](https://en.wikipedia.org/wiki/Accuracy_and_precision#In_binary_classification), [Recall, Precision, and F-measure](https://en.wikipedia.org/wiki/Precision_and_recall)."
   ]
  },
  {
   "cell_type": "code",
   "execution_count": 63,
   "metadata": {
    "colab": {},
    "colab_type": "code",
    "id": "tTVDG4NlxVsg"
   },
   "outputs": [],
   "source": [
    "from sklearn.metrics import (\n",
    "    accuracy_score,\n",
    "    confusion_matrix,\n",
    "    precision_recall_fscore_support,\n",
    ")\n",
    "\n",
    "# uses the model to make predictions on the Test Dataset\n",
    "y_pred = list(model.df_test[\"PREDICTED_CODE\"])\n",
    "y_prob = [\n",
    "    [a, b]\n",
    "    for a, b in zip(list(model.df_test[\"NEG_PROBA\"]), list(model.df_test[\"POS_PROBA\"]))\n",
    "]\n",
    "\n",
    "# computes confusion matrix\n",
    "labels = np.unique(y)\n",
    "data = confusion_matrix(y_test, y_pred, labels=labels)\n",
    "\n",
    "# computes precision, recall, f1-score, support (for multiclass classification problem) and accuracy\n",
    "if len(labels) > 2:\n",
    "    # multiclass classification\n",
    "    p, r, f1, s = precision_recall_fscore_support(\n",
    "        y_test, y_pred, labels=labels, average=None\n",
    "    )\n",
    "\n",
    "    commom_metrics = pd.DataFrame(\n",
    "        data=zip(p, r, f1, s), columns=[\"Precision\", \"Recall\", \"F1-Score\", \"Support\"]\n",
    "    )\n",
    "\n",
    "    average_options = (\"micro\", \"macro\", \"weighted\")\n",
    "    for average in average_options:\n",
    "        if average.startswith(\"micro\"):\n",
    "            line_heading = \"accuracy\"\n",
    "        else:\n",
    "            line_heading = average + \" avg\"\n",
    "\n",
    "        # compute averages with specified averaging method\n",
    "        avg_p, avg_r, avg_f1, _ = precision_recall_fscore_support(\n",
    "            y_test, y_pred, labels=labels, average=average\n",
    "        )\n",
    "        avg = pd.Series(\n",
    "            {\n",
    "                \"Precision\": avg_p,\n",
    "                \"Recall\": avg_r,\n",
    "                \"F1-Score\": avg_f1,\n",
    "                \"Support\": np.sum(s),\n",
    "            },\n",
    "            name=line_heading,\n",
    "        )\n",
    "        commom_metrics = commom_metrics.append(avg)\n",
    "else:\n",
    "    # binary classification\n",
    "    p, r, f1, _ = precision_recall_fscore_support(y_test, y_pred, average=\"binary\")\n",
    "    accuracy = accuracy_score(y_test, y_pred)\n",
    "    commom_metrics = pd.DataFrame(\n",
    "        data={\"Precision\": p, \"Recall\": r, \"F1-Score\": f1, \"Accuracy\": accuracy},\n",
    "        index=[1],\n",
    "    )\n",
    "\n",
    "# puts matrix in pandas.DataFrame for better format\n",
    "labels = label_encoder.inverse_transform(labels)\n",
    "confusion_matrix = pd.DataFrame(data, columns=labels, index=labels)\n",
    "\n",
    "# add correct index labels to commom_metrics DataFrame (for multiclass classification)\n",
    "if len(labels) > 2:\n",
    "    as_list = commom_metrics.index.tolist()\n",
    "    as_list[0 : len(labels)] = labels\n",
    "    commom_metrics.index = as_list"
   ]
  },
  {
   "cell_type": "code",
   "execution_count": 64,
   "metadata": {
    "colab": {},
    "colab_type": "code",
    "id": "ZOGWZZYt71aL"
   },
   "outputs": [
    {
     "data": {
      "text/html": [
       "<div>\n",
       "<style scoped>\n",
       "    .dataframe tbody tr th:only-of-type {\n",
       "        vertical-align: middle;\n",
       "    }\n",
       "\n",
       "    .dataframe tbody tr th {\n",
       "        vertical-align: top;\n",
       "    }\n",
       "\n",
       "    .dataframe thead th {\n",
       "        text-align: right;\n",
       "    }\n",
       "</style>\n",
       "<table border=\"1\" class=\"dataframe\">\n",
       "  <thead>\n",
       "    <tr style=\"text-align: right;\">\n",
       "      <th></th>\n",
       "      <th>negative</th>\n",
       "      <th>positive</th>\n",
       "    </tr>\n",
       "  </thead>\n",
       "  <tbody>\n",
       "    <tr>\n",
       "      <th>negative</th>\n",
       "      <td>2239</td>\n",
       "      <td>261</td>\n",
       "    </tr>\n",
       "    <tr>\n",
       "      <th>positive</th>\n",
       "      <td>490</td>\n",
       "      <td>2010</td>\n",
       "    </tr>\n",
       "  </tbody>\n",
       "</table>\n",
       "</div>"
      ],
      "text/plain": [
       "          negative  positive\n",
       "negative      2239       261\n",
       "positive       490      2010"
      ]
     },
     "execution_count": 64,
     "metadata": {},
     "output_type": "execute_result"
    }
   ],
   "source": [
    "print(confusion_matrix)"
   ]
  },
  {
   "cell_type": "code",
   "execution_count": 65,
   "metadata": {
    "colab": {},
    "colab_type": "code",
    "id": "sDnjJfWP7zZi"
   },
   "outputs": [
    {
     "data": {
      "text/html": [
       "<div>\n",
       "<style scoped>\n",
       "    .dataframe tbody tr th:only-of-type {\n",
       "        vertical-align: middle;\n",
       "    }\n",
       "\n",
       "    .dataframe tbody tr th {\n",
       "        vertical-align: top;\n",
       "    }\n",
       "\n",
       "    .dataframe thead th {\n",
       "        text-align: right;\n",
       "    }\n",
       "</style>\n",
       "<table border=\"1\" class=\"dataframe\">\n",
       "  <thead>\n",
       "    <tr style=\"text-align: right;\">\n",
       "      <th></th>\n",
       "      <th>Precision</th>\n",
       "      <th>Recall</th>\n",
       "      <th>F1-Score</th>\n",
       "      <th>Accuracy</th>\n",
       "    </tr>\n",
       "  </thead>\n",
       "  <tbody>\n",
       "    <tr>\n",
       "      <th>1</th>\n",
       "      <td>0.885073</td>\n",
       "      <td>0.804</td>\n",
       "      <td>0.842591</td>\n",
       "      <td>0.8498</td>\n",
       "    </tr>\n",
       "  </tbody>\n",
       "</table>\n",
       "</div>"
      ],
      "text/plain": [
       "   Precision  Recall  F1-Score  Accuracy\n",
       "1   0.885073   0.804  0.842591    0.8498"
      ]
     },
     "execution_count": 65,
     "metadata": {},
     "output_type": "execute_result"
    }
   ],
   "source": [
    "print(commom_metrics)"
   ]
  },
  {
   "cell_type": "markdown",
   "metadata": {
    "colab_type": "text",
    "id": "AZrnbPzjxvRa"
   },
   "source": [
    "## Salva métricas\n",
    "\n",
    "Utiliza a função `save_metrics` do [SDK da PlatIAgro](https://platiagro.github.io/sdk/) para salvar métricas. Por exemplo: `accuracy`, `precision`, `r2_score`, `custom_score` etc.<br>"
   ]
  },
  {
   "cell_type": "code",
   "execution_count": 66,
   "metadata": {
    "colab": {},
    "colab_type": "code",
    "id": "I5Cl7HVdzAEZ"
   },
   "outputs": [
    {
     "data": {
      "text/plain": [
       "<Figure size 432x288 with 0 Axes>"
      ]
     },
     "metadata": {},
     "output_type": "display_data"
    }
   ],
   "source": [
    "from platiagro import save_metrics\n",
    "\n",
    "save_metrics(confusion_matrix=confusion_matrix, commom_metrics=commom_metrics)"
   ]
  },
  {
   "cell_type": "markdown",
   "metadata": {
    "colab_type": "text",
    "id": "Gr2CzFwgy67g"
   },
   "source": [
    "## Salva figuras\n",
    "\n",
    "Utiliza a função `save_figures` do [SDK da PlatIAgro](https://platiagro.github.io/sdk/) para salvar figuras do [matplotlib](https://matplotlib.org/3.2.1/gallery/index.html). <br>\n",
    "\n",
    "A avaliação do desempenho do modelo pode ser feita por meio da análise da [Curva ROC (ROC)](https://pt.wikipedia.org/wiki/Caracter%C3%ADstica_de_Opera%C3%A7%C3%A3o_do_Receptor).  Esse gráfico permite avaliar a performance de um classificador binário para diferentes pontos de cortes. A métrica [AUC (Area under curve)](https://en.wikipedia.org/wiki/Receiver_operating_characteristic#Area_under_the_curve) também é calculada e indicada na legenda do gráfico.<br>\n",
    "Se a variável resposta tiver mais de duas categorias, o cálculo da curva ROC e AUC é feito utilizando o algoritmo [one-vs-rest](https://scikit-learn.org/stable/modules/model_evaluation.html#roc-metrics), ou seja, calcula-se a curva ROC e AUC de cada classe em relação ao restante."
   ]
  },
  {
   "cell_type": "code",
   "execution_count": 78,
   "metadata": {
    "colab": {},
    "colab_type": "code",
    "id": "-EQgFvXAy7uC"
   },
   "outputs": [
    {
     "name": "stderr",
     "output_type": "stream",
     "text": [
      "DEBUG:matplotlib.font_manager:findfont: Matching sans\\-serif:style=normal:variant=normal:weight=normal:stretch=normal:size=12.0.\n",
      "DEBUG:matplotlib.font_manager:findfont: score(<Font 'cmss10' (cmss10.ttf) normal normal 400 normal>) = 10.05\n",
      "DEBUG:matplotlib.font_manager:findfont: score(<Font 'STIXNonUnicode' (STIXNonUni.ttf) normal normal 400 normal>) = 10.05\n",
      "DEBUG:matplotlib.font_manager:findfont: score(<Font 'STIXGeneral' (STIXGeneralBol.ttf) normal normal 700 normal>) = 10.335\n",
      "DEBUG:matplotlib.font_manager:findfont: score(<Font 'STIXNonUnicode' (STIXNonUniBol.ttf) normal normal 700 normal>) = 10.335\n",
      "DEBUG:matplotlib.font_manager:findfont: score(<Font 'STIXGeneral' (STIXGeneral.ttf) normal normal 400 normal>) = 10.05\n",
      "DEBUG:matplotlib.font_manager:findfont: score(<Font 'DejaVu Sans Display' (DejaVuSansDisplay.ttf) normal normal 400 normal>) = 10.05\n",
      "DEBUG:matplotlib.font_manager:findfont: score(<Font 'STIXNonUnicode' (STIXNonUniIta.ttf) italic normal 400 normal>) = 11.05\n",
      "DEBUG:matplotlib.font_manager:findfont: score(<Font 'STIXSizeOneSym' (STIXSizOneSymReg.ttf) normal normal 400 normal>) = 10.05\n",
      "DEBUG:matplotlib.font_manager:findfont: score(<Font 'STIXSizeTwoSym' (STIXSizTwoSymReg.ttf) normal normal 400 normal>) = 10.05\n",
      "DEBUG:matplotlib.font_manager:findfont: score(<Font 'DejaVu Serif' (DejaVuSerif-Italic.ttf) italic normal 400 normal>) = 11.05\n",
      "DEBUG:matplotlib.font_manager:findfont: score(<Font 'STIXSizeFourSym' (STIXSizFourSymBol.ttf) normal normal 700 normal>) = 10.335\n",
      "DEBUG:matplotlib.font_manager:findfont: score(<Font 'DejaVu Sans Mono' (DejaVuSansMono-Oblique.ttf) oblique normal 400 normal>) = 11.05\n",
      "DEBUG:matplotlib.font_manager:findfont: score(<Font 'DejaVu Sans' (DejaVuSans.ttf) normal normal 400 normal>) = 0.05\n",
      "DEBUG:matplotlib.font_manager:findfont: score(<Font 'DejaVu Sans' (DejaVuSans-BoldOblique.ttf) oblique normal 700 normal>) = 1.335\n",
      "DEBUG:matplotlib.font_manager:findfont: score(<Font 'STIXNonUnicode' (STIXNonUniBolIta.ttf) italic normal 700 normal>) = 11.335\n",
      "DEBUG:matplotlib.font_manager:findfont: score(<Font 'STIXSizeThreeSym' (STIXSizThreeSymReg.ttf) normal normal 400 normal>) = 10.05\n",
      "DEBUG:matplotlib.font_manager:findfont: score(<Font 'DejaVu Sans Mono' (DejaVuSansMono.ttf) normal normal 400 normal>) = 10.05\n",
      "DEBUG:matplotlib.font_manager:findfont: score(<Font 'STIXSizeTwoSym' (STIXSizTwoSymBol.ttf) normal normal 700 normal>) = 10.335\n",
      "DEBUG:matplotlib.font_manager:findfont: score(<Font 'cmtt10' (cmtt10.ttf) normal normal 400 normal>) = 10.05\n",
      "DEBUG:matplotlib.font_manager:findfont: score(<Font 'DejaVu Sans' (DejaVuSans-Bold.ttf) normal normal 700 normal>) = 0.33499999999999996\n",
      "DEBUG:matplotlib.font_manager:findfont: score(<Font 'DejaVu Sans Mono' (DejaVuSansMono-Bold.ttf) normal normal 700 normal>) = 10.335\n",
      "DEBUG:matplotlib.font_manager:findfont: score(<Font 'STIXSizeThreeSym' (STIXSizThreeSymBol.ttf) normal normal 700 normal>) = 10.335\n",
      "DEBUG:matplotlib.font_manager:findfont: score(<Font 'cmsy10' (cmsy10.ttf) normal normal 400 normal>) = 10.05\n",
      "DEBUG:matplotlib.font_manager:findfont: score(<Font 'STIXSizeFiveSym' (STIXSizFiveSymReg.ttf) normal normal 400 normal>) = 10.05\n",
      "DEBUG:matplotlib.font_manager:findfont: score(<Font 'DejaVu Serif' (DejaVuSerif-BoldItalic.ttf) italic normal 700 normal>) = 11.335\n",
      "DEBUG:matplotlib.font_manager:findfont: score(<Font 'DejaVu Serif Display' (DejaVuSerifDisplay.ttf) normal normal 400 normal>) = 10.05\n",
      "DEBUG:matplotlib.font_manager:findfont: score(<Font 'cmmi10' (cmmi10.ttf) normal normal 400 normal>) = 10.05\n",
      "DEBUG:matplotlib.font_manager:findfont: score(<Font 'STIXSizeFourSym' (STIXSizFourSymReg.ttf) normal normal 400 normal>) = 10.05\n",
      "DEBUG:matplotlib.font_manager:findfont: score(<Font 'cmr10' (cmr10.ttf) normal normal 400 normal>) = 10.05\n",
      "DEBUG:matplotlib.font_manager:findfont: score(<Font 'DejaVu Serif' (DejaVuSerif-Bold.ttf) normal normal 700 normal>) = 10.335\n",
      "DEBUG:matplotlib.font_manager:findfont: score(<Font 'STIXGeneral' (STIXGeneralBolIta.ttf) italic normal 700 normal>) = 11.335\n",
      "DEBUG:matplotlib.font_manager:findfont: score(<Font 'DejaVu Sans Mono' (DejaVuSansMono-BoldOblique.ttf) oblique normal 700 normal>) = 11.335\n",
      "DEBUG:matplotlib.font_manager:findfont: score(<Font 'STIXSizeOneSym' (STIXSizOneSymBol.ttf) normal normal 700 normal>) = 10.335\n",
      "DEBUG:matplotlib.font_manager:findfont: score(<Font 'STIXGeneral' (STIXGeneralItalic.ttf) italic normal 400 normal>) = 11.05\n",
      "DEBUG:matplotlib.font_manager:findfont: score(<Font 'DejaVu Serif' (DejaVuSerif.ttf) normal normal 400 normal>) = 10.05\n",
      "DEBUG:matplotlib.font_manager:findfont: score(<Font 'cmb10' (cmb10.ttf) normal normal 400 normal>) = 10.05\n",
      "DEBUG:matplotlib.font_manager:findfont: score(<Font 'cmex10' (cmex10.ttf) normal normal 400 normal>) = 10.05\n",
      "DEBUG:matplotlib.font_manager:findfont: score(<Font 'DejaVu Sans' (DejaVuSans-Oblique.ttf) oblique normal 400 normal>) = 1.05\n",
      "DEBUG:matplotlib.font_manager:findfont: score(<Font 'Liberation Sans' (LiberationSans-Regular.ttf) normal normal 400 normal>) = 10.05\n",
      "DEBUG:matplotlib.font_manager:findfont: score(<Font 'Liberation Sans' (LiberationSans-Italic.ttf) italic normal 400 normal>) = 11.05\n",
      "DEBUG:matplotlib.font_manager:findfont: score(<Font 'Liberation Sans Narrow' (LiberationSansNarrow-BoldItalic.ttf) italic normal 700 condensed>) = 11.535\n",
      "DEBUG:matplotlib.font_manager:findfont: score(<Font 'Liberation Serif' (LiberationSerif-BoldItalic.ttf) italic normal 700 normal>) = 11.335\n",
      "DEBUG:matplotlib.font_manager:findfont: score(<Font 'Liberation Mono' (LiberationMono-Regular.ttf) normal normal 400 normal>) = 10.05\n",
      "DEBUG:matplotlib.font_manager:findfont: score(<Font 'Liberation Mono' (LiberationMono-Italic.ttf) italic normal 400 normal>) = 11.05\n",
      "DEBUG:matplotlib.font_manager:findfont: score(<Font 'Liberation Sans' (LiberationSans-Bold.ttf) normal normal 700 normal>) = 10.335\n",
      "DEBUG:matplotlib.font_manager:findfont: score(<Font 'Liberation Serif' (LiberationSerif-Regular.ttf) normal normal 400 normal>) = 10.05\n",
      "DEBUG:matplotlib.font_manager:findfont: score(<Font 'Liberation Serif' (LiberationSerif-Bold.ttf) normal normal 700 normal>) = 10.335\n",
      "DEBUG:matplotlib.font_manager:findfont: score(<Font 'Liberation Mono' (LiberationMono-Bold.ttf) normal normal 700 normal>) = 10.335\n",
      "DEBUG:matplotlib.font_manager:findfont: score(<Font 'Liberation Sans' (LiberationSans-BoldItalic.ttf) italic normal 700 normal>) = 11.335\n",
      "DEBUG:matplotlib.font_manager:findfont: score(<Font 'Liberation Sans Narrow' (LiberationSansNarrow-Regular.ttf) normal normal 400 condensed>) = 10.25\n",
      "DEBUG:matplotlib.font_manager:findfont: score(<Font 'Liberation Serif' (LiberationSerif-Italic.ttf) italic normal 400 normal>) = 11.05\n",
      "DEBUG:matplotlib.font_manager:findfont: score(<Font 'Liberation Mono' (LiberationMono-BoldItalic.ttf) italic normal 700 normal>) = 11.335\n",
      "DEBUG:matplotlib.font_manager:findfont: score(<Font 'Liberation Sans Narrow' (LiberationSansNarrow-Italic.ttf) italic normal 400 condensed>) = 11.25\n",
      "DEBUG:matplotlib.font_manager:findfont: score(<Font 'Liberation Sans Narrow' (LiberationSansNarrow-Bold.ttf) normal normal 700 condensed>) = 10.535\n",
      "DEBUG:matplotlib.font_manager:findfont: Matching sans\\-serif:style=normal:variant=normal:weight=normal:stretch=normal:size=12.0 to DejaVu Sans ('/opt/conda/lib/python3.7/site-packages/matplotlib/mpl-data/fonts/ttf/DejaVuSans.ttf') with score of 0.050000.\n"
     ]
    },
    {
     "data": {
      "image/png": "[encoded data removed]",
      "text/plain": [
       "<Figure size 432x288 with 1 Axes>"
      ]
     },
     "metadata": {
      "needs_background": "light"
     },
     "output_type": "display_data"
    },
    {
     "data": {
      "image/png": "[encoded data removed]",
      "text/plain": [
       "<Figure size 432x288 with 2 Axes>"
      ]
     },
     "metadata": {
      "needs_background": "light"
     },
     "output_type": "display_data"
    },
    {
     "data": {
      "image/png": "[encoded data removed]",
      "text/plain": [
       "<Figure size 432x288 with 2 Axes>"
      ]
     },
     "metadata": {
      "needs_background": "light"
     },
     "output_type": "display_data"
    },
    {
     "data": {
      "image/png": "[encoded data removed]",
      "text/plain": [
       "<Figure size 432x288 with 2 Axes>"
      ]
     },
     "metadata": {
      "needs_background": "light"
     },
     "output_type": "display_data"
    },
    {
     "data": {
      "image/png": "[encoded data removed]",
      "text/plain": [
       "<Figure size 432x288 with 2 Axes>"
      ]
     },
     "metadata": {
      "needs_background": "light"
     },
     "output_type": "display_data"
    }
   ],
   "source": [
    "import matplotlib.pyplot as plt\n",
    "from matplotlib.pyplot import cm\n",
    "from sklearn import preprocessing\n",
    "\n",
    "# from platiagro import save_figure\n",
    "# from platiagro import list_figures\n",
    "from sklearn.metrics import auc, roc_curve\n",
    "\n",
    "y_pred = list(model.df_test[\"PREDICTED_CODE\"])\n",
    "y_prob = [\n",
    "    [a, b]\n",
    "    for a, b in zip(list(model.df_test[\"NEG_PROBA\"]), list(model.df_test[\"POS_PROBA\"]))\n",
    "]\n",
    "\n",
    "\n",
    "def plot_roc_curve(y_test, y_prob, labels):\n",
    "    n_classes = len(labels)\n",
    "    y_test = list(y_test)\n",
    "    y_prob = np.array(y_prob)\n",
    "\n",
    "    if n_classes == 2:\n",
    "        # Compute ROC curve\n",
    "        fpr, tpr, _ = roc_curve(y_test, y_prob[:, 1])\n",
    "        roc_auc = auc(fpr, tpr)\n",
    "\n",
    "        # Plot ROC Curve\n",
    "        plt.figure()\n",
    "        lw = 2\n",
    "        plt.plot(\n",
    "            fpr,\n",
    "            tpr,\n",
    "            color=\"darkorange\",\n",
    "            lw=lw,\n",
    "            label=\"ROC curve (area = %0.2f)\" % roc_auc,\n",
    "        )\n",
    "        plt.plot([0, 1], [0, 1], color=\"navy\", lw=lw, linestyle=\"--\")\n",
    "        plt.xlim([-0.01, 1.0])\n",
    "        plt.ylim([0.0, 1.05])\n",
    "        plt.xlabel(\"False Positive Rate\")\n",
    "        plt.ylabel(\"True Positive Rate\")\n",
    "        plt.title(\"ROC Curve\")\n",
    "        plt.legend(loc=\"lower right\")\n",
    "        plt.show()\n",
    "\n",
    "    else:\n",
    "        # Binarize the output\n",
    "        lb = preprocessing.LabelBinarizer()\n",
    "        y_test_bin = lb.fit_transform(y_test)\n",
    "\n",
    "        # Compute ROC curve for each class\n",
    "        fpr = dict()\n",
    "        tpr = dict()\n",
    "        roc_auc = dict()\n",
    "\n",
    "        for i in range(n_classes):\n",
    "            fpr[i], tpr[i], _ = roc_curve(y_test_bin[:, i], y_prob[:, i])\n",
    "            roc_auc[i] = auc(fpr[i], tpr[i])\n",
    "\n",
    "        color = cm.rainbow(np.linspace(0, 1, n_classes + 1))\n",
    "        plt.figure()\n",
    "        lw = 2\n",
    "        plt.plot([0, 1], [0, 1], color=\"navy\", lw=lw, linestyle=\"--\")\n",
    "        plt.xlim([-0.01, 1.0])\n",
    "        plt.ylim([0.0, 1.05])\n",
    "        plt.xlabel(\"False Positive Rate\")\n",
    "        plt.ylabel(\"True Positive Rate\")\n",
    "\n",
    "        for i, c in zip(range(n_classes), color):\n",
    "            plt.plot(\n",
    "                fpr[i],\n",
    "                tpr[i],\n",
    "                color=c,\n",
    "                lw=lw,\n",
    "                label=\"ROC curve - Class %s (area = %0.2f)\" % (labels[i], roc_auc[i]),\n",
    "            )\n",
    "            plt.title(\"ROC Curve One-vs-Rest\")\n",
    "            plt.legend(loc=\"lower right\")\n",
    "\n",
    "        plt.show()\n",
    "\n",
    "\n",
    "# funciona apenas quando se treina o modelo, quando recupera os pesos aparentemente não está\n",
    "def performance_visualization(\n",
    "    loss_list, acc_list, epoch_or_batch=\"Epoch\", step=\"Train\"\n",
    "):\n",
    "\n",
    "    x = range(len(loss_list))\n",
    "    plt.title(step + \" Loss Performance\")\n",
    "\n",
    "    # Loss plot\n",
    "    plt.subplot(1, 2, 1)\n",
    "    plt.xlabel(epoch_or_batch)\n",
    "    plt.ylabel(\"Loss\")\n",
    "    plt.plot(x, loss_list, \"-\")\n",
    "    plt.title(step + \" Loss Performance\")\n",
    "\n",
    "    # Accuracy plot\n",
    "    plt.subplot(1, 2, 2)\n",
    "    plt.xlabel(epoch_or_batch)\n",
    "    plt.ylabel(\"Accuracy\")\n",
    "    plt.plot(x, acc_list, \"-\")\n",
    "    plt.title(step + \"  Acc Performance\")\n",
    "\n",
    "    plt.subplots_adjust(wspace=0.4)\n",
    "    plt.suptitle(epoch_or_batch + \" - \" + step)\n",
    "    plt.show()\n",
    "\n",
    "\n",
    "plot_roc_curve(y_test, y_prob, labels)\n",
    "if not weights_retrieved:\n",
    "    performance_visualization(\n",
    "        model.df_performance_train_batch[\"train_batch_loss\"].to_numpy(),\n",
    "        model.df_performance_train_batch[\"train_batch_acc\"].to_numpy(),\n",
    "        epoch_or_batch=\"Batch\",\n",
    "        step=\"Train\",\n",
    "    )\n",
    "    performance_visualization(\n",
    "        model.df_performance_train_epoch[\"train_epoch_loss\"].to_numpy(),\n",
    "        model.df_performance_train_epoch[\"train_epoch_acc\"].to_numpy(),\n",
    "        epoch_or_batch=\"Epoch\",\n",
    "        step=\"Train\",\n",
    "    )\n",
    "    performance_visualization(\n",
    "        model.df_performance_valid_batch[\"valid_batch_loss\"].to_numpy(),\n",
    "        model.df_performance_valid_batch[\"valid_batch_acc\"].to_numpy(),\n",
    "        epoch_or_batch=\"Batch\",\n",
    "        step=\"Valid\",\n",
    "    )\n",
    "    performance_visualization(\n",
    "        model.df_performance_valid_epoch[\"valid_epoch_loss\"].to_numpy(),\n",
    "        model.df_performance_valid_epoch[\"valid_epoch_acc\"].to_numpy(),\n",
    "        epoch_or_batch=\"Epoch\",\n",
    "        step=\"Valid\",\n",
    "    )"
   ]
  },
  {
   "cell_type": "markdown",
   "metadata": {
    "colab_type": "text",
    "id": "msQktuMzcfkR"
   },
   "source": [
    "## Salva modelo e outros artefatos"
   ]
  },
  {
   "cell_type": "markdown",
   "metadata": {},
   "source": [
    "Modelo Pytorch Lightining"
   ]
  },
  {
   "cell_type": "code",
   "execution_count": 67,
   "metadata": {},
   "outputs": [],
   "source": [
    "file_name = \"pytorch_model.pt\"\n",
    "torch.save(model.state_dict(), f\"/tmp/data/{file_name}\")"
   ]
  },
  {
   "cell_type": "markdown",
   "metadata": {},
   "source": [
    "Artefatos"
   ]
  },
  {
   "cell_type": "code",
   "execution_count": 69,
   "metadata": {
    "colab": {},
    "colab_type": "code",
    "id": "DF_B2lfQcfkS",
    "outputId": "d1aaf736-223d-4589-ea1e-f42b94b800b2"
   },
   "outputs": [],
   "source": [
    "import pickle\n",
    "\n",
    "dataset_infos = {\"all_data\": all_data}\n",
    "deployment_infos = {\"columns\": columns, \"X_test\": X_test, \"glove_vocab\": glove_vocab}\n",
    "artifacts = {\n",
    "    \"hyperparams\": hyperparams,\n",
    "    \"model_parameters\": model_parameters,\n",
    "    \"dataset_infos\": dataset_infos,\n",
    "    \"extra_infos\": extra_infos,\n",
    "    \"deployment_infos\": deployment_infos,\n",
    "}\n",
    "file_name = \"artifacts.p\"\n",
    "pickle.dump(artifacts, open(f\"/tmp/data/{file_name}\", \"wb\"))"
   ]
  }
 ],
 "metadata": {
  "accelerator": "GPU",
  "celltoolbar": "Tags",
  "colab": {
   "collapsed_sections": [],
   "name": "GloVe Embeddings Bag Sentiment Analyses .ipynb",
   "provenance": [],
   "toc_visible": true
  },
  "experiment_id": "d930015c-45a2-42eb-912a-541ce198cee6",
  "kernelspec": {
   "display_name": "Python 3",
   "language": "python",
   "name": "python3"
  },
  "language_info": {
   "codemirror_mode": {
    "name": "ipython",
    "version": 3
   },
   "file_extension": ".py",
   "mimetype": "text/x-python",
   "name": "python",
   "nbconvert_exporter": "python",
   "pygments_lexer": "ipython3",
   "version": "3.7.8"
  },
  "operator_id": "fb743ef0-6ddd-4bc1-8d14-ec82ce0ef401",
  "task_id": "a389eadf-b489-4eda-afe5-53c63c0649ce"
 },
 "nbformat": 4,
 "nbformat_minor": 4
}
